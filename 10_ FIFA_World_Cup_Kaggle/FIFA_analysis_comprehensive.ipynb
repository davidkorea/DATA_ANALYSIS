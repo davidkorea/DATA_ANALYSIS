{
  "cells": [
    {
      "metadata": {
        "_uuid": "8f2839f25d086af736a60e9eeb907d3b93b6e0e5",
        "_cell_guid": "b1076dfc-b9ad-4769-8c92-a6c4dae69d19",
        "trusted": true
      },
      "cell_type": "code",
      "source": "import numpy as np # linear algebra\nimport pandas as pd # data processing, CSV file I/O (e.g. pd.read_csv)\nimport os\nprint(os.listdir(\"../input\"))\nimport matplotlib.pyplot as plt\nimport seaborn as sns",
      "execution_count": 1,
      "outputs": [
        {
          "output_type": "stream",
          "text": "['WorldCups.csv', 'WorldCupMatches.csv', 'WorldCupPlayers.csv']\n",
          "name": "stdout"
        }
      ]
    },
    {
      "metadata": {
        "_uuid": "5f7e7cce5e4ee3570d349ce7d44f270740ef122e"
      },
      "cell_type": "markdown",
      "source": "Reference : [Nathan Lauga: Data visualization of FIFA World Cup 📊](https://www.kaggle.com/nathanlauga/data-visualization-of-fifa-world-cup/notebook)"
    },
    {
      "metadata": {
        "_uuid": "5f29afb3ba4eae191fd7cc7b80d616572b60a1ac"
      },
      "cell_type": "markdown",
      "source": "# 0. Clean Data"
    },
    {
      "metadata": {
        "_cell_guid": "79c7e3d0-c299-4dcb-8224-4455121ee9b0",
        "_uuid": "d629ff2d2480ee46fbb7e2d37f6b5fab8052498a",
        "trusted": true
      },
      "cell_type": "code",
      "source": "match_df = pd.read_csv('../input/WorldCupMatches.csv', encoding='Latin-1')\ncup_df = pd.read_csv('../input/WorldCups.csv', encoding='Latin-1')",
      "execution_count": 2,
      "outputs": []
    },
    {
      "metadata": {
        "trusted": true,
        "_uuid": "66780d7b23d87870c50af70a2ff146db74342eca"
      },
      "cell_type": "code",
      "source": "match_df.head()",
      "execution_count": 3,
      "outputs": [
        {
          "output_type": "execute_result",
          "execution_count": 3,
          "data": {
            "text/plain": "     Year        ...         Away Team Initials\n0  1930.0        ...                        MEX\n1  1930.0        ...                        BEL\n2  1930.0        ...                        BRA\n3  1930.0        ...                        PER\n4  1930.0        ...                        FRA\n\n[5 rows x 20 columns]",
            "text/html": "<div>\n<style scoped>\n    .dataframe tbody tr th:only-of-type {\n        vertical-align: middle;\n    }\n\n    .dataframe tbody tr th {\n        vertical-align: top;\n    }\n\n    .dataframe thead th {\n        text-align: right;\n    }\n</style>\n<table border=\"1\" class=\"dataframe\">\n  <thead>\n    <tr style=\"text-align: right;\">\n      <th></th>\n      <th>Year</th>\n      <th>Datetime</th>\n      <th>Stage</th>\n      <th>Stadium</th>\n      <th>City</th>\n      <th>Home Team Name</th>\n      <th>Home Team Goals</th>\n      <th>Away Team Goals</th>\n      <th>Away Team Name</th>\n      <th>Win conditions</th>\n      <th>Attendance</th>\n      <th>Half-time Home Goals</th>\n      <th>Half-time Away Goals</th>\n      <th>Referee</th>\n      <th>Assistant 1</th>\n      <th>Assistant 2</th>\n      <th>RoundID</th>\n      <th>MatchID</th>\n      <th>Home Team Initials</th>\n      <th>Away Team Initials</th>\n    </tr>\n  </thead>\n  <tbody>\n    <tr>\n      <th>0</th>\n      <td>1930.0</td>\n      <td>13 Jul 1930 - 15:00</td>\n      <td>Group 1</td>\n      <td>Pocitos</td>\n      <td>Montevideo</td>\n      <td>France</td>\n      <td>4.0</td>\n      <td>1.0</td>\n      <td>Mexico</td>\n      <td></td>\n      <td>4444.0</td>\n      <td>3.0</td>\n      <td>0.0</td>\n      <td>LOMBARDI Domingo (URU)</td>\n      <td>CRISTOPHE Henry (BEL)</td>\n      <td>REGO Gilberto (BRA)</td>\n      <td>201.0</td>\n      <td>1096.0</td>\n      <td>FRA</td>\n      <td>MEX</td>\n    </tr>\n    <tr>\n      <th>1</th>\n      <td>1930.0</td>\n      <td>13 Jul 1930 - 15:00</td>\n      <td>Group 4</td>\n      <td>Parque Central</td>\n      <td>Montevideo</td>\n      <td>USA</td>\n      <td>3.0</td>\n      <td>0.0</td>\n      <td>Belgium</td>\n      <td></td>\n      <td>18346.0</td>\n      <td>2.0</td>\n      <td>0.0</td>\n      <td>MACIAS Jose (ARG)</td>\n      <td>MATEUCCI Francisco (URU)</td>\n      <td>WARNKEN Alberto (CHI)</td>\n      <td>201.0</td>\n      <td>1090.0</td>\n      <td>USA</td>\n      <td>BEL</td>\n    </tr>\n    <tr>\n      <th>2</th>\n      <td>1930.0</td>\n      <td>14 Jul 1930 - 12:45</td>\n      <td>Group 2</td>\n      <td>Parque Central</td>\n      <td>Montevideo</td>\n      <td>Yugoslavia</td>\n      <td>2.0</td>\n      <td>1.0</td>\n      <td>Brazil</td>\n      <td></td>\n      <td>24059.0</td>\n      <td>2.0</td>\n      <td>0.0</td>\n      <td>TEJADA Anibal (URU)</td>\n      <td>VALLARINO Ricardo (URU)</td>\n      <td>BALWAY Thomas (FRA)</td>\n      <td>201.0</td>\n      <td>1093.0</td>\n      <td>YUG</td>\n      <td>BRA</td>\n    </tr>\n    <tr>\n      <th>3</th>\n      <td>1930.0</td>\n      <td>14 Jul 1930 - 14:50</td>\n      <td>Group 3</td>\n      <td>Pocitos</td>\n      <td>Montevideo</td>\n      <td>Romania</td>\n      <td>3.0</td>\n      <td>1.0</td>\n      <td>Peru</td>\n      <td></td>\n      <td>2549.0</td>\n      <td>1.0</td>\n      <td>0.0</td>\n      <td>WARNKEN Alberto (CHI)</td>\n      <td>LANGENUS Jean (BEL)</td>\n      <td>MATEUCCI Francisco (URU)</td>\n      <td>201.0</td>\n      <td>1098.0</td>\n      <td>ROU</td>\n      <td>PER</td>\n    </tr>\n    <tr>\n      <th>4</th>\n      <td>1930.0</td>\n      <td>15 Jul 1930 - 16:00</td>\n      <td>Group 1</td>\n      <td>Parque Central</td>\n      <td>Montevideo</td>\n      <td>Argentina</td>\n      <td>1.0</td>\n      <td>0.0</td>\n      <td>France</td>\n      <td></td>\n      <td>23409.0</td>\n      <td>0.0</td>\n      <td>0.0</td>\n      <td>REGO Gilberto (BRA)</td>\n      <td>SAUCEDO Ulises (BOL)</td>\n      <td>RADULESCU Constantin (ROU)</td>\n      <td>201.0</td>\n      <td>1085.0</td>\n      <td>ARG</td>\n      <td>FRA</td>\n    </tr>\n  </tbody>\n</table>\n</div>"
          },
          "metadata": {}
        }
      ]
    },
    {
      "metadata": {
        "_uuid": "7b8041086d8358192867e27045a729e402d56611"
      },
      "cell_type": "markdown",
      "source": "match_df\n- dropna\n- year: astype(int)\n- split date: str.split('-').str[0] \n- stadium: split and use only first word\n- Germany FR -> Germany\n\n확인\n- ```match_df[match_df['Home Team Name'].str.contains('Germany')]```"
    },
    {
      "metadata": {
        "trusted": true,
        "_uuid": "675e08e1ef35679c8af9a8319e910ea5aaa0748e"
      },
      "cell_type": "code",
      "source": "match_df = match_df.dropna()\nmatch_df['Year'] = match_df['Year'].astype(int)\nmatch_df['date'] = match_df['Datetime'].str.split('-').str[0]\nmatch_df['Stadium'] = match_df['Stadium'].str.split().str[0]\nmatch_df = match_df.replace('Germany FR','Germany')",
      "execution_count": 4,
      "outputs": []
    },
    {
      "metadata": {
        "trusted": true,
        "_uuid": "a1ca1307f3088cecd01054ac6a3dfccb5558e426"
      },
      "cell_type": "code",
      "source": "cup_df.head()",
      "execution_count": 5,
      "outputs": [
        {
          "output_type": "execute_result",
          "execution_count": 5,
          "data": {
            "text/plain": "   Year      Country    ...     MatchesPlayed Attendance\n0  1930      Uruguay    ...                18    590.549\n1  1934        Italy    ...                17    363.000\n2  1938       France    ...                18    375.700\n3  1950       Brazil    ...                22  1.045.246\n4  1954  Switzerland    ...                26    768.607\n\n[5 rows x 10 columns]",
            "text/html": "<div>\n<style scoped>\n    .dataframe tbody tr th:only-of-type {\n        vertical-align: middle;\n    }\n\n    .dataframe tbody tr th {\n        vertical-align: top;\n    }\n\n    .dataframe thead th {\n        text-align: right;\n    }\n</style>\n<table border=\"1\" class=\"dataframe\">\n  <thead>\n    <tr style=\"text-align: right;\">\n      <th></th>\n      <th>Year</th>\n      <th>Country</th>\n      <th>Winner</th>\n      <th>Runners-Up</th>\n      <th>Third</th>\n      <th>Fourth</th>\n      <th>GoalsScored</th>\n      <th>QualifiedTeams</th>\n      <th>MatchesPlayed</th>\n      <th>Attendance</th>\n    </tr>\n  </thead>\n  <tbody>\n    <tr>\n      <th>0</th>\n      <td>1930</td>\n      <td>Uruguay</td>\n      <td>Uruguay</td>\n      <td>Argentina</td>\n      <td>USA</td>\n      <td>Yugoslavia</td>\n      <td>70</td>\n      <td>13</td>\n      <td>18</td>\n      <td>590.549</td>\n    </tr>\n    <tr>\n      <th>1</th>\n      <td>1934</td>\n      <td>Italy</td>\n      <td>Italy</td>\n      <td>Czechoslovakia</td>\n      <td>Germany</td>\n      <td>Austria</td>\n      <td>70</td>\n      <td>16</td>\n      <td>17</td>\n      <td>363.000</td>\n    </tr>\n    <tr>\n      <th>2</th>\n      <td>1938</td>\n      <td>France</td>\n      <td>Italy</td>\n      <td>Hungary</td>\n      <td>Brazil</td>\n      <td>Sweden</td>\n      <td>84</td>\n      <td>15</td>\n      <td>18</td>\n      <td>375.700</td>\n    </tr>\n    <tr>\n      <th>3</th>\n      <td>1950</td>\n      <td>Brazil</td>\n      <td>Uruguay</td>\n      <td>Brazil</td>\n      <td>Sweden</td>\n      <td>Spain</td>\n      <td>88</td>\n      <td>13</td>\n      <td>22</td>\n      <td>1.045.246</td>\n    </tr>\n    <tr>\n      <th>4</th>\n      <td>1954</td>\n      <td>Switzerland</td>\n      <td>Germany FR</td>\n      <td>Hungary</td>\n      <td>Austria</td>\n      <td>Uruguay</td>\n      <td>140</td>\n      <td>16</td>\n      <td>26</td>\n      <td>768.607</td>\n    </tr>\n  </tbody>\n</table>\n</div>"
          },
          "metadata": {}
        }
      ]
    },
    {
      "metadata": {
        "_uuid": "32697c6aca9212aab7ced6f19906dbffec5b4868"
      },
      "cell_type": "markdown",
      "source": "cup_df\n- Germany FR -> Germany\n- attendance: str.replace('.', '')\n- year; astype(str) \n    #TypeError: sequence item 0: expected str instance, int found\n"
    },
    {
      "metadata": {
        "trusted": true,
        "_uuid": "8c770c78452ff38c2bb4d2b24a964baca87c3b83"
      },
      "cell_type": "code",
      "source": "cup_df = cup_df.replace('Germany FR','Germany')\ncup_df[\"Attendance\"] = cup_df['Attendance'].str.replace('.','').astype(int)\ncup_df['Year'] = cup_df['Year'].astype(str)",
      "execution_count": 6,
      "outputs": []
    },
    {
      "metadata": {
        "trusted": true,
        "_uuid": "71e307fe2af94adcdd817d5d7ac0e27cbd3e99c2"
      },
      "cell_type": "code",
      "source": "",
      "execution_count": null,
      "outputs": []
    },
    {
      "metadata": {
        "_uuid": "1773345dcbeb1a2b9b8733bdfd48b96178e28471"
      },
      "cell_type": "markdown",
      "source": "# 1. Which countries had won the cup ?\n- prize 1st, 2nd, 3rd country count\n- years of prize\n\nview\n- group barh\n- x: count\n- y: country name \n- show text(year) on each bar"
    },
    {
      "metadata": {
        "trusted": true,
        "_uuid": "c363feaf4d9a9a01aa62395c0fa494ceb380a8b2"
      },
      "cell_type": "code",
      "source": "cup_df.head(3)",
      "execution_count": 7,
      "outputs": [
        {
          "output_type": "execute_result",
          "execution_count": 7,
          "data": {
            "text/plain": "   Year  Country   Winner    ...     QualifiedTeams MatchesPlayed Attendance\n0  1930  Uruguay  Uruguay    ...                 13            18     590549\n1  1934    Italy    Italy    ...                 16            17     363000\n2  1938   France    Italy    ...                 15            18     375700\n\n[3 rows x 10 columns]",
            "text/html": "<div>\n<style scoped>\n    .dataframe tbody tr th:only-of-type {\n        vertical-align: middle;\n    }\n\n    .dataframe tbody tr th {\n        vertical-align: top;\n    }\n\n    .dataframe thead th {\n        text-align: right;\n    }\n</style>\n<table border=\"1\" class=\"dataframe\">\n  <thead>\n    <tr style=\"text-align: right;\">\n      <th></th>\n      <th>Year</th>\n      <th>Country</th>\n      <th>Winner</th>\n      <th>Runners-Up</th>\n      <th>Third</th>\n      <th>Fourth</th>\n      <th>GoalsScored</th>\n      <th>QualifiedTeams</th>\n      <th>MatchesPlayed</th>\n      <th>Attendance</th>\n    </tr>\n  </thead>\n  <tbody>\n    <tr>\n      <th>0</th>\n      <td>1930</td>\n      <td>Uruguay</td>\n      <td>Uruguay</td>\n      <td>Argentina</td>\n      <td>USA</td>\n      <td>Yugoslavia</td>\n      <td>70</td>\n      <td>13</td>\n      <td>18</td>\n      <td>590549</td>\n    </tr>\n    <tr>\n      <th>1</th>\n      <td>1934</td>\n      <td>Italy</td>\n      <td>Italy</td>\n      <td>Czechoslovakia</td>\n      <td>Germany</td>\n      <td>Austria</td>\n      <td>70</td>\n      <td>16</td>\n      <td>17</td>\n      <td>363000</td>\n    </tr>\n    <tr>\n      <th>2</th>\n      <td>1938</td>\n      <td>France</td>\n      <td>Italy</td>\n      <td>Hungary</td>\n      <td>Brazil</td>\n      <td>Sweden</td>\n      <td>84</td>\n      <td>15</td>\n      <td>18</td>\n      <td>375700</td>\n    </tr>\n  </tbody>\n</table>\n</div>"
          },
          "metadata": {}
        }
      ]
    },
    {
      "metadata": {
        "trusted": true,
        "_uuid": "3e0b1ba153f9330fd2168e85f37dc0de1f1f8502"
      },
      "cell_type": "code",
      "source": "winner_count_df = cup_df['Winner'].value_counts().reset_index()\nwinner_count_df.columns = ['country','count']\nwinner_count_df",
      "execution_count": 8,
      "outputs": [
        {
          "output_type": "execute_result",
          "execution_count": 8,
          "data": {
            "text/plain": "     country  count\n0     Brazil      5\n1      Italy      4\n2    Germany      4\n3  Argentina      2\n4    Uruguay      2\n5     France      1\n6      Spain      1\n7    England      1",
            "text/html": "<div>\n<style scoped>\n    .dataframe tbody tr th:only-of-type {\n        vertical-align: middle;\n    }\n\n    .dataframe tbody tr th {\n        vertical-align: top;\n    }\n\n    .dataframe thead th {\n        text-align: right;\n    }\n</style>\n<table border=\"1\" class=\"dataframe\">\n  <thead>\n    <tr style=\"text-align: right;\">\n      <th></th>\n      <th>country</th>\n      <th>count</th>\n    </tr>\n  </thead>\n  <tbody>\n    <tr>\n      <th>0</th>\n      <td>Brazil</td>\n      <td>5</td>\n    </tr>\n    <tr>\n      <th>1</th>\n      <td>Italy</td>\n      <td>4</td>\n    </tr>\n    <tr>\n      <th>2</th>\n      <td>Germany</td>\n      <td>4</td>\n    </tr>\n    <tr>\n      <th>3</th>\n      <td>Argentina</td>\n      <td>2</td>\n    </tr>\n    <tr>\n      <th>4</th>\n      <td>Uruguay</td>\n      <td>2</td>\n    </tr>\n    <tr>\n      <th>5</th>\n      <td>France</td>\n      <td>1</td>\n    </tr>\n    <tr>\n      <th>6</th>\n      <td>Spain</td>\n      <td>1</td>\n    </tr>\n    <tr>\n      <th>7</th>\n      <td>England</td>\n      <td>1</td>\n    </tr>\n  </tbody>\n</table>\n</div>"
          },
          "metadata": {}
        }
      ]
    },
    {
      "metadata": {
        "trusted": true,
        "_uuid": "546b763871cfd52f3151ae237c465c6ad37d4b42"
      },
      "cell_type": "code",
      "source": "winner_year_df = cup_df.groupby('Winner')['Year'].apply(' '.join).reset_index()\n# TypeError: sequence item 0: expected str instance, int found\nwinner_year_df.columns = ['country','year_str']\nwinner_year_df",
      "execution_count": 9,
      "outputs": [
        {
          "output_type": "execute_result",
          "execution_count": 9,
          "data": {
            "text/plain": "     country                  year_str\n0  Argentina                 1978 1986\n1     Brazil  1958 1962 1970 1994 2002\n2    England                      1966\n3     France                      1998\n4    Germany       1954 1974 1990 2014\n5      Italy       1934 1938 1982 2006\n6      Spain                      2010\n7    Uruguay                 1930 1950",
            "text/html": "<div>\n<style scoped>\n    .dataframe tbody tr th:only-of-type {\n        vertical-align: middle;\n    }\n\n    .dataframe tbody tr th {\n        vertical-align: top;\n    }\n\n    .dataframe thead th {\n        text-align: right;\n    }\n</style>\n<table border=\"1\" class=\"dataframe\">\n  <thead>\n    <tr style=\"text-align: right;\">\n      <th></th>\n      <th>country</th>\n      <th>year_str</th>\n    </tr>\n  </thead>\n  <tbody>\n    <tr>\n      <th>0</th>\n      <td>Argentina</td>\n      <td>1978 1986</td>\n    </tr>\n    <tr>\n      <th>1</th>\n      <td>Brazil</td>\n      <td>1958 1962 1970 1994 2002</td>\n    </tr>\n    <tr>\n      <th>2</th>\n      <td>England</td>\n      <td>1966</td>\n    </tr>\n    <tr>\n      <th>3</th>\n      <td>France</td>\n      <td>1998</td>\n    </tr>\n    <tr>\n      <th>4</th>\n      <td>Germany</td>\n      <td>1954 1974 1990 2014</td>\n    </tr>\n    <tr>\n      <th>5</th>\n      <td>Italy</td>\n      <td>1934 1938 1982 2006</td>\n    </tr>\n    <tr>\n      <th>6</th>\n      <td>Spain</td>\n      <td>2010</td>\n    </tr>\n    <tr>\n      <th>7</th>\n      <td>Uruguay</td>\n      <td>1930 1950</td>\n    </tr>\n  </tbody>\n</table>\n</div>"
          },
          "metadata": {}
        }
      ]
    },
    {
      "metadata": {
        "trusted": true,
        "_uuid": "82df5203b6116d9809e74c248e2c9d70268b1d4f"
      },
      "cell_type": "code",
      "source": "winner_df = pd.merge(winner_year_df,winner_count_df,on='country')\nwinner_df",
      "execution_count": 10,
      "outputs": [
        {
          "output_type": "execute_result",
          "execution_count": 10,
          "data": {
            "text/plain": "     country                  year_str  count\n0  Argentina                 1978 1986      2\n1     Brazil  1958 1962 1970 1994 2002      5\n2    England                      1966      1\n3     France                      1998      1\n4    Germany       1954 1974 1990 2014      4\n5      Italy       1934 1938 1982 2006      4\n6      Spain                      2010      1\n7    Uruguay                 1930 1950      2",
            "text/html": "<div>\n<style scoped>\n    .dataframe tbody tr th:only-of-type {\n        vertical-align: middle;\n    }\n\n    .dataframe tbody tr th {\n        vertical-align: top;\n    }\n\n    .dataframe thead th {\n        text-align: right;\n    }\n</style>\n<table border=\"1\" class=\"dataframe\">\n  <thead>\n    <tr style=\"text-align: right;\">\n      <th></th>\n      <th>country</th>\n      <th>year_str</th>\n      <th>count</th>\n    </tr>\n  </thead>\n  <tbody>\n    <tr>\n      <th>0</th>\n      <td>Argentina</td>\n      <td>1978 1986</td>\n      <td>2</td>\n    </tr>\n    <tr>\n      <th>1</th>\n      <td>Brazil</td>\n      <td>1958 1962 1970 1994 2002</td>\n      <td>5</td>\n    </tr>\n    <tr>\n      <th>2</th>\n      <td>England</td>\n      <td>1966</td>\n      <td>1</td>\n    </tr>\n    <tr>\n      <th>3</th>\n      <td>France</td>\n      <td>1998</td>\n      <td>1</td>\n    </tr>\n    <tr>\n      <th>4</th>\n      <td>Germany</td>\n      <td>1954 1974 1990 2014</td>\n      <td>4</td>\n    </tr>\n    <tr>\n      <th>5</th>\n      <td>Italy</td>\n      <td>1934 1938 1982 2006</td>\n      <td>4</td>\n    </tr>\n    <tr>\n      <th>6</th>\n      <td>Spain</td>\n      <td>2010</td>\n      <td>1</td>\n    </tr>\n    <tr>\n      <th>7</th>\n      <td>Uruguay</td>\n      <td>1930 1950</td>\n      <td>2</td>\n    </tr>\n  </tbody>\n</table>\n</div>"
          },
          "metadata": {}
        }
      ]
    },
    {
      "metadata": {
        "trusted": true,
        "_uuid": "79c326f5e259e3695840a204458b592f4051fc39"
      },
      "cell_type": "code",
      "source": "prize_list = ['Winner','Runners-Up','Third']\nprize_df_list = []\nfor prize in prize_list:\n    prize_count = cup_df[prize].value_counts().reset_index()\n    prize_count.columns = ['country','{}_count'.format(prize)]\n    prize_year = cup_df.groupby(prize)['Year'].apply(' '.join).reset_index()\n    prize_year.columns = ['country', '{}_year_str'.format(prize)]\n    prize_df = pd.merge(prize_year,prize_count,on='country')\n    prize_df_list.append(prize_df)\n# all_df = pd.merge(prize_df_list,on='country',how='outer')\n# TypeError: merge() missing 1 required positional argument: 'right'\n\nall_df = prize_df_list[0].merge(prize_df_list[1],on='country',how='outer').merge(prize_df_list[2],on='country',how='outer')\nall_df = all_df.sort_values(by=['Winner_count','Runners-Up_count','Third_count'], ascending=False)\nall_df\n# can not write text on bar plot, year_str doesn't make sense",
      "execution_count": 11,
      "outputs": [
        {
          "output_type": "execute_result",
          "execution_count": 11,
          "data": {
            "text/plain": "           country     ...     Third_count\n1           Brazil     ...             2.0\n4          Germany     ...             4.0\n5            Italy     ...             1.0\n0        Argentina     ...             NaN\n7          Uruguay     ...             NaN\n3           France     ...             2.0\n2          England     ...             NaN\n6            Spain     ...             NaN\n10     Netherlands     ...             1.0\n8   Czechoslovakia     ...             NaN\n9          Hungary     ...             NaN\n11          Sweden     ...             2.0\n15          Poland     ...             2.0\n12         Austria     ...             1.0\n13           Chile     ...             1.0\n14         Croatia     ...             1.0\n16        Portugal     ...             1.0\n17          Turkey     ...             1.0\n18             USA     ...             1.0\n\n[19 rows x 7 columns]",
            "text/html": "<div>\n<style scoped>\n    .dataframe tbody tr th:only-of-type {\n        vertical-align: middle;\n    }\n\n    .dataframe tbody tr th {\n        vertical-align: top;\n    }\n\n    .dataframe thead th {\n        text-align: right;\n    }\n</style>\n<table border=\"1\" class=\"dataframe\">\n  <thead>\n    <tr style=\"text-align: right;\">\n      <th></th>\n      <th>country</th>\n      <th>Winner_year_str</th>\n      <th>Winner_count</th>\n      <th>Runners-Up_year_str</th>\n      <th>Runners-Up_count</th>\n      <th>Third_year_str</th>\n      <th>Third_count</th>\n    </tr>\n  </thead>\n  <tbody>\n    <tr>\n      <th>1</th>\n      <td>Brazil</td>\n      <td>1958 1962 1970 1994 2002</td>\n      <td>5.0</td>\n      <td>1950 1998</td>\n      <td>2.0</td>\n      <td>1938 1978</td>\n      <td>2.0</td>\n    </tr>\n    <tr>\n      <th>4</th>\n      <td>Germany</td>\n      <td>1954 1974 1990 2014</td>\n      <td>4.0</td>\n      <td>1966 1982 1986 2002</td>\n      <td>4.0</td>\n      <td>1934 1970 2006 2010</td>\n      <td>4.0</td>\n    </tr>\n    <tr>\n      <th>5</th>\n      <td>Italy</td>\n      <td>1934 1938 1982 2006</td>\n      <td>4.0</td>\n      <td>1970 1994</td>\n      <td>2.0</td>\n      <td>1990</td>\n      <td>1.0</td>\n    </tr>\n    <tr>\n      <th>0</th>\n      <td>Argentina</td>\n      <td>1978 1986</td>\n      <td>2.0</td>\n      <td>1930 1990 2014</td>\n      <td>3.0</td>\n      <td>NaN</td>\n      <td>NaN</td>\n    </tr>\n    <tr>\n      <th>7</th>\n      <td>Uruguay</td>\n      <td>1930 1950</td>\n      <td>2.0</td>\n      <td>NaN</td>\n      <td>NaN</td>\n      <td>NaN</td>\n      <td>NaN</td>\n    </tr>\n    <tr>\n      <th>3</th>\n      <td>France</td>\n      <td>1998</td>\n      <td>1.0</td>\n      <td>2006</td>\n      <td>1.0</td>\n      <td>1958 1986</td>\n      <td>2.0</td>\n    </tr>\n    <tr>\n      <th>2</th>\n      <td>England</td>\n      <td>1966</td>\n      <td>1.0</td>\n      <td>NaN</td>\n      <td>NaN</td>\n      <td>NaN</td>\n      <td>NaN</td>\n    </tr>\n    <tr>\n      <th>6</th>\n      <td>Spain</td>\n      <td>2010</td>\n      <td>1.0</td>\n      <td>NaN</td>\n      <td>NaN</td>\n      <td>NaN</td>\n      <td>NaN</td>\n    </tr>\n    <tr>\n      <th>10</th>\n      <td>Netherlands</td>\n      <td>NaN</td>\n      <td>NaN</td>\n      <td>1974 1978 2010</td>\n      <td>3.0</td>\n      <td>2014</td>\n      <td>1.0</td>\n    </tr>\n    <tr>\n      <th>8</th>\n      <td>Czechoslovakia</td>\n      <td>NaN</td>\n      <td>NaN</td>\n      <td>1934 1962</td>\n      <td>2.0</td>\n      <td>NaN</td>\n      <td>NaN</td>\n    </tr>\n    <tr>\n      <th>9</th>\n      <td>Hungary</td>\n      <td>NaN</td>\n      <td>NaN</td>\n      <td>1938 1954</td>\n      <td>2.0</td>\n      <td>NaN</td>\n      <td>NaN</td>\n    </tr>\n    <tr>\n      <th>11</th>\n      <td>Sweden</td>\n      <td>NaN</td>\n      <td>NaN</td>\n      <td>1958</td>\n      <td>1.0</td>\n      <td>1950 1994</td>\n      <td>2.0</td>\n    </tr>\n    <tr>\n      <th>15</th>\n      <td>Poland</td>\n      <td>NaN</td>\n      <td>NaN</td>\n      <td>NaN</td>\n      <td>NaN</td>\n      <td>1974 1982</td>\n      <td>2.0</td>\n    </tr>\n    <tr>\n      <th>12</th>\n      <td>Austria</td>\n      <td>NaN</td>\n      <td>NaN</td>\n      <td>NaN</td>\n      <td>NaN</td>\n      <td>1954</td>\n      <td>1.0</td>\n    </tr>\n    <tr>\n      <th>13</th>\n      <td>Chile</td>\n      <td>NaN</td>\n      <td>NaN</td>\n      <td>NaN</td>\n      <td>NaN</td>\n      <td>1962</td>\n      <td>1.0</td>\n    </tr>\n    <tr>\n      <th>14</th>\n      <td>Croatia</td>\n      <td>NaN</td>\n      <td>NaN</td>\n      <td>NaN</td>\n      <td>NaN</td>\n      <td>1998</td>\n      <td>1.0</td>\n    </tr>\n    <tr>\n      <th>16</th>\n      <td>Portugal</td>\n      <td>NaN</td>\n      <td>NaN</td>\n      <td>NaN</td>\n      <td>NaN</td>\n      <td>1966</td>\n      <td>1.0</td>\n    </tr>\n    <tr>\n      <th>17</th>\n      <td>Turkey</td>\n      <td>NaN</td>\n      <td>NaN</td>\n      <td>NaN</td>\n      <td>NaN</td>\n      <td>2002</td>\n      <td>1.0</td>\n    </tr>\n    <tr>\n      <th>18</th>\n      <td>USA</td>\n      <td>NaN</td>\n      <td>NaN</td>\n      <td>NaN</td>\n      <td>NaN</td>\n      <td>1930</td>\n      <td>1.0</td>\n    </tr>\n  </tbody>\n</table>\n</div>"
          },
          "metadata": {}
        }
      ]
    },
    {
      "metadata": {
        "trusted": true,
        "_uuid": "4fb0100962a45cb6c6d0b1569b5b95eb6717fb8c"
      },
      "cell_type": "code",
      "source": "# all_df.plot(kind='barh',x='country',figsize=(12,24),colormap=['gold','silver','brown'])\nall_df.plot(kind='bar',x='country',y=['Winner_count','Runners-Up_count','Third_count'],figsize=(18,6),color =['gold','silver','brown'],\n           linewidth=0.7, edgecolor='w',fontsize=15,width=0.8, align='center')\n# width: bar/bin width\n# color=['red','blue','#d88c03']\n# plt.grid(True)\nplt.xlabel('Countries')\nplt.ylabel('Number of podium')\nplt.title('Number of podium by country')\n# can not write text on!!!!!",
      "execution_count": 12,
      "outputs": [
        {
          "output_type": "execute_result",
          "execution_count": 12,
          "data": {
            "text/plain": "Text(0.5,1,'Number of podium by country')"
          },
          "metadata": {}
        },
        {
          "output_type": "display_data",
          "data": {
            "text/plain": "<Figure size 1296x432 with 1 Axes>",
            "image/png": "[encoded data removed]"
          },
          "metadata": {}
        }
      ]
    },
    {
      "metadata": {
        "trusted": true,
        "_uuid": "de6da3c667e54a11dd5fe60e2336dd668fa920a3"
      },
      "cell_type": "code",
      "source": "import plotly.offline as py\npy.init_notebook_mode(connected=True)\nimport plotly.graph_objs as go\nimport plotly.tools as tls",
      "execution_count": 13,
      "outputs": [
        {
          "output_type": "display_data",
          "data": {
            "text/html": "<script>requirejs.config({paths: { 'plotly': ['https://cdn.plot.ly/plotly-latest.min']},});if(!window.Plotly) {{require(['plotly'],function(plotly) {window.Plotly=plotly;});}}</script>",
            "text/vnd.plotly.v1+html": "<script>requirejs.config({paths: { 'plotly': ['https://cdn.plot.ly/plotly-latest.min']},});if(!window.Plotly) {{require(['plotly'],function(plotly) {window.Plotly=plotly;});}}</script>"
          },
          "metadata": {}
        }
      ]
    },
    {
      "metadata": {
        "trusted": true,
        "_uuid": "28611ba4baaa157ffb0e39ded3d780fc8da74d6c"
      },
      "cell_type": "code",
      "source": "data= []\n\n# each x:country has the ammount of y:prize divided by name/type:prize\n# easy to understand to see the data\nfor prize in prize_list:\n    country = all_df['country']\n    count = all_df['{}_count'.format(prize)]\n    data.append(\n        go.Bar(\n            x=country,\n            y=count,\n            name = prize,\n        )\n    )\n\nlayout = go.Layout(\n    barmode = \"stack\", \n    title = \"Number of podium by country\",\n#     showlegend = False\n)\n\nfig = go.Figure(data=data, layout=layout)\npy.iplot(fig, filename='pyplot-fifa')",
      "execution_count": 14,
      "outputs": [
        {
          "output_type": "display_data",
          "data": {
            "application/vnd.plotly.v1+json": {
              "data": [
                {
                  "name": "Winner",
                  "x": [
                    "Brazil",
                    "Germany",
                    "Italy",
                    "Argentina",
                    "Uruguay",
                    "France",
                    "England",
                    "Spain",
                    "Netherlands",
                    "Czechoslovakia",
                    "Hungary",
                    "Sweden",
                    "Poland",
                    "Austria",
                    "Chile",
                    "Croatia",
                    "Portugal",
                    "Turkey",
                    "USA"
                  ],
                  "y": [
                    5,
                    4,
                    4,
                    2,
                    2,
                    1,
                    1,
                    1,
                    null,
                    null,
                    null,
                    null,
                    null,
                    null,
                    null,
                    null,
                    null,
                    null,
                    null
                  ],
                  "type": "bar",
                  "uid": "071225f6-ab6c-11e8-88a7-0242ac130005"
                },
                {
                  "name": "Runners-Up",
                  "x": [
                    "Brazil",
                    "Germany",
                    "Italy",
                    "Argentina",
                    "Uruguay",
                    "France",
                    "England",
                    "Spain",
                    "Netherlands",
                    "Czechoslovakia",
                    "Hungary",
                    "Sweden",
                    "Poland",
                    "Austria",
                    "Chile",
                    "Croatia",
                    "Portugal",
                    "Turkey",
                    "USA"
                  ],
                  "y": [
                    2,
                    4,
                    2,
                    3,
                    null,
                    1,
                    null,
                    null,
                    3,
                    2,
                    2,
                    1,
                    null,
                    null,
                    null,
                    null,
                    null,
                    null,
                    null
                  ],
                  "type": "bar",
                  "uid": "07122894-ab6c-11e8-88a7-0242ac130005"
                },
                {
                  "name": "Third",
                  "x": [
                    "Brazil",
                    "Germany",
                    "Italy",
                    "Argentina",
                    "Uruguay",
                    "France",
                    "England",
                    "Spain",
                    "Netherlands",
                    "Czechoslovakia",
                    "Hungary",
                    "Sweden",
                    "Poland",
                    "Austria",
                    "Chile",
                    "Croatia",
                    "Portugal",
                    "Turkey",
                    "USA"
                  ],
                  "y": [
                    2,
                    4,
                    1,
                    null,
                    null,
                    2,
                    null,
                    null,
                    1,
                    null,
                    null,
                    2,
                    2,
                    1,
                    1,
                    1,
                    1,
                    1,
                    1
                  ],
                  "type": "bar",
                  "uid": "07122966-ab6c-11e8-88a7-0242ac130005"
                }
              ],
              "layout": {
                "barmode": "stack",
                "title": "Number of podium by country"
              }
            },
            "text/html": "<div id=\"ddfc98be-d5f4-41df-93d0-331c9ae53e46\" style=\"height: 525px; width: 100%;\" class=\"plotly-graph-div\"></div><script type=\"text/javascript\">require([\"plotly\"], function(Plotly) { window.PLOTLYENV=window.PLOTLYENV || {};window.PLOTLYENV.BASE_URL=\"https://plot.ly\";\n        Plotly.plot(\n            'ddfc98be-d5f4-41df-93d0-331c9ae53e46',\n            [{\"name\": \"Winner\", \"x\": [\"Brazil\", \"Germany\", \"Italy\", \"Argentina\", \"Uruguay\", \"France\", \"England\", \"Spain\", \"Netherlands\", \"Czechoslovakia\", \"Hungary\", \"Sweden\", \"Poland\", \"Austria\", \"Chile\", \"Croatia\", \"Portugal\", \"Turkey\", \"USA\"], \"y\": [5.0, 4.0, 4.0, 2.0, 2.0, 1.0, 1.0, 1.0, null, null, null, null, null, null, null, null, null, null, null], \"type\": \"bar\", \"uid\": \"071225f6-ab6c-11e8-88a7-0242ac130005\"}, {\"name\": \"Runners-Up\", \"x\": [\"Brazil\", \"Germany\", \"Italy\", \"Argentina\", \"Uruguay\", \"France\", \"England\", \"Spain\", \"Netherlands\", \"Czechoslovakia\", \"Hungary\", \"Sweden\", \"Poland\", \"Austria\", \"Chile\", \"Croatia\", \"Portugal\", \"Turkey\", \"USA\"], \"y\": [2.0, 4.0, 2.0, 3.0, null, 1.0, null, null, 3.0, 2.0, 2.0, 1.0, null, null, null, null, null, null, null], \"type\": \"bar\", \"uid\": \"07122894-ab6c-11e8-88a7-0242ac130005\"}, {\"name\": \"Third\", \"x\": [\"Brazil\", \"Germany\", \"Italy\", \"Argentina\", \"Uruguay\", \"France\", \"England\", \"Spain\", \"Netherlands\", \"Czechoslovakia\", \"Hungary\", \"Sweden\", \"Poland\", \"Austria\", \"Chile\", \"Croatia\", \"Portugal\", \"Turkey\", \"USA\"], \"y\": [2.0, 4.0, 1.0, null, null, 2.0, null, null, 1.0, null, null, 2.0, 2.0, 1.0, 1.0, 1.0, 1.0, 1.0, 1.0], \"type\": \"bar\", \"uid\": \"07122966-ab6c-11e8-88a7-0242ac130005\"}],\n            {\"barmode\": \"stack\", \"title\": \"Number of podium by country\"},\n            {\"showLink\": true, \"linkText\": \"Export to plot.ly\"}\n        ).then(function () {return Plotly.addFrames('ddfc98be-d5f4-41df-93d0-331c9ae53e46',{});}).then(function(){Plotly.animate('ddfc98be-d5f4-41df-93d0-331c9ae53e46');})\n        });</script>",
            "text/vnd.plotly.v1+html": "<div id=\"ddfc98be-d5f4-41df-93d0-331c9ae53e46\" style=\"height: 525px; width: 100%;\" class=\"plotly-graph-div\"></div><script type=\"text/javascript\">require([\"plotly\"], function(Plotly) { window.PLOTLYENV=window.PLOTLYENV || {};window.PLOTLYENV.BASE_URL=\"https://plot.ly\";\n        Plotly.plot(\n            'ddfc98be-d5f4-41df-93d0-331c9ae53e46',\n            [{\"name\": \"Winner\", \"x\": [\"Brazil\", \"Germany\", \"Italy\", \"Argentina\", \"Uruguay\", \"France\", \"England\", \"Spain\", \"Netherlands\", \"Czechoslovakia\", \"Hungary\", \"Sweden\", \"Poland\", \"Austria\", \"Chile\", \"Croatia\", \"Portugal\", \"Turkey\", \"USA\"], \"y\": [5.0, 4.0, 4.0, 2.0, 2.0, 1.0, 1.0, 1.0, null, null, null, null, null, null, null, null, null, null, null], \"type\": \"bar\", \"uid\": \"071225f6-ab6c-11e8-88a7-0242ac130005\"}, {\"name\": \"Runners-Up\", \"x\": [\"Brazil\", \"Germany\", \"Italy\", \"Argentina\", \"Uruguay\", \"France\", \"England\", \"Spain\", \"Netherlands\", \"Czechoslovakia\", \"Hungary\", \"Sweden\", \"Poland\", \"Austria\", \"Chile\", \"Croatia\", \"Portugal\", \"Turkey\", \"USA\"], \"y\": [2.0, 4.0, 2.0, 3.0, null, 1.0, null, null, 3.0, 2.0, 2.0, 1.0, null, null, null, null, null, null, null], \"type\": \"bar\", \"uid\": \"07122894-ab6c-11e8-88a7-0242ac130005\"}, {\"name\": \"Third\", \"x\": [\"Brazil\", \"Germany\", \"Italy\", \"Argentina\", \"Uruguay\", \"France\", \"England\", \"Spain\", \"Netherlands\", \"Czechoslovakia\", \"Hungary\", \"Sweden\", \"Poland\", \"Austria\", \"Chile\", \"Croatia\", \"Portugal\", \"Turkey\", \"USA\"], \"y\": [2.0, 4.0, 1.0, null, null, 2.0, null, null, 1.0, null, null, 2.0, 2.0, 1.0, 1.0, 1.0, 1.0, 1.0, 1.0], \"type\": \"bar\", \"uid\": \"07122966-ab6c-11e8-88a7-0242ac130005\"}],\n            {\"barmode\": \"stack\", \"title\": \"Number of podium by country\"},\n            {\"showLink\": true, \"linkText\": \"Export to plot.ly\"}\n        ).then(function () {return Plotly.addFrames('ddfc98be-d5f4-41df-93d0-331c9ae53e46',{});}).then(function(){Plotly.animate('ddfc98be-d5f4-41df-93d0-331c9ae53e46');})\n        });</script>"
          },
          "metadata": {}
        }
      ]
    },
    {
      "metadata": {
        "trusted": true,
        "_uuid": "5e7e7bf09305efa37b5db6563f1150b9adfebc41"
      },
      "cell_type": "code",
      "source": "data",
      "execution_count": 15,
      "outputs": [
        {
          "output_type": "execute_result",
          "execution_count": 15,
          "data": {
            "text/plain": "[Bar({\n     'name': 'Winner',\n     'x': array(['Brazil', 'Germany', 'Italy', 'Argentina', 'Uruguay', 'France',\n                 'England', 'Spain', 'Netherlands', 'Czechoslovakia', 'Hungary',\n                 'Sweden', 'Poland', 'Austria', 'Chile', 'Croatia', 'Portugal', 'Turkey',\n                 'USA'], dtype=object),\n     'y': array([ 5.,  4.,  4.,  2.,  2.,  1.,  1.,  1., nan, nan, nan, nan, nan, nan,\n                 nan, nan, nan, nan, nan])\n }), Bar({\n     'name': 'Runners-Up',\n     'x': array(['Brazil', 'Germany', 'Italy', 'Argentina', 'Uruguay', 'France',\n                 'England', 'Spain', 'Netherlands', 'Czechoslovakia', 'Hungary',\n                 'Sweden', 'Poland', 'Austria', 'Chile', 'Croatia', 'Portugal', 'Turkey',\n                 'USA'], dtype=object),\n     'y': array([ 2.,  4.,  2.,  3., nan,  1., nan, nan,  3.,  2.,  2.,  1., nan, nan,\n                 nan, nan, nan, nan, nan])\n }), Bar({\n     'name': 'Third',\n     'x': array(['Brazil', 'Germany', 'Italy', 'Argentina', 'Uruguay', 'France',\n                 'England', 'Spain', 'Netherlands', 'Czechoslovakia', 'Hungary',\n                 'Sweden', 'Poland', 'Austria', 'Chile', 'Croatia', 'Portugal', 'Turkey',\n                 'USA'], dtype=object),\n     'y': array([ 2.,  4.,  1., nan, nan,  2., nan, nan,  1., nan, nan,  2.,  2.,  1.,\n                  1.,  1.,  1.,  1.,  1.])\n })]"
          },
          "metadata": {}
        }
      ]
    },
    {
      "metadata": {
        "trusted": true,
        "_uuid": "e83dbb3eeb1755874883a368a4eebc7b74c18134"
      },
      "cell_type": "markdown",
      "source": "# 2. Number of goal per country, Top10"
    },
    {
      "metadata": {
        "trusted": true,
        "_uuid": "04477a0033624d5c44af5e1f64f6b89602a0cf44"
      },
      "cell_type": "code",
      "source": "match_df.head(3)",
      "execution_count": 16,
      "outputs": [
        {
          "output_type": "execute_result",
          "execution_count": 16,
          "data": {
            "text/plain": "   Year              Datetime      ...      Away Team Initials          date\n0  1930  13 Jul 1930 - 15:00       ...                     MEX  13 Jul 1930 \n1  1930  13 Jul 1930 - 15:00       ...                     BEL  13 Jul 1930 \n2  1930  14 Jul 1930 - 12:45       ...                     BRA  14 Jul 1930 \n\n[3 rows x 21 columns]",
            "text/html": "<div>\n<style scoped>\n    .dataframe tbody tr th:only-of-type {\n        vertical-align: middle;\n    }\n\n    .dataframe tbody tr th {\n        vertical-align: top;\n    }\n\n    .dataframe thead th {\n        text-align: right;\n    }\n</style>\n<table border=\"1\" class=\"dataframe\">\n  <thead>\n    <tr style=\"text-align: right;\">\n      <th></th>\n      <th>Year</th>\n      <th>Datetime</th>\n      <th>Stage</th>\n      <th>Stadium</th>\n      <th>City</th>\n      <th>Home Team Name</th>\n      <th>Home Team Goals</th>\n      <th>Away Team Goals</th>\n      <th>Away Team Name</th>\n      <th>Win conditions</th>\n      <th>Attendance</th>\n      <th>Half-time Home Goals</th>\n      <th>Half-time Away Goals</th>\n      <th>Referee</th>\n      <th>Assistant 1</th>\n      <th>Assistant 2</th>\n      <th>RoundID</th>\n      <th>MatchID</th>\n      <th>Home Team Initials</th>\n      <th>Away Team Initials</th>\n      <th>date</th>\n    </tr>\n  </thead>\n  <tbody>\n    <tr>\n      <th>0</th>\n      <td>1930</td>\n      <td>13 Jul 1930 - 15:00</td>\n      <td>Group 1</td>\n      <td>Pocitos</td>\n      <td>Montevideo</td>\n      <td>France</td>\n      <td>4.0</td>\n      <td>1.0</td>\n      <td>Mexico</td>\n      <td></td>\n      <td>4444.0</td>\n      <td>3.0</td>\n      <td>0.0</td>\n      <td>LOMBARDI Domingo (URU)</td>\n      <td>CRISTOPHE Henry (BEL)</td>\n      <td>REGO Gilberto (BRA)</td>\n      <td>201.0</td>\n      <td>1096.0</td>\n      <td>FRA</td>\n      <td>MEX</td>\n      <td>13 Jul 1930</td>\n    </tr>\n    <tr>\n      <th>1</th>\n      <td>1930</td>\n      <td>13 Jul 1930 - 15:00</td>\n      <td>Group 4</td>\n      <td>Parque</td>\n      <td>Montevideo</td>\n      <td>USA</td>\n      <td>3.0</td>\n      <td>0.0</td>\n      <td>Belgium</td>\n      <td></td>\n      <td>18346.0</td>\n      <td>2.0</td>\n      <td>0.0</td>\n      <td>MACIAS Jose (ARG)</td>\n      <td>MATEUCCI Francisco (URU)</td>\n      <td>WARNKEN Alberto (CHI)</td>\n      <td>201.0</td>\n      <td>1090.0</td>\n      <td>USA</td>\n      <td>BEL</td>\n      <td>13 Jul 1930</td>\n    </tr>\n    <tr>\n      <th>2</th>\n      <td>1930</td>\n      <td>14 Jul 1930 - 12:45</td>\n      <td>Group 2</td>\n      <td>Parque</td>\n      <td>Montevideo</td>\n      <td>Yugoslavia</td>\n      <td>2.0</td>\n      <td>1.0</td>\n      <td>Brazil</td>\n      <td></td>\n      <td>24059.0</td>\n      <td>2.0</td>\n      <td>0.0</td>\n      <td>TEJADA Anibal (URU)</td>\n      <td>VALLARINO Ricardo (URU)</td>\n      <td>BALWAY Thomas (FRA)</td>\n      <td>201.0</td>\n      <td>1093.0</td>\n      <td>YUG</td>\n      <td>BRA</td>\n      <td>14 Jul 1930</td>\n    </tr>\n  </tbody>\n</table>\n</div>"
          },
          "metadata": {}
        }
      ]
    },
    {
      "metadata": {
        "trusted": true,
        "_uuid": "a7705e2c38bd11cc485ffabe3b27ff8314b01e0e"
      },
      "cell_type": "code",
      "source": "home_goal_df = match_df.groupby('Home Team Name')['Home Team Goals'].sum().reset_index()\nhome_goal_df.columns = ['country','home_goal']\nhome_goal_df.head(3)",
      "execution_count": 17,
      "outputs": [
        {
          "output_type": "execute_result",
          "execution_count": 17,
          "data": {
            "text/plain": "     country  home_goal\n0    Algeria        5.0\n1     Angola        0.0\n2  Argentina      111.0",
            "text/html": "<div>\n<style scoped>\n    .dataframe tbody tr th:only-of-type {\n        vertical-align: middle;\n    }\n\n    .dataframe tbody tr th {\n        vertical-align: top;\n    }\n\n    .dataframe thead th {\n        text-align: right;\n    }\n</style>\n<table border=\"1\" class=\"dataframe\">\n  <thead>\n    <tr style=\"text-align: right;\">\n      <th></th>\n      <th>country</th>\n      <th>home_goal</th>\n    </tr>\n  </thead>\n  <tbody>\n    <tr>\n      <th>0</th>\n      <td>Algeria</td>\n      <td>5.0</td>\n    </tr>\n    <tr>\n      <th>1</th>\n      <td>Angola</td>\n      <td>0.0</td>\n    </tr>\n    <tr>\n      <th>2</th>\n      <td>Argentina</td>\n      <td>111.0</td>\n    </tr>\n  </tbody>\n</table>\n</div>"
          },
          "metadata": {}
        }
      ]
    },
    {
      "metadata": {
        "trusted": true,
        "_uuid": "11901328203edf952341764e2c88c79efd880b70"
      },
      "cell_type": "code",
      "source": "away_goal_df = match_df.groupby('Away Team Name')['Away Team Goals'].sum().reset_index()\naway_goal_df.columns = ['country','away_goal']\naway_goal_df.head(3)",
      "execution_count": 18,
      "outputs": [
        {
          "output_type": "execute_result",
          "execution_count": 18,
          "data": {
            "text/plain": "     country  away_goal\n0    Algeria        7.0\n1     Angola        1.0\n2  Argentina       22.0",
            "text/html": "<div>\n<style scoped>\n    .dataframe tbody tr th:only-of-type {\n        vertical-align: middle;\n    }\n\n    .dataframe tbody tr th {\n        vertical-align: top;\n    }\n\n    .dataframe thead th {\n        text-align: right;\n    }\n</style>\n<table border=\"1\" class=\"dataframe\">\n  <thead>\n    <tr style=\"text-align: right;\">\n      <th></th>\n      <th>country</th>\n      <th>away_goal</th>\n    </tr>\n  </thead>\n  <tbody>\n    <tr>\n      <th>0</th>\n      <td>Algeria</td>\n      <td>7.0</td>\n    </tr>\n    <tr>\n      <th>1</th>\n      <td>Angola</td>\n      <td>1.0</td>\n    </tr>\n    <tr>\n      <th>2</th>\n      <td>Argentina</td>\n      <td>22.0</td>\n    </tr>\n  </tbody>\n</table>\n</div>"
          },
          "metadata": {}
        }
      ]
    },
    {
      "metadata": {
        "trusted": true,
        "_uuid": "e7a192b0603d83ce687ea7349055055469ab7321"
      },
      "cell_type": "code",
      "source": "country_goal_df = pd.merge(home_goal_df,away_goal_df,on='country')\ncountry_goal_df['total_goal'] = country_goal_df['home_goal'] + country_goal_df['away_goal']\ncountry_goal_df = country_goal_df.sort_values(by='total_goal', ascending=False)\ncountry_goal_df.head()",
      "execution_count": 19,
      "outputs": [
        {
          "output_type": "execute_result",
          "execution_count": 19,
          "data": {
            "text/plain": "      country  home_goal  away_goal  total_goal\n25    Germany      164.0       67.0       231.0\n7      Brazil      180.0       45.0       225.0\n2   Argentina      111.0       22.0       133.0\n34      Italy       99.0       29.0       128.0\n23     France       68.0       40.0       108.0",
            "text/html": "<div>\n<style scoped>\n    .dataframe tbody tr th:only-of-type {\n        vertical-align: middle;\n    }\n\n    .dataframe tbody tr th {\n        vertical-align: top;\n    }\n\n    .dataframe thead th {\n        text-align: right;\n    }\n</style>\n<table border=\"1\" class=\"dataframe\">\n  <thead>\n    <tr style=\"text-align: right;\">\n      <th></th>\n      <th>country</th>\n      <th>home_goal</th>\n      <th>away_goal</th>\n      <th>total_goal</th>\n    </tr>\n  </thead>\n  <tbody>\n    <tr>\n      <th>25</th>\n      <td>Germany</td>\n      <td>164.0</td>\n      <td>67.0</td>\n      <td>231.0</td>\n    </tr>\n    <tr>\n      <th>7</th>\n      <td>Brazil</td>\n      <td>180.0</td>\n      <td>45.0</td>\n      <td>225.0</td>\n    </tr>\n    <tr>\n      <th>2</th>\n      <td>Argentina</td>\n      <td>111.0</td>\n      <td>22.0</td>\n      <td>133.0</td>\n    </tr>\n    <tr>\n      <th>34</th>\n      <td>Italy</td>\n      <td>99.0</td>\n      <td>29.0</td>\n      <td>128.0</td>\n    </tr>\n    <tr>\n      <th>23</th>\n      <td>France</td>\n      <td>68.0</td>\n      <td>40.0</td>\n      <td>108.0</td>\n    </tr>\n  </tbody>\n</table>\n</div>"
          },
          "metadata": {}
        }
      ]
    },
    {
      "metadata": {
        "trusted": true,
        "_uuid": "3f2c331a03b0fecf14f417c1785feb536b8e1daf"
      },
      "cell_type": "code",
      "source": "# plt.figure(figsize=(10,6))\n# sns.barplot(data=country_goal_df[:10],x='country',y='total_goal')\ncountry_goal_df[:10].plot(kind='bar',y='total_goal',x='country')\nplt.xlabel('Countries')\nplt.ylabel('Number of goals')\nplt.title('Top 10 of Number of goals by country')\nplt.show()",
      "execution_count": 20,
      "outputs": [
        {
          "output_type": "display_data",
          "data": {
            "text/plain": "<Figure size 432x288 with 1 Axes>",
            "image/png": "[encoded data removed]"
          },
          "metadata": {}
        }
      ]
    },
    {
      "metadata": {
        "_uuid": "4236dea8f46dd9729f2154d69f6d13d5b7fad6e0"
      },
      "cell_type": "markdown",
      "source": "# 3. Attendance, number of teams, goals and matchs per cup"
    },
    {
      "metadata": {
        "trusted": true,
        "_uuid": "cb557f9ba0fab92a1ea3ddc2aa7b30115e83239b"
      },
      "cell_type": "code",
      "source": "cup_df.head(3)",
      "execution_count": 21,
      "outputs": [
        {
          "output_type": "execute_result",
          "execution_count": 21,
          "data": {
            "text/plain": "   Year  Country   Winner    ...     QualifiedTeams MatchesPlayed Attendance\n0  1930  Uruguay  Uruguay    ...                 13            18     590549\n1  1934    Italy    Italy    ...                 16            17     363000\n2  1938   France    Italy    ...                 15            18     375700\n\n[3 rows x 10 columns]",
            "text/html": "<div>\n<style scoped>\n    .dataframe tbody tr th:only-of-type {\n        vertical-align: middle;\n    }\n\n    .dataframe tbody tr th {\n        vertical-align: top;\n    }\n\n    .dataframe thead th {\n        text-align: right;\n    }\n</style>\n<table border=\"1\" class=\"dataframe\">\n  <thead>\n    <tr style=\"text-align: right;\">\n      <th></th>\n      <th>Year</th>\n      <th>Country</th>\n      <th>Winner</th>\n      <th>Runners-Up</th>\n      <th>Third</th>\n      <th>Fourth</th>\n      <th>GoalsScored</th>\n      <th>QualifiedTeams</th>\n      <th>MatchesPlayed</th>\n      <th>Attendance</th>\n    </tr>\n  </thead>\n  <tbody>\n    <tr>\n      <th>0</th>\n      <td>1930</td>\n      <td>Uruguay</td>\n      <td>Uruguay</td>\n      <td>Argentina</td>\n      <td>USA</td>\n      <td>Yugoslavia</td>\n      <td>70</td>\n      <td>13</td>\n      <td>18</td>\n      <td>590549</td>\n    </tr>\n    <tr>\n      <th>1</th>\n      <td>1934</td>\n      <td>Italy</td>\n      <td>Italy</td>\n      <td>Czechoslovakia</td>\n      <td>Germany</td>\n      <td>Austria</td>\n      <td>70</td>\n      <td>16</td>\n      <td>17</td>\n      <td>363000</td>\n    </tr>\n    <tr>\n      <th>2</th>\n      <td>1938</td>\n      <td>France</td>\n      <td>Italy</td>\n      <td>Hungary</td>\n      <td>Brazil</td>\n      <td>Sweden</td>\n      <td>84</td>\n      <td>15</td>\n      <td>18</td>\n      <td>375700</td>\n    </tr>\n  </tbody>\n</table>\n</div>"
          },
          "metadata": {}
        }
      ]
    },
    {
      "metadata": {
        "trusted": true,
        "_uuid": "2d9f535f535dbd21db1c18b8fa3ca4718b736abb"
      },
      "cell_type": "markdown",
      "source": "- GoalsScored: Total goals scored in the worldcup\n- QualifiedTeams: Total participating teams\n- MatchesPlayed: Total matches played in the cup\n- AttendanceTotal:  attendance of the worldcup"
    },
    {
      "metadata": {
        "trusted": true,
        "_uuid": "c5d3f7e1c8fe24dfe21174e472d68d00dd21d29d"
      },
      "cell_type": "code",
      "source": "plot_list = cup_df.columns.tolist()[-4:]\nplot_list",
      "execution_count": 22,
      "outputs": [
        {
          "output_type": "execute_result",
          "execution_count": 22,
          "data": {
            "text/plain": "['GoalsScored', 'QualifiedTeams', 'MatchesPlayed', 'Attendance']"
          },
          "metadata": {}
        }
      ]
    },
    {
      "metadata": {
        "trusted": true,
        "_uuid": "ebf1e7b2c84b6ff337c8f44246199d0545381533"
      },
      "cell_type": "code",
      "source": "plt.figure(figsize=(22,16))\nfor i,plot in enumerate(plot_list):\n    plt.subplot('22{}'.format(i+1))\n    ax = sns.barplot(data=cup_df,x='Year',y=plot, palette='Blues')\n    ax.set_title('{} per cup'.format(plot),fontsize=16)\n# can only show the last plot?????\n# NO!!! data_df.plot() can not be used, sns.barplot() ok!\nplt.subplots_adjust(wspace = 0.2, hspace = 0.4,top = 0.9)\nplt.show()",
      "execution_count": 23,
      "outputs": [
        {
          "output_type": "display_data",
          "data": {
            "text/plain": "<Figure size 1584x1152 with 4 Axes>",
            "image/png": "[encoded data removed]"
          },
          "metadata": {}
        }
      ]
    },
    {
      "metadata": {
        "trusted": true,
        "_uuid": "edc433b4850c1dbb2ecd18cb2b8baf94a1e1f220"
      },
      "cell_type": "markdown",
      "source": "# 4. Which teams scored the most goals per cup ? Top5"
    },
    {
      "metadata": {
        "trusted": true,
        "_uuid": "ce6ba8dea1e691d4137ab944cc5ad63496377c89"
      },
      "cell_type": "code",
      "source": "match_df.head(3)",
      "execution_count": 24,
      "outputs": [
        {
          "output_type": "execute_result",
          "execution_count": 24,
          "data": {
            "text/plain": "   Year              Datetime      ...      Away Team Initials          date\n0  1930  13 Jul 1930 - 15:00       ...                     MEX  13 Jul 1930 \n1  1930  13 Jul 1930 - 15:00       ...                     BEL  13 Jul 1930 \n2  1930  14 Jul 1930 - 12:45       ...                     BRA  14 Jul 1930 \n\n[3 rows x 21 columns]",
            "text/html": "<div>\n<style scoped>\n    .dataframe tbody tr th:only-of-type {\n        vertical-align: middle;\n    }\n\n    .dataframe tbody tr th {\n        vertical-align: top;\n    }\n\n    .dataframe thead th {\n        text-align: right;\n    }\n</style>\n<table border=\"1\" class=\"dataframe\">\n  <thead>\n    <tr style=\"text-align: right;\">\n      <th></th>\n      <th>Year</th>\n      <th>Datetime</th>\n      <th>Stage</th>\n      <th>Stadium</th>\n      <th>City</th>\n      <th>Home Team Name</th>\n      <th>Home Team Goals</th>\n      <th>Away Team Goals</th>\n      <th>Away Team Name</th>\n      <th>Win conditions</th>\n      <th>Attendance</th>\n      <th>Half-time Home Goals</th>\n      <th>Half-time Away Goals</th>\n      <th>Referee</th>\n      <th>Assistant 1</th>\n      <th>Assistant 2</th>\n      <th>RoundID</th>\n      <th>MatchID</th>\n      <th>Home Team Initials</th>\n      <th>Away Team Initials</th>\n      <th>date</th>\n    </tr>\n  </thead>\n  <tbody>\n    <tr>\n      <th>0</th>\n      <td>1930</td>\n      <td>13 Jul 1930 - 15:00</td>\n      <td>Group 1</td>\n      <td>Pocitos</td>\n      <td>Montevideo</td>\n      <td>France</td>\n      <td>4.0</td>\n      <td>1.0</td>\n      <td>Mexico</td>\n      <td></td>\n      <td>4444.0</td>\n      <td>3.0</td>\n      <td>0.0</td>\n      <td>LOMBARDI Domingo (URU)</td>\n      <td>CRISTOPHE Henry (BEL)</td>\n      <td>REGO Gilberto (BRA)</td>\n      <td>201.0</td>\n      <td>1096.0</td>\n      <td>FRA</td>\n      <td>MEX</td>\n      <td>13 Jul 1930</td>\n    </tr>\n    <tr>\n      <th>1</th>\n      <td>1930</td>\n      <td>13 Jul 1930 - 15:00</td>\n      <td>Group 4</td>\n      <td>Parque</td>\n      <td>Montevideo</td>\n      <td>USA</td>\n      <td>3.0</td>\n      <td>0.0</td>\n      <td>Belgium</td>\n      <td></td>\n      <td>18346.0</td>\n      <td>2.0</td>\n      <td>0.0</td>\n      <td>MACIAS Jose (ARG)</td>\n      <td>MATEUCCI Francisco (URU)</td>\n      <td>WARNKEN Alberto (CHI)</td>\n      <td>201.0</td>\n      <td>1090.0</td>\n      <td>USA</td>\n      <td>BEL</td>\n      <td>13 Jul 1930</td>\n    </tr>\n    <tr>\n      <th>2</th>\n      <td>1930</td>\n      <td>14 Jul 1930 - 12:45</td>\n      <td>Group 2</td>\n      <td>Parque</td>\n      <td>Montevideo</td>\n      <td>Yugoslavia</td>\n      <td>2.0</td>\n      <td>1.0</td>\n      <td>Brazil</td>\n      <td></td>\n      <td>24059.0</td>\n      <td>2.0</td>\n      <td>0.0</td>\n      <td>TEJADA Anibal (URU)</td>\n      <td>VALLARINO Ricardo (URU)</td>\n      <td>BALWAY Thomas (FRA)</td>\n      <td>201.0</td>\n      <td>1093.0</td>\n      <td>YUG</td>\n      <td>BRA</td>\n      <td>14 Jul 1930</td>\n    </tr>\n  </tbody>\n</table>\n</div>"
          },
          "metadata": {}
        }
      ]
    },
    {
      "metadata": {
        "trusted": true,
        "_uuid": "7a33c1e1115f8459fbad17bdf63dad811f735641",
        "_kg_hide-output": true
      },
      "cell_type": "code",
      "source": "home_cup_goal = match_df.groupby(['Year','Home Team Name'])['Home Team Goals'].sum()\nhome_cup_goal",
      "execution_count": 25,
      "outputs": [
        {
          "output_type": "execute_result",
          "execution_count": 25,
          "data": {
            "text/plain": "Year  Home Team Name            \n1930  Argentina                     16.0\n      Brazil                         4.0\n      Chile                          4.0\n      France                         4.0\n      Paraguay                       1.0\n      Romania                        3.0\n      USA                            6.0\n      Uruguay                       15.0\n      Yugoslavia                     6.0\n1934  Austria                        5.0\n      Czechoslovakia                 8.0\n      Germany                       10.0\n      Hungary                        4.0\n      Italy                         12.0\n      Spain                          3.0\n      Sweden                         3.0\n      Switzerland                    3.0\n1938  Brazil                        13.0\n      Cuba                           5.0\n      Czechoslovakia                 3.0\n      France                         3.0\n      Hungary                       13.0\n      Italy                         11.0\n      Sweden                         8.0\n      Switzerland                    5.0\n1950  Brazil                        21.0\n      Chile                          5.0\n      England                        2.0\n      Italy                          2.0\n      Spain                          6.0\n                                    ... \n2014  Australia                      2.0\n      Belgium                        7.0\n      Brazil                        11.0\n      Cameroon                       1.0\n      Chile                          3.0\n      Colombia                       9.0\n      Costa Rica                     2.0\n      Croatia                        1.0\n      Cï¿½te d'Ivoire                2.0\n      Ecuador                        0.0\n      England                        1.0\n      France                         7.0\n      Germany                        8.0\n      Ghana                          1.0\n      Greece                         2.0\n      Honduras                       1.0\n      IR Iran                        0.0\n      Italy                          0.0\n      Japan                          1.0\n      Korea Republic                 2.0\n      Mexico                         1.0\n      Netherlands                    6.0\n      Nigeria                        3.0\n      Portugal                       2.0\n      Russia                         1.0\n      Spain                          1.0\n      Switzerland                    4.0\n      USA                            2.0\n      Uruguay                        3.0\n      rn\">Bosnia and Herzegovina     3.0\nName: Home Team Goals, Length: 366, dtype: float64"
          },
          "metadata": {}
        }
      ]
    },
    {
      "metadata": {
        "trusted": true,
        "_uuid": "ee713b61c8325312bd061e602c0d1b7adf30594b",
        "_kg_hide-output": true
      },
      "cell_type": "code",
      "source": "away_cup_goal = match_df.groupby(['Year', 'Away Team Name'])['Away Team Goals'].sum()\naway_cup_goal",
      "execution_count": 26,
      "outputs": [
        {
          "output_type": "execute_result",
          "execution_count": 26,
          "data": {
            "text/plain": "Year  Away Team Name            \n1930  Argentina                      2.0\n      Belgium                        0.0\n      Bolivia                        0.0\n      Brazil                         1.0\n      Chile                          1.0\n      France                         0.0\n      Mexico                         4.0\n      Paraguay                       0.0\n      Peru                           1.0\n      Romania                        0.0\n      USA                            1.0\n      Yugoslavia                     1.0\n1934  Argentina                      2.0\n      Austria                        2.0\n      Belgium                        2.0\n      Brazil                         1.0\n      Czechoslovakia                 1.0\n      Egypt                          2.0\n      France                         2.0\n      Germany                        1.0\n      Hungary                        1.0\n      Netherlands                    2.0\n      Romania                        1.0\n      Spain                          1.0\n      Sweden                         1.0\n      Switzerland                    2.0\n      USA                            1.0\n1938  Belgium                        1.0\n      Brazil                         1.0\n      Cuba                           0.0\n                                    ... \n2014  Australia                      1.0\n      Belgium                        1.0\n      Brazil                         4.0\n      Cameroon                       0.0\n      Chile                          4.0\n      Colombia                       6.0\n      Costa Rica                     4.0\n      Croatia                        5.0\n      Cï¿½te d'Ivoire                2.0\n      Ecuador                        3.0\n      England                        1.0\n      France                         5.0\n      Germany                       17.0\n      Ghana                          3.0\n      Greece                         2.0\n      Honduras                       0.0\n      IR Iran                        1.0\n      Italy                          2.0\n      Japan                          1.0\n      Korea Republic                 1.0\n      Mexico                         5.0\n      Netherlands                   14.0\n      Nigeria                        0.0\n      Portugal                       2.0\n      Russia                         1.0\n      Spain                          3.0\n      Switzerland                    3.0\n      USA                            4.0\n      Uruguay                        1.0\n      rn\">Bosnia and Herzegovina     1.0\nName: Away Team Goals, Length: 411, dtype: float64"
          },
          "metadata": {}
        }
      ]
    },
    {
      "metadata": {
        "trusted": true,
        "_uuid": "e8d5d1cb5725a2d649f218b64d7b44e64001aea7"
      },
      "cell_type": "code",
      "source": "# country_cup_goal_df = pd.merge(home_cup_goal, away_cup_goal)\n# ValueError: can not merge DataFrame with instance of type <class 'pandas.core.series.Series'>\ncountry_cup_goal_df = pd.concat([home_cup_goal, away_cup_goal],axis=1)",
      "execution_count": 27,
      "outputs": []
    },
    {
      "metadata": {
        "trusted": true,
        "_uuid": "cbbbbb95bbb19ceee19260da3376963a7446fd12"
      },
      "cell_type": "code",
      "source": "country_cup_goal_df.head(15)",
      "execution_count": 28,
      "outputs": [
        {
          "output_type": "execute_result",
          "execution_count": 28,
          "data": {
            "text/plain": "                 Home Team Goals  Away Team Goals\n1930 Argentina              16.0              2.0\n     Belgium                 NaN              0.0\n     Bolivia                 NaN              0.0\n     Brazil                  4.0              1.0\n     Chile                   4.0              1.0\n     France                  4.0              0.0\n     Mexico                  NaN              4.0\n     Paraguay                1.0              0.0\n     Peru                    NaN              1.0\n     Romania                 3.0              0.0\n     USA                     6.0              1.0\n     Uruguay                15.0              NaN\n     Yugoslavia              6.0              1.0\n1934 Argentina               NaN              2.0\n     Austria                 5.0              2.0",
            "text/html": "<div>\n<style scoped>\n    .dataframe tbody tr th:only-of-type {\n        vertical-align: middle;\n    }\n\n    .dataframe tbody tr th {\n        vertical-align: top;\n    }\n\n    .dataframe thead th {\n        text-align: right;\n    }\n</style>\n<table border=\"1\" class=\"dataframe\">\n  <thead>\n    <tr style=\"text-align: right;\">\n      <th></th>\n      <th></th>\n      <th>Home Team Goals</th>\n      <th>Away Team Goals</th>\n    </tr>\n  </thead>\n  <tbody>\n    <tr>\n      <th rowspan=\"13\" valign=\"top\">1930</th>\n      <th>Argentina</th>\n      <td>16.0</td>\n      <td>2.0</td>\n    </tr>\n    <tr>\n      <th>Belgium</th>\n      <td>NaN</td>\n      <td>0.0</td>\n    </tr>\n    <tr>\n      <th>Bolivia</th>\n      <td>NaN</td>\n      <td>0.0</td>\n    </tr>\n    <tr>\n      <th>Brazil</th>\n      <td>4.0</td>\n      <td>1.0</td>\n    </tr>\n    <tr>\n      <th>Chile</th>\n      <td>4.0</td>\n      <td>1.0</td>\n    </tr>\n    <tr>\n      <th>France</th>\n      <td>4.0</td>\n      <td>0.0</td>\n    </tr>\n    <tr>\n      <th>Mexico</th>\n      <td>NaN</td>\n      <td>4.0</td>\n    </tr>\n    <tr>\n      <th>Paraguay</th>\n      <td>1.0</td>\n      <td>0.0</td>\n    </tr>\n    <tr>\n      <th>Peru</th>\n      <td>NaN</td>\n      <td>1.0</td>\n    </tr>\n    <tr>\n      <th>Romania</th>\n      <td>3.0</td>\n      <td>0.0</td>\n    </tr>\n    <tr>\n      <th>USA</th>\n      <td>6.0</td>\n      <td>1.0</td>\n    </tr>\n    <tr>\n      <th>Uruguay</th>\n      <td>15.0</td>\n      <td>NaN</td>\n    </tr>\n    <tr>\n      <th>Yugoslavia</th>\n      <td>6.0</td>\n      <td>1.0</td>\n    </tr>\n    <tr>\n      <th rowspan=\"2\" valign=\"top\">1934</th>\n      <th>Argentina</th>\n      <td>NaN</td>\n      <td>2.0</td>\n    </tr>\n    <tr>\n      <th>Austria</th>\n      <td>5.0</td>\n      <td>2.0</td>\n    </tr>\n  </tbody>\n</table>\n</div>"
          },
          "metadata": {}
        }
      ]
    },
    {
      "metadata": {
        "trusted": true,
        "_uuid": "373b25236c64b9ab234a2a893e02e46b60b4a18e"
      },
      "cell_type": "code",
      "source": "country_cup_goal_df = country_cup_goal_df.reset_index()\ncountry_cup_goal_df.columns = ['year','country','home_goal','away_goal']",
      "execution_count": 29,
      "outputs": []
    },
    {
      "metadata": {
        "trusted": true,
        "_uuid": "6c89a790853d23e99c20eb14c4b92e09e56c3a71"
      },
      "cell_type": "code",
      "source": "country_cup_goal_df.head(15)",
      "execution_count": 30,
      "outputs": [
        {
          "output_type": "execute_result",
          "execution_count": 30,
          "data": {
            "text/plain": "    year     country  home_goal  away_goal\n0   1930   Argentina       16.0        2.0\n1   1930     Belgium        NaN        0.0\n2   1930     Bolivia        NaN        0.0\n3   1930      Brazil        4.0        1.0\n4   1930       Chile        4.0        1.0\n5   1930      France        4.0        0.0\n6   1930      Mexico        NaN        4.0\n7   1930    Paraguay        1.0        0.0\n8   1930        Peru        NaN        1.0\n9   1930     Romania        3.0        0.0\n10  1930         USA        6.0        1.0\n11  1930     Uruguay       15.0        NaN\n12  1930  Yugoslavia        6.0        1.0\n13  1934   Argentina        NaN        2.0\n14  1934     Austria        5.0        2.0",
            "text/html": "<div>\n<style scoped>\n    .dataframe tbody tr th:only-of-type {\n        vertical-align: middle;\n    }\n\n    .dataframe tbody tr th {\n        vertical-align: top;\n    }\n\n    .dataframe thead th {\n        text-align: right;\n    }\n</style>\n<table border=\"1\" class=\"dataframe\">\n  <thead>\n    <tr style=\"text-align: right;\">\n      <th></th>\n      <th>year</th>\n      <th>country</th>\n      <th>home_goal</th>\n      <th>away_goal</th>\n    </tr>\n  </thead>\n  <tbody>\n    <tr>\n      <th>0</th>\n      <td>1930</td>\n      <td>Argentina</td>\n      <td>16.0</td>\n      <td>2.0</td>\n    </tr>\n    <tr>\n      <th>1</th>\n      <td>1930</td>\n      <td>Belgium</td>\n      <td>NaN</td>\n      <td>0.0</td>\n    </tr>\n    <tr>\n      <th>2</th>\n      <td>1930</td>\n      <td>Bolivia</td>\n      <td>NaN</td>\n      <td>0.0</td>\n    </tr>\n    <tr>\n      <th>3</th>\n      <td>1930</td>\n      <td>Brazil</td>\n      <td>4.0</td>\n      <td>1.0</td>\n    </tr>\n    <tr>\n      <th>4</th>\n      <td>1930</td>\n      <td>Chile</td>\n      <td>4.0</td>\n      <td>1.0</td>\n    </tr>\n    <tr>\n      <th>5</th>\n      <td>1930</td>\n      <td>France</td>\n      <td>4.0</td>\n      <td>0.0</td>\n    </tr>\n    <tr>\n      <th>6</th>\n      <td>1930</td>\n      <td>Mexico</td>\n      <td>NaN</td>\n      <td>4.0</td>\n    </tr>\n    <tr>\n      <th>7</th>\n      <td>1930</td>\n      <td>Paraguay</td>\n      <td>1.0</td>\n      <td>0.0</td>\n    </tr>\n    <tr>\n      <th>8</th>\n      <td>1930</td>\n      <td>Peru</td>\n      <td>NaN</td>\n      <td>1.0</td>\n    </tr>\n    <tr>\n      <th>9</th>\n      <td>1930</td>\n      <td>Romania</td>\n      <td>3.0</td>\n      <td>0.0</td>\n    </tr>\n    <tr>\n      <th>10</th>\n      <td>1930</td>\n      <td>USA</td>\n      <td>6.0</td>\n      <td>1.0</td>\n    </tr>\n    <tr>\n      <th>11</th>\n      <td>1930</td>\n      <td>Uruguay</td>\n      <td>15.0</td>\n      <td>NaN</td>\n    </tr>\n    <tr>\n      <th>12</th>\n      <td>1930</td>\n      <td>Yugoslavia</td>\n      <td>6.0</td>\n      <td>1.0</td>\n    </tr>\n    <tr>\n      <th>13</th>\n      <td>1934</td>\n      <td>Argentina</td>\n      <td>NaN</td>\n      <td>2.0</td>\n    </tr>\n    <tr>\n      <th>14</th>\n      <td>1934</td>\n      <td>Austria</td>\n      <td>5.0</td>\n      <td>2.0</td>\n    </tr>\n  </tbody>\n</table>\n</div>"
          },
          "metadata": {}
        }
      ]
    },
    {
      "metadata": {
        "trusted": true,
        "_uuid": "f0e0aefaa003b44258f778de810a1969501df49c"
      },
      "cell_type": "code",
      "source": "country_cup_goal_df['total_goal'] = country_cup_goal_df['home_goal'] + country_cup_goal_df['away_goal']",
      "execution_count": 31,
      "outputs": []
    },
    {
      "metadata": {
        "trusted": true,
        "_uuid": "c9f2b21a7bddb7f8708b1da7790dcec34049d658"
      },
      "cell_type": "code",
      "source": "country_cup_goal_df.head(3)",
      "execution_count": 32,
      "outputs": [
        {
          "output_type": "execute_result",
          "execution_count": 32,
          "data": {
            "text/plain": "   year    country  home_goal  away_goal  total_goal\n0  1930  Argentina       16.0        2.0        18.0\n1  1930    Belgium        NaN        0.0         NaN\n2  1930    Bolivia        NaN        0.0         NaN",
            "text/html": "<div>\n<style scoped>\n    .dataframe tbody tr th:only-of-type {\n        vertical-align: middle;\n    }\n\n    .dataframe tbody tr th {\n        vertical-align: top;\n    }\n\n    .dataframe thead th {\n        text-align: right;\n    }\n</style>\n<table border=\"1\" class=\"dataframe\">\n  <thead>\n    <tr style=\"text-align: right;\">\n      <th></th>\n      <th>year</th>\n      <th>country</th>\n      <th>home_goal</th>\n      <th>away_goal</th>\n      <th>total_goal</th>\n    </tr>\n  </thead>\n  <tbody>\n    <tr>\n      <th>0</th>\n      <td>1930</td>\n      <td>Argentina</td>\n      <td>16.0</td>\n      <td>2.0</td>\n      <td>18.0</td>\n    </tr>\n    <tr>\n      <th>1</th>\n      <td>1930</td>\n      <td>Belgium</td>\n      <td>NaN</td>\n      <td>0.0</td>\n      <td>NaN</td>\n    </tr>\n    <tr>\n      <th>2</th>\n      <td>1930</td>\n      <td>Bolivia</td>\n      <td>NaN</td>\n      <td>0.0</td>\n      <td>NaN</td>\n    </tr>\n  </tbody>\n</table>\n</div>"
          },
          "metadata": {}
        }
      ]
    },
    {
      "metadata": {
        "trusted": true,
        "_uuid": "1ddc64f74280a8d5afb37a9064703cfc36aa3779"
      },
      "cell_type": "code",
      "source": "new_df = country_cup_goal_df.copy()",
      "execution_count": 33,
      "outputs": []
    },
    {
      "metadata": {
        "trusted": true,
        "_uuid": "afb5e2a6e8cc75b27329e6214df2139a938a784c"
      },
      "cell_type": "code",
      "source": "new_df = new_df.sort_values(by=['year','total_goal'], ascending=[True,False])\nnew_df = new_df.groupby('year').head(5)\nnew_df.head(10)",
      "execution_count": 34,
      "outputs": [
        {
          "output_type": "execute_result",
          "execution_count": 34,
          "data": {
            "text/plain": "    year         country  home_goal  away_goal  total_goal\n0   1930       Argentina       16.0        2.0        18.0\n10  1930             USA        6.0        1.0         7.0\n12  1930      Yugoslavia        6.0        1.0         7.0\n3   1930          Brazil        4.0        1.0         5.0\n4   1930           Chile        4.0        1.0         5.0\n20  1934         Germany       10.0        1.0        11.0\n17  1934  Czechoslovakia        8.0        1.0         9.0\n14  1934         Austria        5.0        2.0         7.0\n21  1934         Hungary        4.0        1.0         5.0\n27  1934     Switzerland        3.0        2.0         5.0",
            "text/html": "<div>\n<style scoped>\n    .dataframe tbody tr th:only-of-type {\n        vertical-align: middle;\n    }\n\n    .dataframe tbody tr th {\n        vertical-align: top;\n    }\n\n    .dataframe thead th {\n        text-align: right;\n    }\n</style>\n<table border=\"1\" class=\"dataframe\">\n  <thead>\n    <tr style=\"text-align: right;\">\n      <th></th>\n      <th>year</th>\n      <th>country</th>\n      <th>home_goal</th>\n      <th>away_goal</th>\n      <th>total_goal</th>\n    </tr>\n  </thead>\n  <tbody>\n    <tr>\n      <th>0</th>\n      <td>1930</td>\n      <td>Argentina</td>\n      <td>16.0</td>\n      <td>2.0</td>\n      <td>18.0</td>\n    </tr>\n    <tr>\n      <th>10</th>\n      <td>1930</td>\n      <td>USA</td>\n      <td>6.0</td>\n      <td>1.0</td>\n      <td>7.0</td>\n    </tr>\n    <tr>\n      <th>12</th>\n      <td>1930</td>\n      <td>Yugoslavia</td>\n      <td>6.0</td>\n      <td>1.0</td>\n      <td>7.0</td>\n    </tr>\n    <tr>\n      <th>3</th>\n      <td>1930</td>\n      <td>Brazil</td>\n      <td>4.0</td>\n      <td>1.0</td>\n      <td>5.0</td>\n    </tr>\n    <tr>\n      <th>4</th>\n      <td>1930</td>\n      <td>Chile</td>\n      <td>4.0</td>\n      <td>1.0</td>\n      <td>5.0</td>\n    </tr>\n    <tr>\n      <th>20</th>\n      <td>1934</td>\n      <td>Germany</td>\n      <td>10.0</td>\n      <td>1.0</td>\n      <td>11.0</td>\n    </tr>\n    <tr>\n      <th>17</th>\n      <td>1934</td>\n      <td>Czechoslovakia</td>\n      <td>8.0</td>\n      <td>1.0</td>\n      <td>9.0</td>\n    </tr>\n    <tr>\n      <th>14</th>\n      <td>1934</td>\n      <td>Austria</td>\n      <td>5.0</td>\n      <td>2.0</td>\n      <td>7.0</td>\n    </tr>\n    <tr>\n      <th>21</th>\n      <td>1934</td>\n      <td>Hungary</td>\n      <td>4.0</td>\n      <td>1.0</td>\n      <td>5.0</td>\n    </tr>\n    <tr>\n      <th>27</th>\n      <td>1934</td>\n      <td>Switzerland</td>\n      <td>3.0</td>\n      <td>2.0</td>\n      <td>5.0</td>\n    </tr>\n  </tbody>\n</table>\n</div>"
          },
          "metadata": {}
        }
      ]
    },
    {
      "metadata": {
        "trusted": true,
        "_uuid": "88bdb86b070bd87c4ce9e62222ba151047a5b817"
      },
      "cell_type": "code",
      "source": "# new_df = pd.DataFrame.from_dict(new_df.to_dict())\n# new_df = new_df.sort_values(by=['year','total_goal'], ascending=[True,False])\n# new_df = new_df.groupby('year').head(5)\n\n# no need to transform to dict and re-transform to df",
      "execution_count": 35,
      "outputs": []
    },
    {
      "metadata": {
        "trusted": true,
        "_uuid": "5ac8f793451a57a5e23ad770ea7be479601c9fca"
      },
      "cell_type": "code",
      "source": "country_list = new_df['country'].value_counts().index.tolist()\ndata = []\nfor country in country_list:\n    year = new_df[new_df['country']==country]['year']\n    goal = new_df[new_df['country']==country]['total_goal']\n    data.append(\n        go.Bar(\n            x=year,\n            y=goal,\n            name=country\n        )\n    )\nlayout = go.Layout(\n    barmode = \"stack\", \n    title = \"Top 5 teams which scored the most goals\",\n    showlegend = False\n)    \nfig = go.Figure(data=data, layout=layout)\npy.iplot(fig, filename='pyplot-fifa')",
      "execution_count": 36,
      "outputs": [
        {
          "output_type": "display_data",
          "data": {
            "application/vnd.plotly.v1+json": {
              "data": [
                {
                  "name": "Germany",
                  "x": [
                    1934,
                    1954,
                    1958,
                    1966,
                    1970,
                    1974,
                    1978,
                    1982,
                    2002,
                    2006,
                    2010,
                    2014
                  ],
                  "y": [
                    11,
                    25,
                    12,
                    15,
                    17,
                    13,
                    10,
                    12,
                    14,
                    14,
                    16,
                    25
                  ],
                  "type": "bar",
                  "uid": "11aeb45c-ab6c-11e8-88a7-0242ac130005"
                },
                {
                  "name": "Brazil",
                  "x": [
                    1930,
                    1938,
                    1950,
                    1978,
                    1982,
                    1994,
                    2002,
                    2006,
                    2010,
                    2014
                  ],
                  "y": [
                    5,
                    14,
                    22,
                    10,
                    15,
                    11,
                    18,
                    10,
                    9,
                    15
                  ],
                  "type": "bar",
                  "uid": "11aeb65a-ab6c-11e8-88a7-0242ac130005"
                },
                {
                  "name": "Argentina",
                  "x": [
                    1930,
                    1974,
                    1978,
                    1986,
                    1998,
                    2006,
                    2010
                  ],
                  "y": [
                    18,
                    9,
                    15,
                    14,
                    10,
                    11,
                    10
                  ],
                  "type": "bar",
                  "uid": "11aeb74a-ab6c-11e8-88a7-0242ac130005"
                },
                {
                  "name": "Hungary",
                  "x": [
                    1934,
                    1938,
                    1954,
                    1962,
                    1966,
                    1982
                  ],
                  "y": [
                    5,
                    15,
                    27,
                    8,
                    8,
                    12
                  ],
                  "type": "bar",
                  "uid": "11aeb812-ab6c-11e8-88a7-0242ac130005"
                },
                {
                  "name": "France",
                  "x": [
                    1958,
                    1982,
                    1986,
                    1998,
                    2006,
                    2014
                  ],
                  "y": [
                    23,
                    16,
                    12,
                    15,
                    9,
                    12
                  ],
                  "type": "bar",
                  "uid": "11aeb8d0-ab6c-11e8-88a7-0242ac130005"
                },
                {
                  "name": "Netherlands",
                  "x": [
                    1974,
                    1978,
                    1998,
                    2010,
                    2014
                  ],
                  "y": [
                    15,
                    15,
                    13,
                    12,
                    20
                  ],
                  "type": "bar",
                  "uid": "11aeb984-ab6c-11e8-88a7-0242ac130005"
                },
                {
                  "name": "Czechoslovakia",
                  "x": [
                    1934,
                    1938,
                    1958,
                    1962,
                    1990
                  ],
                  "y": [
                    9,
                    5,
                    9,
                    7,
                    10
                  ],
                  "type": "bar",
                  "uid": "11aeba42-ab6c-11e8-88a7-0242ac130005"
                },
                {
                  "name": "Yugoslavia",
                  "x": [
                    1930,
                    1950,
                    1962,
                    1974,
                    1990
                  ],
                  "y": [
                    7,
                    7,
                    10,
                    12,
                    8
                  ],
                  "type": "bar",
                  "uid": "11aebb32-ab6c-11e8-88a7-0242ac130005"
                },
                {
                  "name": "Spain",
                  "x": [
                    1950,
                    1986,
                    1994,
                    2002
                  ],
                  "y": [
                    10,
                    11,
                    10,
                    10
                  ],
                  "type": "bar",
                  "uid": "11aebbe6-ab6c-11e8-88a7-0242ac130005"
                },
                {
                  "name": "Sweden",
                  "x": [
                    1938,
                    1950,
                    1958,
                    1994
                  ],
                  "y": [
                    11,
                    11,
                    12,
                    15
                  ],
                  "type": "bar",
                  "uid": "11aebc90-ab6c-11e8-88a7-0242ac130005"
                },
                {
                  "name": "Italy",
                  "x": [
                    1970,
                    1978,
                    1982,
                    2006
                  ],
                  "y": [
                    10,
                    9,
                    12,
                    12
                  ],
                  "type": "bar",
                  "uid": "11aebd3a-ab6c-11e8-88a7-0242ac130005"
                },
                {
                  "name": "Soviet Union",
                  "x": [
                    1962,
                    1966,
                    1970,
                    1986
                  ],
                  "y": [
                    9,
                    10,
                    6,
                    12
                  ],
                  "type": "bar",
                  "uid": "11aebdee-ab6c-11e8-88a7-0242ac130005"
                },
                {
                  "name": "Chile",
                  "x": [
                    1930,
                    1950,
                    1962
                  ],
                  "y": [
                    5,
                    5,
                    10
                  ],
                  "type": "bar",
                  "uid": "11aebe98-ab6c-11e8-88a7-0242ac130005"
                },
                {
                  "name": "England",
                  "x": [
                    1990,
                    1998
                  ],
                  "y": [
                    8,
                    7
                  ],
                  "type": "bar",
                  "uid": "11aebf42-ab6c-11e8-88a7-0242ac130005"
                },
                {
                  "name": "Switzerland",
                  "x": [
                    1934,
                    1954
                  ],
                  "y": [
                    5,
                    11
                  ],
                  "type": "bar",
                  "uid": "11aebfe2-ab6c-11e8-88a7-0242ac130005"
                },
                {
                  "name": "Uruguay",
                  "x": [
                    1954,
                    2010
                  ],
                  "y": [
                    16,
                    11
                  ],
                  "type": "bar",
                  "uid": "11aec08c-ab6c-11e8-88a7-0242ac130005"
                },
                {
                  "name": "Belgium",
                  "x": [
                    1986,
                    1990
                  ],
                  "y": [
                    12,
                    6
                  ],
                  "type": "bar",
                  "uid": "11aec136-ab6c-11e8-88a7-0242ac130005"
                },
                {
                  "name": "Austria",
                  "x": [
                    1934,
                    1954
                  ],
                  "y": [
                    7,
                    17
                  ],
                  "type": "bar",
                  "uid": "11aec1d6-ab6c-11e8-88a7-0242ac130005"
                },
                {
                  "name": "Colombia",
                  "x": [
                    2014
                  ],
                  "y": [
                    15
                  ],
                  "type": "bar",
                  "uid": "11aec280-ab6c-11e8-88a7-0242ac130005"
                },
                {
                  "name": "Cuba",
                  "x": [
                    1938
                  ],
                  "y": [
                    5
                  ],
                  "type": "bar",
                  "uid": "11aec32a-ab6c-11e8-88a7-0242ac130005"
                },
                {
                  "name": "Bulgaria",
                  "x": [
                    1994
                  ],
                  "y": [
                    10
                  ],
                  "type": "bar",
                  "uid": "11aec3ca-ab6c-11e8-88a7-0242ac130005"
                },
                {
                  "name": "Cameroon",
                  "x": [
                    1990
                  ],
                  "y": [
                    7
                  ],
                  "type": "bar",
                  "uid": "11aec474-ab6c-11e8-88a7-0242ac130005"
                },
                {
                  "name": "Turkey",
                  "x": [
                    2002
                  ],
                  "y": [
                    10
                  ],
                  "type": "bar",
                  "uid": "11aec51e-ab6c-11e8-88a7-0242ac130005"
                },
                {
                  "name": "USA",
                  "x": [
                    1930
                  ],
                  "y": [
                    7
                  ],
                  "type": "bar",
                  "uid": "11aec5c8-ab6c-11e8-88a7-0242ac130005"
                },
                {
                  "name": "Poland",
                  "x": [
                    1974
                  ],
                  "y": [
                    16
                  ],
                  "type": "bar",
                  "uid": "11aec668-ab6c-11e8-88a7-0242ac130005"
                },
                {
                  "name": "Romania",
                  "x": [
                    1994
                  ],
                  "y": [
                    10
                  ],
                  "type": "bar",
                  "uid": "11aec73a-ab6c-11e8-88a7-0242ac130005"
                },
                {
                  "name": "Korea Republic",
                  "x": [
                    2002
                  ],
                  "y": [
                    8
                  ],
                  "type": "bar",
                  "uid": "11aec7e4-ab6c-11e8-88a7-0242ac130005"
                },
                {
                  "name": "Korea DPR",
                  "x": [
                    1966
                  ],
                  "y": [
                    5
                  ],
                  "type": "bar",
                  "uid": "11aec884-ab6c-11e8-88a7-0242ac130005"
                },
                {
                  "name": "Peru",
                  "x": [
                    1970
                  ],
                  "y": [
                    9
                  ],
                  "type": "bar",
                  "uid": "11aec924-ab6c-11e8-88a7-0242ac130005"
                },
                {
                  "name": "Paraguay",
                  "x": [
                    1958
                  ],
                  "y": [
                    9
                  ],
                  "type": "bar",
                  "uid": "11aec9c4-ab6c-11e8-88a7-0242ac130005"
                },
                {
                  "name": "Mexico",
                  "x": [
                    1970
                  ],
                  "y": [
                    6
                  ],
                  "type": "bar",
                  "uid": "11aeca64-ab6c-11e8-88a7-0242ac130005"
                },
                {
                  "name": "Portugal",
                  "x": [
                    1966
                  ],
                  "y": [
                    17
                  ],
                  "type": "bar",
                  "uid": "11aecb04-ab6c-11e8-88a7-0242ac130005"
                },
                {
                  "name": "Nigeria",
                  "x": [
                    1998
                  ],
                  "y": [
                    6
                  ],
                  "type": "bar",
                  "uid": "11aecba4-ab6c-11e8-88a7-0242ac130005"
                }
              ],
              "layout": {
                "barmode": "stack",
                "showlegend": false,
                "title": "Top 5 teams which scored the most goals"
              }
            },
            "text/html": "<div id=\"8ba46ce3-77bf-4219-95b4-81d9d1292773\" style=\"height: 525px; width: 100%;\" class=\"plotly-graph-div\"></div><script type=\"text/javascript\">require([\"plotly\"], function(Plotly) { window.PLOTLYENV=window.PLOTLYENV || {};window.PLOTLYENV.BASE_URL=\"https://plot.ly\";\n        Plotly.plot(\n            '8ba46ce3-77bf-4219-95b4-81d9d1292773',\n            [{\"name\": \"Germany\", \"x\": [1934.0, 1954.0, 1958.0, 1966.0, 1970.0, 1974.0, 1978.0, 1982.0, 2002.0, 2006.0, 2010.0, 2014.0], \"y\": [11.0, 25.0, 12.0, 15.0, 17.0, 13.0, 10.0, 12.0, 14.0, 14.0, 16.0, 25.0], \"type\": \"bar\", \"uid\": \"11aeb45c-ab6c-11e8-88a7-0242ac130005\"}, {\"name\": \"Brazil\", \"x\": [1930.0, 1938.0, 1950.0, 1978.0, 1982.0, 1994.0, 2002.0, 2006.0, 2010.0, 2014.0], \"y\": [5.0, 14.0, 22.0, 10.0, 15.0, 11.0, 18.0, 10.0, 9.0, 15.0], \"type\": \"bar\", \"uid\": \"11aeb65a-ab6c-11e8-88a7-0242ac130005\"}, {\"name\": \"Argentina\", \"x\": [1930.0, 1974.0, 1978.0, 1986.0, 1998.0, 2006.0, 2010.0], \"y\": [18.0, 9.0, 15.0, 14.0, 10.0, 11.0, 10.0], \"type\": \"bar\", \"uid\": \"11aeb74a-ab6c-11e8-88a7-0242ac130005\"}, {\"name\": \"Hungary\", \"x\": [1934.0, 1938.0, 1954.0, 1962.0, 1966.0, 1982.0], \"y\": [5.0, 15.0, 27.0, 8.0, 8.0, 12.0], \"type\": \"bar\", \"uid\": \"11aeb812-ab6c-11e8-88a7-0242ac130005\"}, {\"name\": \"France\", \"x\": [1958.0, 1982.0, 1986.0, 1998.0, 2006.0, 2014.0], \"y\": [23.0, 16.0, 12.0, 15.0, 9.0, 12.0], \"type\": \"bar\", \"uid\": \"11aeb8d0-ab6c-11e8-88a7-0242ac130005\"}, {\"name\": \"Netherlands\", \"x\": [1974.0, 1978.0, 1998.0, 2010.0, 2014.0], \"y\": [15.0, 15.0, 13.0, 12.0, 20.0], \"type\": \"bar\", \"uid\": \"11aeb984-ab6c-11e8-88a7-0242ac130005\"}, {\"name\": \"Czechoslovakia\", \"x\": [1934.0, 1938.0, 1958.0, 1962.0, 1990.0], \"y\": [9.0, 5.0, 9.0, 7.0, 10.0], \"type\": \"bar\", \"uid\": \"11aeba42-ab6c-11e8-88a7-0242ac130005\"}, {\"name\": \"Yugoslavia\", \"x\": [1930.0, 1950.0, 1962.0, 1974.0, 1990.0], \"y\": [7.0, 7.0, 10.0, 12.0, 8.0], \"type\": \"bar\", \"uid\": \"11aebb32-ab6c-11e8-88a7-0242ac130005\"}, {\"name\": \"Spain\", \"x\": [1950.0, 1986.0, 1994.0, 2002.0], \"y\": [10.0, 11.0, 10.0, 10.0], \"type\": \"bar\", \"uid\": \"11aebbe6-ab6c-11e8-88a7-0242ac130005\"}, {\"name\": \"Sweden\", \"x\": [1938.0, 1950.0, 1958.0, 1994.0], \"y\": [11.0, 11.0, 12.0, 15.0], \"type\": \"bar\", \"uid\": \"11aebc90-ab6c-11e8-88a7-0242ac130005\"}, {\"name\": \"Italy\", \"x\": [1970.0, 1978.0, 1982.0, 2006.0], \"y\": [10.0, 9.0, 12.0, 12.0], \"type\": \"bar\", \"uid\": \"11aebd3a-ab6c-11e8-88a7-0242ac130005\"}, {\"name\": \"Soviet Union\", \"x\": [1962.0, 1966.0, 1970.0, 1986.0], \"y\": [9.0, 10.0, 6.0, 12.0], \"type\": \"bar\", \"uid\": \"11aebdee-ab6c-11e8-88a7-0242ac130005\"}, {\"name\": \"Chile\", \"x\": [1930.0, 1950.0, 1962.0], \"y\": [5.0, 5.0, 10.0], \"type\": \"bar\", \"uid\": \"11aebe98-ab6c-11e8-88a7-0242ac130005\"}, {\"name\": \"England\", \"x\": [1990.0, 1998.0], \"y\": [8.0, 7.0], \"type\": \"bar\", \"uid\": \"11aebf42-ab6c-11e8-88a7-0242ac130005\"}, {\"name\": \"Switzerland\", \"x\": [1934.0, 1954.0], \"y\": [5.0, 11.0], \"type\": \"bar\", \"uid\": \"11aebfe2-ab6c-11e8-88a7-0242ac130005\"}, {\"name\": \"Uruguay\", \"x\": [1954.0, 2010.0], \"y\": [16.0, 11.0], \"type\": \"bar\", \"uid\": \"11aec08c-ab6c-11e8-88a7-0242ac130005\"}, {\"name\": \"Belgium\", \"x\": [1986.0, 1990.0], \"y\": [12.0, 6.0], \"type\": \"bar\", \"uid\": \"11aec136-ab6c-11e8-88a7-0242ac130005\"}, {\"name\": \"Austria\", \"x\": [1934.0, 1954.0], \"y\": [7.0, 17.0], \"type\": \"bar\", \"uid\": \"11aec1d6-ab6c-11e8-88a7-0242ac130005\"}, {\"name\": \"Colombia\", \"x\": [2014.0], \"y\": [15.0], \"type\": \"bar\", \"uid\": \"11aec280-ab6c-11e8-88a7-0242ac130005\"}, {\"name\": \"Cuba\", \"x\": [1938.0], \"y\": [5.0], \"type\": \"bar\", \"uid\": \"11aec32a-ab6c-11e8-88a7-0242ac130005\"}, {\"name\": \"Bulgaria\", \"x\": [1994.0], \"y\": [10.0], \"type\": \"bar\", \"uid\": \"11aec3ca-ab6c-11e8-88a7-0242ac130005\"}, {\"name\": \"Cameroon\", \"x\": [1990.0], \"y\": [7.0], \"type\": \"bar\", \"uid\": \"11aec474-ab6c-11e8-88a7-0242ac130005\"}, {\"name\": \"Turkey\", \"x\": [2002.0], \"y\": [10.0], \"type\": \"bar\", \"uid\": \"11aec51e-ab6c-11e8-88a7-0242ac130005\"}, {\"name\": \"USA\", \"x\": [1930.0], \"y\": [7.0], \"type\": \"bar\", \"uid\": \"11aec5c8-ab6c-11e8-88a7-0242ac130005\"}, {\"name\": \"Poland\", \"x\": [1974.0], \"y\": [16.0], \"type\": \"bar\", \"uid\": \"11aec668-ab6c-11e8-88a7-0242ac130005\"}, {\"name\": \"Romania\", \"x\": [1994.0], \"y\": [10.0], \"type\": \"bar\", \"uid\": \"11aec73a-ab6c-11e8-88a7-0242ac130005\"}, {\"name\": \"Korea Republic\", \"x\": [2002.0], \"y\": [8.0], \"type\": \"bar\", \"uid\": \"11aec7e4-ab6c-11e8-88a7-0242ac130005\"}, {\"name\": \"Korea DPR\", \"x\": [1966.0], \"y\": [5.0], \"type\": \"bar\", \"uid\": \"11aec884-ab6c-11e8-88a7-0242ac130005\"}, {\"name\": \"Peru\", \"x\": [1970.0], \"y\": [9.0], \"type\": \"bar\", \"uid\": \"11aec924-ab6c-11e8-88a7-0242ac130005\"}, {\"name\": \"Paraguay\", \"x\": [1958.0], \"y\": [9.0], \"type\": \"bar\", \"uid\": \"11aec9c4-ab6c-11e8-88a7-0242ac130005\"}, {\"name\": \"Mexico\", \"x\": [1970.0], \"y\": [6.0], \"type\": \"bar\", \"uid\": \"11aeca64-ab6c-11e8-88a7-0242ac130005\"}, {\"name\": \"Portugal\", \"x\": [1966.0], \"y\": [17.0], \"type\": \"bar\", \"uid\": \"11aecb04-ab6c-11e8-88a7-0242ac130005\"}, {\"name\": \"Nigeria\", \"x\": [1998.0], \"y\": [6.0], \"type\": \"bar\", \"uid\": \"11aecba4-ab6c-11e8-88a7-0242ac130005\"}],\n            {\"barmode\": \"stack\", \"showlegend\": false, \"title\": \"Top 5 teams which scored the most goals\"},\n            {\"showLink\": true, \"linkText\": \"Export to plot.ly\"}\n        ).then(function () {return Plotly.addFrames('8ba46ce3-77bf-4219-95b4-81d9d1292773',{});}).then(function(){Plotly.animate('8ba46ce3-77bf-4219-95b4-81d9d1292773');})\n        });</script>",
            "text/vnd.plotly.v1+html": "<div id=\"8ba46ce3-77bf-4219-95b4-81d9d1292773\" style=\"height: 525px; width: 100%;\" class=\"plotly-graph-div\"></div><script type=\"text/javascript\">require([\"plotly\"], function(Plotly) { window.PLOTLYENV=window.PLOTLYENV || {};window.PLOTLYENV.BASE_URL=\"https://plot.ly\";\n        Plotly.plot(\n            '8ba46ce3-77bf-4219-95b4-81d9d1292773',\n            [{\"name\": \"Germany\", \"x\": [1934.0, 1954.0, 1958.0, 1966.0, 1970.0, 1974.0, 1978.0, 1982.0, 2002.0, 2006.0, 2010.0, 2014.0], \"y\": [11.0, 25.0, 12.0, 15.0, 17.0, 13.0, 10.0, 12.0, 14.0, 14.0, 16.0, 25.0], \"type\": \"bar\", \"uid\": \"11aeb45c-ab6c-11e8-88a7-0242ac130005\"}, {\"name\": \"Brazil\", \"x\": [1930.0, 1938.0, 1950.0, 1978.0, 1982.0, 1994.0, 2002.0, 2006.0, 2010.0, 2014.0], \"y\": [5.0, 14.0, 22.0, 10.0, 15.0, 11.0, 18.0, 10.0, 9.0, 15.0], \"type\": \"bar\", \"uid\": \"11aeb65a-ab6c-11e8-88a7-0242ac130005\"}, {\"name\": \"Argentina\", \"x\": [1930.0, 1974.0, 1978.0, 1986.0, 1998.0, 2006.0, 2010.0], \"y\": [18.0, 9.0, 15.0, 14.0, 10.0, 11.0, 10.0], \"type\": \"bar\", \"uid\": \"11aeb74a-ab6c-11e8-88a7-0242ac130005\"}, {\"name\": \"Hungary\", \"x\": [1934.0, 1938.0, 1954.0, 1962.0, 1966.0, 1982.0], \"y\": [5.0, 15.0, 27.0, 8.0, 8.0, 12.0], \"type\": \"bar\", \"uid\": \"11aeb812-ab6c-11e8-88a7-0242ac130005\"}, {\"name\": \"France\", \"x\": [1958.0, 1982.0, 1986.0, 1998.0, 2006.0, 2014.0], \"y\": [23.0, 16.0, 12.0, 15.0, 9.0, 12.0], \"type\": \"bar\", \"uid\": \"11aeb8d0-ab6c-11e8-88a7-0242ac130005\"}, {\"name\": \"Netherlands\", \"x\": [1974.0, 1978.0, 1998.0, 2010.0, 2014.0], \"y\": [15.0, 15.0, 13.0, 12.0, 20.0], \"type\": \"bar\", \"uid\": \"11aeb984-ab6c-11e8-88a7-0242ac130005\"}, {\"name\": \"Czechoslovakia\", \"x\": [1934.0, 1938.0, 1958.0, 1962.0, 1990.0], \"y\": [9.0, 5.0, 9.0, 7.0, 10.0], \"type\": \"bar\", \"uid\": \"11aeba42-ab6c-11e8-88a7-0242ac130005\"}, {\"name\": \"Yugoslavia\", \"x\": [1930.0, 1950.0, 1962.0, 1974.0, 1990.0], \"y\": [7.0, 7.0, 10.0, 12.0, 8.0], \"type\": \"bar\", \"uid\": \"11aebb32-ab6c-11e8-88a7-0242ac130005\"}, {\"name\": \"Spain\", \"x\": [1950.0, 1986.0, 1994.0, 2002.0], \"y\": [10.0, 11.0, 10.0, 10.0], \"type\": \"bar\", \"uid\": \"11aebbe6-ab6c-11e8-88a7-0242ac130005\"}, {\"name\": \"Sweden\", \"x\": [1938.0, 1950.0, 1958.0, 1994.0], \"y\": [11.0, 11.0, 12.0, 15.0], \"type\": \"bar\", \"uid\": \"11aebc90-ab6c-11e8-88a7-0242ac130005\"}, {\"name\": \"Italy\", \"x\": [1970.0, 1978.0, 1982.0, 2006.0], \"y\": [10.0, 9.0, 12.0, 12.0], \"type\": \"bar\", \"uid\": \"11aebd3a-ab6c-11e8-88a7-0242ac130005\"}, {\"name\": \"Soviet Union\", \"x\": [1962.0, 1966.0, 1970.0, 1986.0], \"y\": [9.0, 10.0, 6.0, 12.0], \"type\": \"bar\", \"uid\": \"11aebdee-ab6c-11e8-88a7-0242ac130005\"}, {\"name\": \"Chile\", \"x\": [1930.0, 1950.0, 1962.0], \"y\": [5.0, 5.0, 10.0], \"type\": \"bar\", \"uid\": \"11aebe98-ab6c-11e8-88a7-0242ac130005\"}, {\"name\": \"England\", \"x\": [1990.0, 1998.0], \"y\": [8.0, 7.0], \"type\": \"bar\", \"uid\": \"11aebf42-ab6c-11e8-88a7-0242ac130005\"}, {\"name\": \"Switzerland\", \"x\": [1934.0, 1954.0], \"y\": [5.0, 11.0], \"type\": \"bar\", \"uid\": \"11aebfe2-ab6c-11e8-88a7-0242ac130005\"}, {\"name\": \"Uruguay\", \"x\": [1954.0, 2010.0], \"y\": [16.0, 11.0], \"type\": \"bar\", \"uid\": \"11aec08c-ab6c-11e8-88a7-0242ac130005\"}, {\"name\": \"Belgium\", \"x\": [1986.0, 1990.0], \"y\": [12.0, 6.0], \"type\": \"bar\", \"uid\": \"11aec136-ab6c-11e8-88a7-0242ac130005\"}, {\"name\": \"Austria\", \"x\": [1934.0, 1954.0], \"y\": [7.0, 17.0], \"type\": \"bar\", \"uid\": \"11aec1d6-ab6c-11e8-88a7-0242ac130005\"}, {\"name\": \"Colombia\", \"x\": [2014.0], \"y\": [15.0], \"type\": \"bar\", \"uid\": \"11aec280-ab6c-11e8-88a7-0242ac130005\"}, {\"name\": \"Cuba\", \"x\": [1938.0], \"y\": [5.0], \"type\": \"bar\", \"uid\": \"11aec32a-ab6c-11e8-88a7-0242ac130005\"}, {\"name\": \"Bulgaria\", \"x\": [1994.0], \"y\": [10.0], \"type\": \"bar\", \"uid\": \"11aec3ca-ab6c-11e8-88a7-0242ac130005\"}, {\"name\": \"Cameroon\", \"x\": [1990.0], \"y\": [7.0], \"type\": \"bar\", \"uid\": \"11aec474-ab6c-11e8-88a7-0242ac130005\"}, {\"name\": \"Turkey\", \"x\": [2002.0], \"y\": [10.0], \"type\": \"bar\", \"uid\": \"11aec51e-ab6c-11e8-88a7-0242ac130005\"}, {\"name\": \"USA\", \"x\": [1930.0], \"y\": [7.0], \"type\": \"bar\", \"uid\": \"11aec5c8-ab6c-11e8-88a7-0242ac130005\"}, {\"name\": \"Poland\", \"x\": [1974.0], \"y\": [16.0], \"type\": \"bar\", \"uid\": \"11aec668-ab6c-11e8-88a7-0242ac130005\"}, {\"name\": \"Romania\", \"x\": [1994.0], \"y\": [10.0], \"type\": \"bar\", \"uid\": \"11aec73a-ab6c-11e8-88a7-0242ac130005\"}, {\"name\": \"Korea Republic\", \"x\": [2002.0], \"y\": [8.0], \"type\": \"bar\", \"uid\": \"11aec7e4-ab6c-11e8-88a7-0242ac130005\"}, {\"name\": \"Korea DPR\", \"x\": [1966.0], \"y\": [5.0], \"type\": \"bar\", \"uid\": \"11aec884-ab6c-11e8-88a7-0242ac130005\"}, {\"name\": \"Peru\", \"x\": [1970.0], \"y\": [9.0], \"type\": \"bar\", \"uid\": \"11aec924-ab6c-11e8-88a7-0242ac130005\"}, {\"name\": \"Paraguay\", \"x\": [1958.0], \"y\": [9.0], \"type\": \"bar\", \"uid\": \"11aec9c4-ab6c-11e8-88a7-0242ac130005\"}, {\"name\": \"Mexico\", \"x\": [1970.0], \"y\": [6.0], \"type\": \"bar\", \"uid\": \"11aeca64-ab6c-11e8-88a7-0242ac130005\"}, {\"name\": \"Portugal\", \"x\": [1966.0], \"y\": [17.0], \"type\": \"bar\", \"uid\": \"11aecb04-ab6c-11e8-88a7-0242ac130005\"}, {\"name\": \"Nigeria\", \"x\": [1998.0], \"y\": [6.0], \"type\": \"bar\", \"uid\": \"11aecba4-ab6c-11e8-88a7-0242ac130005\"}],\n            {\"barmode\": \"stack\", \"showlegend\": false, \"title\": \"Top 5 teams which scored the most goals\"},\n            {\"showLink\": true, \"linkText\": \"Export to plot.ly\"}\n        ).then(function () {return Plotly.addFrames('8ba46ce3-77bf-4219-95b4-81d9d1292773',{});}).then(function(){Plotly.animate('8ba46ce3-77bf-4219-95b4-81d9d1292773');})\n        });</script>"
          },
          "metadata": {}
        }
      ]
    },
    {
      "metadata": {
        "trusted": true,
        "_uuid": "08a25883f3ad794f3797487c6ad2f313bc7d2679"
      },
      "cell_type": "code",
      "source": "",
      "execution_count": null,
      "outputs": []
    },
    {
      "metadata": {
        "trusted": true,
        "_uuid": "74d6a65496a4cc6ba33a5a9e16d24bb32274f011"
      },
      "cell_type": "code",
      "source": "",
      "execution_count": null,
      "outputs": []
    }
  ],
  "metadata": {
    "kernelspec": {
      "display_name": "Python 3",
      "language": "python",
      "name": "python3"
    },
    "language_info": {
      "name": "python",
      "version": "3.6.6",
      "mimetype": "text/x-python",
      "codemirror_mode": {
        "name": "ipython",
        "version": 3
      },
      "pygments_lexer": "ipython3",
      "nbconvert_exporter": "python",
      "file_extension": ".py"
    }
  },
  "nbformat": 4,
  "nbformat_minor": 1
}