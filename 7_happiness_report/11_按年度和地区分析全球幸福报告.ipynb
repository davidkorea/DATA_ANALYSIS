{
 "cells": [
  {
   "cell_type": "code",
   "execution_count": 1,
   "metadata": {},
   "outputs": [
    {
     "name": "stderr",
     "output_type": "stream",
     "text": [
      "/usr/local/Cellar/python3/3.6.3/Frameworks/Python.framework/Versions/3.6/lib/python3.6/importlib/_bootstrap.py:219: RuntimeWarning: numpy.dtype size changed, may indicate binary incompatibility. Expected 96, got 88\n",
      "  return f(*args, **kwds)\n"
     ]
    }
   ],
   "source": [
    "import pandas as pd\n",
    "import matplotlib.pyplot as plt"
   ]
  },
  {
   "cell_type": "code",
   "execution_count": 3,
   "metadata": {},
   "outputs": [],
   "source": [
    "data_df = pd.read_csv('../data/happiness_report.csv')"
   ]
  },
  {
   "cell_type": "code",
   "execution_count": 5,
   "metadata": {},
   "outputs": [
    {
     "data": {
      "text/html": [
       "<div>\n",
       "<style scoped>\n",
       "    .dataframe tbody tr th:only-of-type {\n",
       "        vertical-align: middle;\n",
       "    }\n",
       "\n",
       "    .dataframe tbody tr th {\n",
       "        vertical-align: top;\n",
       "    }\n",
       "\n",
       "    .dataframe thead th {\n",
       "        text-align: right;\n",
       "    }\n",
       "</style>\n",
       "<table border=\"1\" class=\"dataframe\">\n",
       "  <thead>\n",
       "    <tr style=\"text-align: right;\">\n",
       "      <th></th>\n",
       "      <th>Country</th>\n",
       "      <th>Region</th>\n",
       "      <th>Happiness Rank</th>\n",
       "      <th>Happiness Score</th>\n",
       "      <th>Economy (GDP per Capita)</th>\n",
       "      <th>Year</th>\n",
       "    </tr>\n",
       "  </thead>\n",
       "  <tbody>\n",
       "    <tr>\n",
       "      <th>0</th>\n",
       "      <td>Afghanistan</td>\n",
       "      <td>Southern Asia</td>\n",
       "      <td>153.0</td>\n",
       "      <td>3.575</td>\n",
       "      <td>0.31982</td>\n",
       "      <td>2015</td>\n",
       "    </tr>\n",
       "    <tr>\n",
       "      <th>1</th>\n",
       "      <td>Albania</td>\n",
       "      <td>Central and Eastern Europe</td>\n",
       "      <td>95.0</td>\n",
       "      <td>4.959</td>\n",
       "      <td>0.87867</td>\n",
       "      <td>2015</td>\n",
       "    </tr>\n",
       "    <tr>\n",
       "      <th>2</th>\n",
       "      <td>Algeria</td>\n",
       "      <td>Middle East and Northern Africa</td>\n",
       "      <td>68.0</td>\n",
       "      <td>5.605</td>\n",
       "      <td>0.93929</td>\n",
       "      <td>2015</td>\n",
       "    </tr>\n",
       "    <tr>\n",
       "      <th>3</th>\n",
       "      <td>Angola</td>\n",
       "      <td>Sub-Saharan Africa</td>\n",
       "      <td>137.0</td>\n",
       "      <td>4.033</td>\n",
       "      <td>0.75778</td>\n",
       "      <td>2015</td>\n",
       "    </tr>\n",
       "    <tr>\n",
       "      <th>4</th>\n",
       "      <td>Argentina</td>\n",
       "      <td>Latin America and Caribbean</td>\n",
       "      <td>30.0</td>\n",
       "      <td>6.574</td>\n",
       "      <td>1.05351</td>\n",
       "      <td>2015</td>\n",
       "    </tr>\n",
       "  </tbody>\n",
       "</table>\n",
       "</div>"
      ],
      "text/plain": [
       "       Country                           Region  Happiness Rank  \\\n",
       "0  Afghanistan                    Southern Asia           153.0   \n",
       "1      Albania       Central and Eastern Europe            95.0   \n",
       "2      Algeria  Middle East and Northern Africa            68.0   \n",
       "3       Angola               Sub-Saharan Africa           137.0   \n",
       "4    Argentina      Latin America and Caribbean            30.0   \n",
       "\n",
       "   Happiness Score  Economy (GDP per Capita)  Year  \n",
       "0            3.575                   0.31982  2015  \n",
       "1            4.959                   0.87867  2015  \n",
       "2            5.605                   0.93929  2015  \n",
       "3            4.033                   0.75778  2015  \n",
       "4            6.574                   1.05351  2015  "
      ]
     },
     "execution_count": 5,
     "metadata": {},
     "output_type": "execute_result"
    }
   ],
   "source": [
    "data_df.head()"
   ]
  },
  {
   "cell_type": "code",
   "execution_count": 6,
   "metadata": {},
   "outputs": [
    {
     "name": "stdout",
     "output_type": "stream",
     "text": [
      "<class 'pandas.core.frame.DataFrame'>\n",
      "RangeIndex: 495 entries, 0 to 494\n",
      "Data columns (total 6 columns):\n",
      "Country                     495 non-null object\n",
      "Region                      495 non-null object\n",
      "Happiness Rank              470 non-null float64\n",
      "Happiness Score             470 non-null float64\n",
      "Economy (GDP per Capita)    470 non-null float64\n",
      "Year                        495 non-null int64\n",
      "dtypes: float64(3), int64(1), object(2)\n",
      "memory usage: 23.3+ KB\n"
     ]
    }
   ],
   "source": [
    "data_df.info()"
   ]
  },
  {
   "cell_type": "code",
   "execution_count": 7,
   "metadata": {},
   "outputs": [
    {
     "data": {
      "text/plain": [
       "Country                      0\n",
       "Region                       0\n",
       "Happiness Rank              25\n",
       "Happiness Score             25\n",
       "Economy (GDP per Capita)    25\n",
       "Year                         0\n",
       "dtype: int64"
      ]
     },
     "execution_count": 7,
     "metadata": {},
     "output_type": "execute_result"
    }
   ],
   "source": [
    "data_df.isnull().sum(axis=0)"
   ]
  },
  {
   "cell_type": "code",
   "execution_count": 8,
   "metadata": {},
   "outputs": [],
   "source": [
    "data_df.dropna(inplace=True)"
   ]
  },
  {
   "cell_type": "code",
   "execution_count": 10,
   "metadata": {},
   "outputs": [
    {
     "data": {
      "text/plain": [
       "Sub-Saharan Africa                 117\n",
       "Central and Eastern Europe          87\n",
       "Latin America and Caribbean         68\n",
       "Western Europe                      63\n",
       "Middle East and Northern Africa     58\n",
       "Southeastern Asia                   26\n",
       "Southern Asia                       21\n",
       "Eastern Asia                        18\n",
       "Australia and New Zealand            6\n",
       "North America                        6\n",
       "Name: Region, dtype: int64"
      ]
     },
     "execution_count": 10,
     "metadata": {},
     "output_type": "execute_result"
    }
   ],
   "source": [
    "data_df['Region'].value_counts()"
   ]
  },
  {
   "cell_type": "code",
   "execution_count": 18,
   "metadata": {},
   "outputs": [],
   "source": [
    "gb_df = data_df.groupby( ['Year','Region'] )['Happiness Score'].mean()"
   ]
  },
  {
   "cell_type": "code",
   "execution_count": 20,
   "metadata": {},
   "outputs": [
    {
     "data": {
      "text/plain": [
       "Year  Region                         \n",
       "2015  Australia and New Zealand          7.285000\n",
       "      Central and Eastern Europe         5.332931\n",
       "      Eastern Asia                       5.626167\n",
       "      Latin America and Caribbean        6.144682\n",
       "      Middle East and Northern Africa    5.406900\n",
       "      North America                      7.273000\n",
       "      Southeastern Asia                  5.317444\n",
       "      Southern Asia                      4.580857\n",
       "      Sub-Saharan Africa                 4.202800\n",
       "      Western Europe                     6.689619\n",
       "2016  Australia and New Zealand          7.323500\n",
       "      Central and Eastern Europe         5.370690\n",
       "      Eastern Asia                       5.624167\n",
       "      Latin America and Caribbean        6.101750\n",
       "      Middle East and Northern Africa    5.386053\n",
       "      North America                      7.254000\n",
       "      Southeastern Asia                  5.338889\n",
       "      Southern Asia                      4.563286\n",
       "      Sub-Saharan Africa                 4.136421\n",
       "      Western Europe                     6.685667\n",
       "2017  Australia and New Zealand          7.299000\n",
       "      Central and Eastern Europe         5.409931\n",
       "      Eastern Asia                       5.646667\n",
       "      Latin America and Caribbean        5.957818\n",
       "      Middle East and Northern Africa    5.369684\n",
       "      North America                      7.154500\n",
       "      Southeastern Asia                  5.444875\n",
       "      Southern Asia                      4.628429\n",
       "      Sub-Saharan Africa                 4.111949\n",
       "      Western Europe                     6.703714\n",
       "Name: Happiness Score, dtype: float64"
      ]
     },
     "execution_count": 20,
     "metadata": {},
     "output_type": "execute_result"
    }
   ],
   "source": [
    "gb_df"
   ]
  },
  {
   "cell_type": "markdown",
   "metadata": {},
   "source": [
    "- ```pd.pivot_table(data, values=None, index=None, columns=None, aggfunc='mean', fill_value=None, margins=False, dropna=True, margins_name='All')```"
   ]
  },
  {
   "cell_type": "code",
   "execution_count": 21,
   "metadata": {},
   "outputs": [
    {
     "data": {
      "text/html": [
       "<div>\n",
       "<style scoped>\n",
       "    .dataframe tbody tr th:only-of-type {\n",
       "        vertical-align: middle;\n",
       "    }\n",
       "\n",
       "    .dataframe tbody tr th {\n",
       "        vertical-align: top;\n",
       "    }\n",
       "\n",
       "    .dataframe thead th {\n",
       "        text-align: right;\n",
       "    }\n",
       "</style>\n",
       "<table border=\"1\" class=\"dataframe\">\n",
       "  <thead>\n",
       "    <tr style=\"text-align: right;\">\n",
       "      <th>Region</th>\n",
       "      <th>Australia and New Zealand</th>\n",
       "      <th>Central and Eastern Europe</th>\n",
       "      <th>Eastern Asia</th>\n",
       "      <th>Latin America and Caribbean</th>\n",
       "      <th>Middle East and Northern Africa</th>\n",
       "      <th>North America</th>\n",
       "      <th>Southeastern Asia</th>\n",
       "      <th>Southern Asia</th>\n",
       "      <th>Sub-Saharan Africa</th>\n",
       "      <th>Western Europe</th>\n",
       "    </tr>\n",
       "    <tr>\n",
       "      <th>Year</th>\n",
       "      <th></th>\n",
       "      <th></th>\n",
       "      <th></th>\n",
       "      <th></th>\n",
       "      <th></th>\n",
       "      <th></th>\n",
       "      <th></th>\n",
       "      <th></th>\n",
       "      <th></th>\n",
       "      <th></th>\n",
       "    </tr>\n",
       "  </thead>\n",
       "  <tbody>\n",
       "    <tr>\n",
       "      <th>2015</th>\n",
       "      <td>7.2850</td>\n",
       "      <td>5.332931</td>\n",
       "      <td>5.626167</td>\n",
       "      <td>6.144682</td>\n",
       "      <td>5.406900</td>\n",
       "      <td>7.2730</td>\n",
       "      <td>5.317444</td>\n",
       "      <td>4.580857</td>\n",
       "      <td>4.202800</td>\n",
       "      <td>6.689619</td>\n",
       "    </tr>\n",
       "    <tr>\n",
       "      <th>2016</th>\n",
       "      <td>7.3235</td>\n",
       "      <td>5.370690</td>\n",
       "      <td>5.624167</td>\n",
       "      <td>6.101750</td>\n",
       "      <td>5.386053</td>\n",
       "      <td>7.2540</td>\n",
       "      <td>5.338889</td>\n",
       "      <td>4.563286</td>\n",
       "      <td>4.136421</td>\n",
       "      <td>6.685667</td>\n",
       "    </tr>\n",
       "    <tr>\n",
       "      <th>2017</th>\n",
       "      <td>7.2990</td>\n",
       "      <td>5.409931</td>\n",
       "      <td>5.646667</td>\n",
       "      <td>5.957818</td>\n",
       "      <td>5.369684</td>\n",
       "      <td>7.1545</td>\n",
       "      <td>5.444875</td>\n",
       "      <td>4.628429</td>\n",
       "      <td>4.111949</td>\n",
       "      <td>6.703714</td>\n",
       "    </tr>\n",
       "  </tbody>\n",
       "</table>\n",
       "</div>"
      ],
      "text/plain": [
       "Region  Australia and New Zealand  Central and Eastern Europe  Eastern Asia  \\\n",
       "Year                                                                          \n",
       "2015                       7.2850                    5.332931      5.626167   \n",
       "2016                       7.3235                    5.370690      5.624167   \n",
       "2017                       7.2990                    5.409931      5.646667   \n",
       "\n",
       "Region  Latin America and Caribbean  Middle East and Northern Africa  \\\n",
       "Year                                                                   \n",
       "2015                       6.144682                         5.406900   \n",
       "2016                       6.101750                         5.386053   \n",
       "2017                       5.957818                         5.369684   \n",
       "\n",
       "Region  North America  Southeastern Asia  Southern Asia  Sub-Saharan Africa  \\\n",
       "Year                                                                          \n",
       "2015           7.2730           5.317444       4.580857            4.202800   \n",
       "2016           7.2540           5.338889       4.563286            4.136421   \n",
       "2017           7.1545           5.444875       4.628429            4.111949   \n",
       "\n",
       "Region  Western Europe  \n",
       "Year                    \n",
       "2015          6.689619  \n",
       "2016          6.685667  \n",
       "2017          6.703714  "
      ]
     },
     "execution_count": 21,
     "metadata": {},
     "output_type": "execute_result"
    }
   ],
   "source": [
    "pd.pivot_table(data_df, index='Year', columns='Region', values='Happiness Score', aggfunc='mean')"
   ]
  },
  {
   "cell_type": "code",
   "execution_count": 23,
   "metadata": {},
   "outputs": [
    {
     "data": {
      "text/html": [
       "<div>\n",
       "<style scoped>\n",
       "    .dataframe tbody tr th:only-of-type {\n",
       "        vertical-align: middle;\n",
       "    }\n",
       "\n",
       "    .dataframe tbody tr th {\n",
       "        vertical-align: top;\n",
       "    }\n",
       "\n",
       "    .dataframe thead tr th {\n",
       "        text-align: left;\n",
       "    }\n",
       "\n",
       "    .dataframe thead tr:last-of-type th {\n",
       "        text-align: right;\n",
       "    }\n",
       "</style>\n",
       "<table border=\"1\" class=\"dataframe\">\n",
       "  <thead>\n",
       "    <tr>\n",
       "      <th></th>\n",
       "      <th colspan=\"3\" halign=\"left\">Economy (GDP per Capita)</th>\n",
       "      <th colspan=\"3\" halign=\"left\">Happiness Score</th>\n",
       "    </tr>\n",
       "    <tr>\n",
       "      <th>Year</th>\n",
       "      <th>2015</th>\n",
       "      <th>2016</th>\n",
       "      <th>2017</th>\n",
       "      <th>2015</th>\n",
       "      <th>2016</th>\n",
       "      <th>2017</th>\n",
       "    </tr>\n",
       "    <tr>\n",
       "      <th>Region</th>\n",
       "      <th></th>\n",
       "      <th></th>\n",
       "      <th></th>\n",
       "      <th></th>\n",
       "      <th></th>\n",
       "      <th></th>\n",
       "    </tr>\n",
       "  </thead>\n",
       "  <tbody>\n",
       "    <tr>\n",
       "      <th>Australia and New Zealand</th>\n",
       "      <td>1.291880</td>\n",
       "      <td>1.402545</td>\n",
       "      <td>1.445060</td>\n",
       "      <td>7.285000</td>\n",
       "      <td>7.323500</td>\n",
       "      <td>7.299000</td>\n",
       "    </tr>\n",
       "    <tr>\n",
       "      <th>Central and Eastern Europe</th>\n",
       "      <td>0.942438</td>\n",
       "      <td>1.047537</td>\n",
       "      <td>1.092051</td>\n",
       "      <td>5.332931</td>\n",
       "      <td>5.370690</td>\n",
       "      <td>5.409931</td>\n",
       "    </tr>\n",
       "    <tr>\n",
       "      <th>Eastern Asia</th>\n",
       "      <td>1.151780</td>\n",
       "      <td>1.277312</td>\n",
       "      <td>1.318716</td>\n",
       "      <td>5.626167</td>\n",
       "      <td>5.624167</td>\n",
       "      <td>5.646667</td>\n",
       "    </tr>\n",
       "    <tr>\n",
       "      <th>Latin America and Caribbean</th>\n",
       "      <td>0.876815</td>\n",
       "      <td>0.993410</td>\n",
       "      <td>1.006981</td>\n",
       "      <td>6.144682</td>\n",
       "      <td>6.101750</td>\n",
       "      <td>5.957818</td>\n",
       "    </tr>\n",
       "    <tr>\n",
       "      <th>Middle East and Northern Africa</th>\n",
       "      <td>1.066973</td>\n",
       "      <td>1.139323</td>\n",
       "      <td>1.168535</td>\n",
       "      <td>5.406900</td>\n",
       "      <td>5.386053</td>\n",
       "      <td>5.369684</td>\n",
       "    </tr>\n",
       "    <tr>\n",
       "      <th>North America</th>\n",
       "      <td>1.360400</td>\n",
       "      <td>1.474055</td>\n",
       "      <td>1.512732</td>\n",
       "      <td>7.273000</td>\n",
       "      <td>7.254000</td>\n",
       "      <td>7.154500</td>\n",
       "    </tr>\n",
       "    <tr>\n",
       "      <th>Southeastern Asia</th>\n",
       "      <td>0.789054</td>\n",
       "      <td>0.896381</td>\n",
       "      <td>0.965253</td>\n",
       "      <td>5.317444</td>\n",
       "      <td>5.338889</td>\n",
       "      <td>5.444875</td>\n",
       "    </tr>\n",
       "    <tr>\n",
       "      <th>Southern Asia</th>\n",
       "      <td>0.560486</td>\n",
       "      <td>0.660671</td>\n",
       "      <td>0.697479</td>\n",
       "      <td>4.580857</td>\n",
       "      <td>4.563286</td>\n",
       "      <td>4.628429</td>\n",
       "    </tr>\n",
       "    <tr>\n",
       "      <th>Sub-Saharan Africa</th>\n",
       "      <td>0.380473</td>\n",
       "      <td>0.474321</td>\n",
       "      <td>0.501749</td>\n",
       "      <td>4.202800</td>\n",
       "      <td>4.136421</td>\n",
       "      <td>4.111949</td>\n",
       "    </tr>\n",
       "    <tr>\n",
       "      <th>Western Europe</th>\n",
       "      <td>1.298596</td>\n",
       "      <td>1.417056</td>\n",
       "      <td>1.457411</td>\n",
       "      <td>6.689619</td>\n",
       "      <td>6.685667</td>\n",
       "      <td>6.703714</td>\n",
       "    </tr>\n",
       "  </tbody>\n",
       "</table>\n",
       "</div>"
      ],
      "text/plain": [
       "                                Economy (GDP per Capita)                      \\\n",
       "Year                                                2015      2016      2017   \n",
       "Region                                                                         \n",
       "Australia and New Zealand                       1.291880  1.402545  1.445060   \n",
       "Central and Eastern Europe                      0.942438  1.047537  1.092051   \n",
       "Eastern Asia                                    1.151780  1.277312  1.318716   \n",
       "Latin America and Caribbean                     0.876815  0.993410  1.006981   \n",
       "Middle East and Northern Africa                 1.066973  1.139323  1.168535   \n",
       "North America                                   1.360400  1.474055  1.512732   \n",
       "Southeastern Asia                               0.789054  0.896381  0.965253   \n",
       "Southern Asia                                   0.560486  0.660671  0.697479   \n",
       "Sub-Saharan Africa                              0.380473  0.474321  0.501749   \n",
       "Western Europe                                  1.298596  1.417056  1.457411   \n",
       "\n",
       "                                Happiness Score                      \n",
       "Year                                       2015      2016      2017  \n",
       "Region                                                               \n",
       "Australia and New Zealand              7.285000  7.323500  7.299000  \n",
       "Central and Eastern Europe             5.332931  5.370690  5.409931  \n",
       "Eastern Asia                           5.626167  5.624167  5.646667  \n",
       "Latin America and Caribbean            6.144682  6.101750  5.957818  \n",
       "Middle East and Northern Africa        5.406900  5.386053  5.369684  \n",
       "North America                          7.273000  7.254000  7.154500  \n",
       "Southeastern Asia                      5.317444  5.338889  5.444875  \n",
       "Southern Asia                          4.580857  4.563286  4.628429  \n",
       "Sub-Saharan Africa                     4.202800  4.136421  4.111949  \n",
       "Western Europe                         6.689619  6.685667  6.703714  "
      ]
     },
     "execution_count": 23,
     "metadata": {},
     "output_type": "execute_result"
    }
   ],
   "source": [
    "year_region_pivot = pd.pivot_table(data_df, index='Region', columns='Year',\n",
    "                                               values=['Happiness Score', 'Economy (GDP per Capita)'],\n",
    "                                               aggfunc='mean')\n",
    "year_region_pivot"
   ]
  },
  {
   "cell_type": "code",
   "execution_count": 28,
   "metadata": {},
   "outputs": [
    {
     "data": {
      "text/plain": [
       "<matplotlib.axes._subplots.AxesSubplot at 0x118a88c50>"
      ]
     },
     "execution_count": 28,
     "metadata": {},
     "output_type": "execute_result"
    },
    {
     "data": {
      "image/png": "[encoded data removed]",
      "text/plain": [
       "<Figure size 432x288 with 1 Axes>"
      ]
     },
     "metadata": {},
     "output_type": "display_data"
    },
    {
     "data": {
      "image/png": "[encoded data removed]",
      "text/plain": [
       "<Figure size 432x288 with 1 Axes>"
      ]
     },
     "metadata": {},
     "output_type": "display_data"
    }
   ],
   "source": [
    "year_region_pivot.plot(kind='bar', y='Happiness Score')\n",
    "year_region_pivot.plot(y='Economy (GDP per Capita)')"
   ]
  },
  {
   "cell_type": "code",
   "execution_count": 30,
   "metadata": {},
   "outputs": [
    {
     "data": {
      "image/png": "[encoded data removed]",
      "text/plain": [
       "<Figure size 432x288 with 1 Axes>"
      ]
     },
     "metadata": {},
     "output_type": "display_data"
    },
    {
     "data": {
      "image/png": "[encoded data removed]",
      "text/plain": [
       "<Figure size 432x288 with 1 Axes>"
      ]
     },
     "metadata": {},
     "output_type": "display_data"
    }
   ],
   "source": [
    "year_region_pivot['Happiness Score'].plot(kind='bar', title='Happiness Score')\n",
    "plt.tight_layout()\n",
    "plt.show()\n",
    "\n",
    "year_region_pivot['Economy (GDP per Capita)'].plot(kind='bar', title='Economy (GDP per Capita)')\n",
    "plt.tight_layout()\n",
    "plt.show()"
   ]
  },
  {
   "cell_type": "code",
   "execution_count": null,
   "metadata": {},
   "outputs": [],
   "source": []
  },
  {
   "cell_type": "code",
   "execution_count": null,
   "metadata": {},
   "outputs": [],
   "source": []
  },
  {
   "cell_type": "markdown",
   "metadata": {},
   "source": [
    "```python\n",
    "\n",
    "\"\"\"\n",
    "    明确任务：\n",
    "        按年度、地区分析全球幸福报告\n",
    "\"\"\"\n",
    "import os\n",
    "import pandas as pd\n",
    "import matplotlib.pyplot as plt\n",
    "\n",
    "\n",
    "# 年度全球幸福报告数据文件\n",
    "report_datafile_path = './data_pd/happiness_report.csv'\n",
    "\n",
    "# 结果保存路径\n",
    "output_path = './output'\n",
    "if not os.path.exists(output_path):\n",
    "    os.makedirs(output_path)\n",
    "\n",
    "\n",
    "def collect_data():\n",
    "    \"\"\"\n",
    "        数据获取\n",
    "    \"\"\"\n",
    "    data_df = pd.read_csv(report_datafile_path)\n",
    "    return data_df\n",
    "\n",
    "\n",
    "def process_data(data_df):\n",
    "    \"\"\"\n",
    "        数据处理\n",
    "    \"\"\"\n",
    "    data_df.dropna(inplace=True)\n",
    "    data_df.sort_values(['Year', 'Happiness Score'], ascending=[True, False], inplace=True)\n",
    "    return data_df\n",
    "\n",
    "\n",
    "def analyze_data(data_df):\n",
    "    \"\"\"\n",
    "        数据分析\n",
    "    \"\"\"\n",
    "    year_region_grouped_results = data_df.groupby(by=['Year', 'Region'])['Happiness Score'].mean()\n",
    "    year_region_pivot_results = pd.pivot_table(data_df, index='Region', columns='Year',\n",
    "                                               values=['Happiness Score', 'Economy (GDP per Capita)'],\n",
    "                                               aggfunc='mean')\n",
    "    return year_region_grouped_results, year_region_pivot_results\n",
    "\n",
    "\n",
    "def save_plot_results(year_region_grouped_results, year_region_pivot_results):\n",
    "    \"\"\"\n",
    "        结果展示\n",
    "    \"\"\"\n",
    "    year_region_grouped_results.to_csv(os.path.join(output_path, 'year_region_grouped_results.csv'))\n",
    "    year_region_pivot_results.to_csv(os.path.join(output_path, 'year_region_pivot_results.csv'))\n",
    "\n",
    "    year_region_pivot_results['Happiness Score'].plot(kind='bar', title='Happiness Score')\n",
    "    plt.tight_layout()\n",
    "    plt.show()\n",
    "\n",
    "    year_region_pivot_results['Economy (GDP per Capita)'].plot(kind='bar', title='Economy (GDP per Capita)')\n",
    "    plt.tight_layout()\n",
    "    plt.show()\n",
    "\n",
    "\n",
    "def main():\n",
    "    \"\"\"\n",
    "        主函数\n",
    "    \"\"\"\n",
    "    # 数据获取\n",
    "    data_df = collect_data()\n",
    "\n",
    "    # 数据处理\n",
    "    proc_data_df = process_data(data_df)\n",
    "\n",
    "    # 数据分析\n",
    "    year_region_grouped_results, year_region_pivot_results = analyze_data(proc_data_df)\n",
    "\n",
    "    # 结果展示\n",
    "    save_plot_results(year_region_grouped_results, year_region_pivot_results)\n",
    "\n",
    "\n",
    "if __name__ == '__main__':\n",
    "    main()\n",
    "```"
   ]
  },
  {
   "cell_type": "code",
   "execution_count": null,
   "metadata": {},
   "outputs": [],
   "source": []
  }
 ],
 "metadata": {
  "kernelspec": {
   "display_name": "Python 3",
   "language": "python",
   "name": "python3"
  },
  "language_info": {
   "codemirror_mode": {
    "name": "ipython",
    "version": 3
   },
   "file_extension": ".py",
   "mimetype": "text/x-python",
   "name": "python",
   "nbconvert_exporter": "python",
   "pygments_lexer": "ipython3",
   "version": "3.6.3"
  }
 },
 "nbformat": 4,
 "nbformat_minor": 2
}
