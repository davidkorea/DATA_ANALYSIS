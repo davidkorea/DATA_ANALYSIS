{
 "cells": [
  {
   "cell_type": "code",
   "execution_count": 14,
   "metadata": {},
   "outputs": [
    {
     "name": "stderr",
     "output_type": "stream",
     "text": [
      "/usr/local/Cellar/python3/3.6.3/Frameworks/Python.framework/Versions/3.6/lib/python3.6/importlib/_bootstrap.py:219: RuntimeWarning: numpy.dtype size changed, may indicate binary incompatibility. Expected 96, got 88\n",
      "  return f(*args, **kwds)\n"
     ]
    }
   ],
   "source": [
    "import numpy as np\n",
    "import matplotlib.pyplot as plt\n",
    "import os\n",
    "import pandas as pd"
   ]
  },
  {
   "cell_type": "code",
   "execution_count": 5,
   "metadata": {},
   "outputs": [
    {
     "data": {
      "text/plain": [
       "True"
      ]
     },
     "execution_count": 5,
     "metadata": {},
     "output_type": "execute_result"
    }
   ],
   "source": [
    "path = '../data/bikeshare'\n",
    "os.path.exists(path)"
   ]
  },
  {
   "cell_type": "code",
   "execution_count": 4,
   "metadata": {},
   "outputs": [
    {
     "data": {
      "text/plain": [
       "['2017-q1_trip_history_data.csv',\n",
       " '2017-q2_trip_history_data.csv',\n",
       " '2017-q3_trip_history_data.csv',\n",
       " '2017-q4_trip_history_data.csv']"
      ]
     },
     "execution_count": 4,
     "metadata": {},
     "output_type": "execute_result"
    }
   ],
   "source": [
    "os.listdir(path)"
   ]
  },
  {
   "cell_type": "code",
   "execution_count": 7,
   "metadata": {},
   "outputs": [],
   "source": [
    "data_files = ['2017-q1_trip_history_data.csv', '2017-q2_trip_history_data.csv',\n",
    "              '2017-q3_trip_history_data.csv', '2017-q4_trip_history_data.csv']"
   ]
  },
  {
   "cell_type": "markdown",
   "metadata": {},
   "source": [
    "# 1. collect_data"
   ]
  },
  {
   "cell_type": "markdown",
   "metadata": {},
   "source": [
    "**numpy**"
   ]
  },
  {
   "cell_type": "code",
   "execution_count": 10,
   "metadata": {},
   "outputs": [],
   "source": [
    "data_arr_list = []\n",
    "for file in data_files:\n",
    "    full_path = os.path.join(path, file)\n",
    "#     print(full_path)\n",
    "    data_arr = np.loadtxt(full_path, delimiter=',', dtype='str', skiprows=1)\n",
    "    data_arr_list.append(data_arr)    "
   ]
  },
  {
   "cell_type": "markdown",
   "metadata": {},
   "source": [
    "note:\n",
    "```python\n",
    "data_arr = np.loadtxt(full_path, delimiter=',', dtype='str', skiprows=1)\n",
    "```\n",
    "> if no dtype='str', data type will be float by default.\n",
    "\n",
    "```\n",
    "ValueError: could not convert string to float: '\"Duration'\n",
    "```"
   ]
  },
  {
   "cell_type": "markdown",
   "metadata": {},
   "source": [
    "**pandas**"
   ]
  },
  {
   "cell_type": "code",
   "execution_count": 17,
   "metadata": {},
   "outputs": [
    {
     "name": "stderr",
     "output_type": "stream",
     "text": [
      "/usr/local/Cellar/python3/3.6.3/Frameworks/Python.framework/Versions/3.6/lib/python3.6/site-packages/IPython/core/interactiveshell.py:2728: DtypeWarning: Columns (3,5) have mixed types. Specify dtype option on import or set low_memory=False.\n",
      "  interactivity=interactivity, compiler=compiler, result=result)\n"
     ]
    }
   ],
   "source": [
    "data_df_list = []\n",
    "for file in data_files:\n",
    "    full_path = os.path.join(path, file)\n",
    "    data_df = pd.read_csv(full_path)\n",
    "    data_df_list.append(data_df)"
   ]
  },
  {
   "cell_type": "code",
   "execution_count": 19,
   "metadata": {},
   "outputs": [
    {
     "data": {
      "text/html": [
       "<div>\n",
       "<style scoped>\n",
       "    .dataframe tbody tr th:only-of-type {\n",
       "        vertical-align: middle;\n",
       "    }\n",
       "\n",
       "    .dataframe tbody tr th {\n",
       "        vertical-align: top;\n",
       "    }\n",
       "\n",
       "    .dataframe thead th {\n",
       "        text-align: right;\n",
       "    }\n",
       "</style>\n",
       "<table border=\"1\" class=\"dataframe\">\n",
       "  <thead>\n",
       "    <tr style=\"text-align: right;\">\n",
       "      <th></th>\n",
       "      <th>Duration (ms)</th>\n",
       "      <th>Start date</th>\n",
       "      <th>End date</th>\n",
       "      <th>Start station number</th>\n",
       "      <th>Start station</th>\n",
       "      <th>End station number</th>\n",
       "      <th>End station</th>\n",
       "      <th>Bike number</th>\n",
       "      <th>Member type</th>\n",
       "    </tr>\n",
       "  </thead>\n",
       "  <tbody>\n",
       "    <tr>\n",
       "      <th>0</th>\n",
       "      <td>221834</td>\n",
       "      <td>2017-01-01 00:00:41</td>\n",
       "      <td>2017-01-01 00:04:23</td>\n",
       "      <td>31634</td>\n",
       "      <td>3rd &amp; Tingey St SE</td>\n",
       "      <td>31208</td>\n",
       "      <td>M St &amp; New Jersey Ave SE</td>\n",
       "      <td>W00869</td>\n",
       "      <td>Member</td>\n",
       "    </tr>\n",
       "    <tr>\n",
       "      <th>1</th>\n",
       "      <td>1676854</td>\n",
       "      <td>2017-01-01 00:06:53</td>\n",
       "      <td>2017-01-01 00:34:49</td>\n",
       "      <td>31258</td>\n",
       "      <td>Lincoln Memorial</td>\n",
       "      <td>31270</td>\n",
       "      <td>8th &amp; D St NW</td>\n",
       "      <td>W00894</td>\n",
       "      <td>Casual</td>\n",
       "    </tr>\n",
       "    <tr>\n",
       "      <th>2</th>\n",
       "      <td>1356956</td>\n",
       "      <td>2017-01-01 00:07:10</td>\n",
       "      <td>2017-01-01 00:29:47</td>\n",
       "      <td>31289</td>\n",
       "      <td>Henry Bacon Dr &amp; Lincoln Memorial Circle NW</td>\n",
       "      <td>31222</td>\n",
       "      <td>New York Ave &amp; 15th St NW</td>\n",
       "      <td>W21945</td>\n",
       "      <td>Casual</td>\n",
       "    </tr>\n",
       "    <tr>\n",
       "      <th>3</th>\n",
       "      <td>1327901</td>\n",
       "      <td>2017-01-01 00:07:22</td>\n",
       "      <td>2017-01-01 00:29:30</td>\n",
       "      <td>31289</td>\n",
       "      <td>Henry Bacon Dr &amp; Lincoln Memorial Circle NW</td>\n",
       "      <td>31222</td>\n",
       "      <td>New York Ave &amp; 15th St NW</td>\n",
       "      <td>W20012</td>\n",
       "      <td>Casual</td>\n",
       "    </tr>\n",
       "    <tr>\n",
       "      <th>4</th>\n",
       "      <td>1636768</td>\n",
       "      <td>2017-01-01 00:07:36</td>\n",
       "      <td>2017-01-01 00:34:52</td>\n",
       "      <td>31258</td>\n",
       "      <td>Lincoln Memorial</td>\n",
       "      <td>31270</td>\n",
       "      <td>8th &amp; D St NW</td>\n",
       "      <td>W22786</td>\n",
       "      <td>Casual</td>\n",
       "    </tr>\n",
       "  </tbody>\n",
       "</table>\n",
       "</div>"
      ],
      "text/plain": [
       "   Duration (ms)           Start date             End date  \\\n",
       "0         221834  2017-01-01 00:00:41  2017-01-01 00:04:23   \n",
       "1        1676854  2017-01-01 00:06:53  2017-01-01 00:34:49   \n",
       "2        1356956  2017-01-01 00:07:10  2017-01-01 00:29:47   \n",
       "3        1327901  2017-01-01 00:07:22  2017-01-01 00:29:30   \n",
       "4        1636768  2017-01-01 00:07:36  2017-01-01 00:34:52   \n",
       "\n",
       "   Start station number                                Start station  \\\n",
       "0                 31634                           3rd & Tingey St SE   \n",
       "1                 31258                             Lincoln Memorial   \n",
       "2                 31289  Henry Bacon Dr & Lincoln Memorial Circle NW   \n",
       "3                 31289  Henry Bacon Dr & Lincoln Memorial Circle NW   \n",
       "4                 31258                             Lincoln Memorial   \n",
       "\n",
       "   End station number                End station Bike number Member type  \n",
       "0               31208   M St & New Jersey Ave SE      W00869      Member  \n",
       "1               31270              8th & D St NW      W00894      Casual  \n",
       "2               31222  New York Ave & 15th St NW      W21945      Casual  \n",
       "3               31222  New York Ave & 15th St NW      W20012      Casual  \n",
       "4               31270              8th & D St NW      W22786      Casual  "
      ]
     },
     "execution_count": 19,
     "metadata": {},
     "output_type": "execute_result"
    }
   ],
   "source": [
    "data_df_list[0].head()"
   ]
  },
  {
   "cell_type": "code",
   "execution_count": 28,
   "metadata": {},
   "outputs": [
    {
     "data": {
      "text/plain": [
       "Duration (ms)            int64\n",
       "Start date              object\n",
       "End date                object\n",
       "Start station number     int64\n",
       "Start station           object\n",
       "End station number       int64\n",
       "End station             object\n",
       "Bike number             object\n",
       "Member type             object\n",
       "dtype: object"
      ]
     },
     "execution_count": 28,
     "metadata": {},
     "output_type": "execute_result"
    }
   ],
   "source": [
    "data_df_list[0].dtypes"
   ]
  },
  {
   "cell_type": "markdown",
   "metadata": {},
   "source": [
    "# 2. process data"
   ]
  },
  {
   "cell_type": "markdown",
   "metadata": {},
   "source": [
    "**numpy**"
   ]
  },
  {
   "cell_type": "code",
   "execution_count": 20,
   "metadata": {},
   "outputs": [],
   "source": [
    "duration_in_min_list = []\n",
    "for data_arr in data_arr_list:\n",
    "    duration_str_col = data_arr[:,0]\n",
    "    duration_in_ms = np.core.defchararray.replace(duration_str_col,'\"','')\n",
    "    duration_in_min = duration_in_ms.astype('float') / 1000 / 60\n",
    "    duration_in_min_list.append(duration_in_min)"
   ]
  },
  {
   "cell_type": "code",
   "execution_count": 21,
   "metadata": {},
   "outputs": [
    {
     "data": {
      "text/plain": [
       "array([ 3.69723333, 27.94756667, 22.61593333, ...,  7.05823333,\n",
       "       17.48126667,  3.72415   ])"
      ]
     },
     "execution_count": 21,
     "metadata": {},
     "output_type": "execute_result"
    }
   ],
   "source": [
    "duration_in_min_list[0]"
   ]
  },
  {
   "cell_type": "markdown",
   "metadata": {},
   "source": [
    "**pandas**"
   ]
  },
  {
   "cell_type": "code",
   "execution_count": 32,
   "metadata": {},
   "outputs": [
    {
     "data": {
      "text/plain": [
       "0     3.697233\n",
       "1    27.947567\n",
       "2    22.615933\n",
       "3    22.131683\n",
       "4    27.279467\n",
       "Name: Duration (ms), dtype: float64"
      ]
     },
     "execution_count": 32,
     "metadata": {},
     "output_type": "execute_result"
    }
   ],
   "source": [
    "duration_min = data_df_list[0]['Duration (ms)']/1000/60\n",
    "duration_min.head()"
   ]
  },
  {
   "cell_type": "markdown",
   "metadata": {},
   "source": [
    "# 3. analyze_data"
   ]
  },
  {
   "cell_type": "markdown",
   "metadata": {},
   "source": [
    "**numpy**"
   ]
  },
  {
   "cell_type": "code",
   "execution_count": 33,
   "metadata": {},
   "outputs": [
    {
     "name": "stdout",
     "output_type": "stream",
     "text": [
      "第1季度的平均骑行时间：16.85分钟\n",
      "第2季度的平均骑行时间：21.21分钟\n",
      "第3季度的平均骑行时间：20.53分钟\n",
      "第4季度的平均骑行时间：16.56分钟\n"
     ]
    }
   ],
   "source": [
    "duration_mean_list = []\n",
    "for i, duration in enumerate(duration_in_min_list):\n",
    "    duration_mean = np.mean(duration)\n",
    "    print('第{}季度的平均骑行时间：{:.2f}分钟'.format(i + 1, duration_mean))\n",
    "    duration_mean_list.append(duration_mean)"
   ]
  },
  {
   "cell_type": "markdown",
   "metadata": {},
   "source": [
    "**pandas**"
   ]
  },
  {
   "cell_type": "code",
   "execution_count": 35,
   "metadata": {},
   "outputs": [
    {
     "data": {
      "text/plain": [
       "count    646586.000000\n",
       "mean         16.854198\n",
       "std          34.824587\n",
       "min           1.000067\n",
       "25%           6.220871\n",
       "50%          10.439650\n",
       "75%          17.740804\n",
       "max        1434.442367\n",
       "Name: Duration (ms), dtype: float64"
      ]
     },
     "execution_count": 35,
     "metadata": {},
     "output_type": "execute_result"
    }
   ],
   "source": [
    "duration_min.describe()"
   ]
  },
  {
   "cell_type": "code",
   "execution_count": 37,
   "metadata": {},
   "outputs": [
    {
     "data": {
      "text/plain": [
       "16.85419817136982"
      ]
     },
     "execution_count": 37,
     "metadata": {},
     "output_type": "execute_result"
    }
   ],
   "source": [
    "duration_min.mean() #第1季度的平均骑行时间"
   ]
  },
  {
   "cell_type": "code",
   "execution_count": 41,
   "metadata": {},
   "outputs": [
    {
     "name": "stdout",
     "output_type": "stream",
     "text": [
      "第1季度的平均骑行时间：16.85分钟\n",
      "第2季度的平均骑行时间：21.21分钟\n",
      "第3季度的平均骑行时间：20.53分钟\n",
      "第4季度的平均骑行时间：16.56分钟\n"
     ]
    }
   ],
   "source": [
    "mean_list = []\n",
    "for i, data_df in enumerate(data_df_list):\n",
    "    duration_min_mean = (data_df['Duration (ms)']/1000/60).mean()\n",
    "    mean_list.append(duration_min_mean)\n",
    "    print('第{}季度的平均骑行时间：{:.2f}分钟'.format(i + 1, duration_min_mean))"
   ]
  },
  {
   "cell_type": "markdown",
   "metadata": {},
   "source": [
    "# 4. show_results"
   ]
  },
  {
   "cell_type": "code",
   "execution_count": 45,
   "metadata": {},
   "outputs": [
    {
     "data": {
      "image/png": "[encoded data removed]",
      "text/plain": [
       "<Figure size 432x288 with 1 Axes>"
      ]
     },
     "metadata": {},
     "output_type": "display_data"
    }
   ],
   "source": [
    "plt.figure()\n",
    "plt.bar(range(len(mean_list)),mean_list)\n",
    "plt.xticks(np.arange(4),['Q1','Q2','Q3','Q4'])\n",
    "plt.tight_layout()"
   ]
  },
  {
   "cell_type": "code",
   "execution_count": null,
   "metadata": {},
   "outputs": [],
   "source": []
  },
  {
   "cell_type": "code",
   "execution_count": null,
   "metadata": {},
   "outputs": [],
   "source": []
  },
  {
   "cell_type": "markdown",
   "metadata": {},
   "source": [
    "```python\n",
    "\"\"\"\n",
    "    明确任务：比较共享单车每个季度的平均骑行时间\n",
    "\"\"\"\n",
    "import os\n",
    "import numpy as np\n",
    "import matplotlib.pyplot as plt\n",
    "\n",
    "data_path = './data/bikeshare'\n",
    "data_filenames = ['2017-q1_trip_history_data.csv', '2017-q2_trip_history_data.csv',\n",
    "                  '2017-q3_trip_history_data.csv', '2017-q4_trip_history_data.csv']\n",
    "\n",
    "\n",
    "def collect_data():\n",
    "    \"\"\"\n",
    "        Step 1: 数据收集\n",
    "    \"\"\"\n",
    "    data_arr_list = []\n",
    "    for data_filename in data_filenames:\n",
    "        data_file = os.path.join(data_path, data_filename)\n",
    "        data_arr = np.loadtxt(data_file, delimiter=',', dtype='str', skiprows=1)\n",
    "        data_arr_list.append(data_arr)\n",
    "    return data_arr_list\n",
    "\n",
    "\n",
    "def process_data(data_arr_list):\n",
    "    \"\"\"\n",
    "        Step 2: 数据处理\n",
    "    \"\"\"\n",
    "    duration_in_min_list = []\n",
    "\n",
    "    for data_arr in data_arr_list:\n",
    "        duration_str_col = data_arr[:, 0]\n",
    "        # 去掉双引号\n",
    "        duration_in_ms = np.core.defchararray.replace(duration_str_col, '\"', '')\n",
    "\n",
    "        # 类型转换\n",
    "        duration_in_min = duration_in_ms.astype('float') / 1000 / 60\n",
    "\n",
    "        duration_in_min_list.append(duration_in_min)\n",
    "\n",
    "    return duration_in_min_list\n",
    "\n",
    "\n",
    "def analyze_data(data_arr_list):\n",
    "    \"\"\"\n",
    "        Step 3: 数据分析\n",
    "    \"\"\"\n",
    "    duration_mean_list = []\n",
    "\n",
    "    for i, duration in enumerate(data_arr_list):\n",
    "        duration_mean = np.mean(duration)\n",
    "        print('第{}季度的平均骑行时间：{:.2f}分钟'.format(i + 1, duration_mean))\n",
    "        duration_mean_list.append(duration_mean)\n",
    "\n",
    "    return duration_mean_list\n",
    "\n",
    "\n",
    "def show_results(duration_mean_list):\n",
    "    \"\"\"\n",
    "        Step 4: 结果展示\n",
    "    \"\"\"\n",
    "    plt.figure()\n",
    "    plt.bar(range(len(duration_mean_list)), duration_mean_list)\n",
    "    plt.show()\n",
    "\n",
    "\n",
    "def main():\n",
    "    \"\"\"\n",
    "        主函数\n",
    "    \"\"\"\n",
    "    # 数据获取\n",
    "    data_arr_list = collect_data()\n",
    "\n",
    "    # 数据处理\n",
    "    duration_ist = process_data(data_arr_list)\n",
    "\n",
    "    # 数据分析\n",
    "    duration_mean_list = analyze_data(duration_ist)\n",
    "\n",
    "    # 结果展示\n",
    "    show_results(duration_mean_list)\n",
    "\n",
    "\n",
    "if __name__ == '__main__':\n",
    "    main()\n",
    "```"
   ]
  },
  {
   "cell_type": "code",
   "execution_count": null,
   "metadata": {},
   "outputs": [],
   "source": []
  }
 ],
 "metadata": {
  "kernelspec": {
   "display_name": "Python 3",
   "language": "python",
   "name": "python3"
  },
  "language_info": {
   "codemirror_mode": {
    "name": "ipython",
    "version": 3
   },
   "file_extension": ".py",
   "mimetype": "text/x-python",
   "name": "python",
   "nbconvert_exporter": "python",
   "pygments_lexer": "ipython3",
   "version": "3.6.3"
  }
 },
 "nbformat": 4,
 "nbformat_minor": 2
}
