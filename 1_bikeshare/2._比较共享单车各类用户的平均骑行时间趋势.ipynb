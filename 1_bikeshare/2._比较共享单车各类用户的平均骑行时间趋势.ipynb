{
 "cells": [
  {
   "cell_type": "code",
   "execution_count": 3,
   "metadata": {},
   "outputs": [],
   "source": [
    "import numpy as np\n",
    "import pandas as pd\n",
    "import matplotlib.pyplot as plt\n",
    "import os"
   ]
  },
  {
   "cell_type": "code",
   "execution_count": 2,
   "metadata": {},
   "outputs": [],
   "source": [
    "path = '../data/bikeshare/'\n",
    "data_files = ['2017-q1_trip_history_data.csv', '2017-q2_trip_history_data.csv',\n",
    "              '2017-q3_trip_history_data.csv', '2017-q4_trip_history_data.csv']"
   ]
  },
  {
   "cell_type": "code",
   "execution_count": 4,
   "metadata": {},
   "outputs": [
    {
     "name": "stderr",
     "output_type": "stream",
     "text": [
      "/usr/local/Cellar/python3/3.6.3/Frameworks/Python.framework/Versions/3.6/lib/python3.6/site-packages/IPython/core/interactiveshell.py:2728: DtypeWarning: Columns (3,5) have mixed types. Specify dtype option on import or set low_memory=False.\n",
      "  interactivity=interactivity, compiler=compiler, result=result)\n"
     ]
    }
   ],
   "source": [
    "data_df_list = []\n",
    "for file in data_files:\n",
    "    full_path = os.path.join(path, file)\n",
    "    data_df = pd.read_csv(full_path)\n",
    "    data_df_list.append(data_df)"
   ]
  },
  {
   "cell_type": "code",
   "execution_count": 6,
   "metadata": {},
   "outputs": [
    {
     "data": {
      "text/html": [
       "<div>\n",
       "<style scoped>\n",
       "    .dataframe tbody tr th:only-of-type {\n",
       "        vertical-align: middle;\n",
       "    }\n",
       "\n",
       "    .dataframe tbody tr th {\n",
       "        vertical-align: top;\n",
       "    }\n",
       "\n",
       "    .dataframe thead th {\n",
       "        text-align: right;\n",
       "    }\n",
       "</style>\n",
       "<table border=\"1\" class=\"dataframe\">\n",
       "  <thead>\n",
       "    <tr style=\"text-align: right;\">\n",
       "      <th></th>\n",
       "      <th>Duration (ms)</th>\n",
       "      <th>Start date</th>\n",
       "      <th>End date</th>\n",
       "      <th>Start station number</th>\n",
       "      <th>Start station</th>\n",
       "      <th>End station number</th>\n",
       "      <th>End station</th>\n",
       "      <th>Bike number</th>\n",
       "      <th>Member type</th>\n",
       "    </tr>\n",
       "  </thead>\n",
       "  <tbody>\n",
       "    <tr>\n",
       "      <th>0</th>\n",
       "      <td>221834</td>\n",
       "      <td>2017-01-01 00:00:41</td>\n",
       "      <td>2017-01-01 00:04:23</td>\n",
       "      <td>31634</td>\n",
       "      <td>3rd &amp; Tingey St SE</td>\n",
       "      <td>31208</td>\n",
       "      <td>M St &amp; New Jersey Ave SE</td>\n",
       "      <td>W00869</td>\n",
       "      <td>Member</td>\n",
       "    </tr>\n",
       "    <tr>\n",
       "      <th>1</th>\n",
       "      <td>1676854</td>\n",
       "      <td>2017-01-01 00:06:53</td>\n",
       "      <td>2017-01-01 00:34:49</td>\n",
       "      <td>31258</td>\n",
       "      <td>Lincoln Memorial</td>\n",
       "      <td>31270</td>\n",
       "      <td>8th &amp; D St NW</td>\n",
       "      <td>W00894</td>\n",
       "      <td>Casual</td>\n",
       "    </tr>\n",
       "    <tr>\n",
       "      <th>2</th>\n",
       "      <td>1356956</td>\n",
       "      <td>2017-01-01 00:07:10</td>\n",
       "      <td>2017-01-01 00:29:47</td>\n",
       "      <td>31289</td>\n",
       "      <td>Henry Bacon Dr &amp; Lincoln Memorial Circle NW</td>\n",
       "      <td>31222</td>\n",
       "      <td>New York Ave &amp; 15th St NW</td>\n",
       "      <td>W21945</td>\n",
       "      <td>Casual</td>\n",
       "    </tr>\n",
       "    <tr>\n",
       "      <th>3</th>\n",
       "      <td>1327901</td>\n",
       "      <td>2017-01-01 00:07:22</td>\n",
       "      <td>2017-01-01 00:29:30</td>\n",
       "      <td>31289</td>\n",
       "      <td>Henry Bacon Dr &amp; Lincoln Memorial Circle NW</td>\n",
       "      <td>31222</td>\n",
       "      <td>New York Ave &amp; 15th St NW</td>\n",
       "      <td>W20012</td>\n",
       "      <td>Casual</td>\n",
       "    </tr>\n",
       "    <tr>\n",
       "      <th>4</th>\n",
       "      <td>1636768</td>\n",
       "      <td>2017-01-01 00:07:36</td>\n",
       "      <td>2017-01-01 00:34:52</td>\n",
       "      <td>31258</td>\n",
       "      <td>Lincoln Memorial</td>\n",
       "      <td>31270</td>\n",
       "      <td>8th &amp; D St NW</td>\n",
       "      <td>W22786</td>\n",
       "      <td>Casual</td>\n",
       "    </tr>\n",
       "  </tbody>\n",
       "</table>\n",
       "</div>"
      ],
      "text/plain": [
       "   Duration (ms)           Start date             End date  \\\n",
       "0         221834  2017-01-01 00:00:41  2017-01-01 00:04:23   \n",
       "1        1676854  2017-01-01 00:06:53  2017-01-01 00:34:49   \n",
       "2        1356956  2017-01-01 00:07:10  2017-01-01 00:29:47   \n",
       "3        1327901  2017-01-01 00:07:22  2017-01-01 00:29:30   \n",
       "4        1636768  2017-01-01 00:07:36  2017-01-01 00:34:52   \n",
       "\n",
       "   Start station number                                Start station  \\\n",
       "0                 31634                           3rd & Tingey St SE   \n",
       "1                 31258                             Lincoln Memorial   \n",
       "2                 31289  Henry Bacon Dr & Lincoln Memorial Circle NW   \n",
       "3                 31289  Henry Bacon Dr & Lincoln Memorial Circle NW   \n",
       "4                 31258                             Lincoln Memorial   \n",
       "\n",
       "   End station number                End station Bike number Member type  \n",
       "0               31208   M St & New Jersey Ave SE      W00869      Member  \n",
       "1               31270              8th & D St NW      W00894      Casual  \n",
       "2               31222  New York Ave & 15th St NW      W21945      Casual  \n",
       "3               31222  New York Ave & 15th St NW      W20012      Casual  \n",
       "4               31270              8th & D St NW      W22786      Casual  "
      ]
     },
     "execution_count": 6,
     "metadata": {},
     "output_type": "execute_result"
    }
   ],
   "source": [
    "data_df_list[0].head()"
   ]
  },
  {
   "cell_type": "code",
   "execution_count": 9,
   "metadata": {},
   "outputs": [
    {
     "data": {
      "text/plain": [
       "Member    528509\n",
       "Casual    118077\n",
       "Name: Member type, dtype: int64"
      ]
     },
     "execution_count": 9,
     "metadata": {},
     "output_type": "execute_result"
    }
   ],
   "source": [
    "data_df_list[0]['Member type'].value_counts()"
   ]
  },
  {
   "cell_type": "code",
   "execution_count": 14,
   "metadata": {},
   "outputs": [
    {
     "data": {
      "text/plain": [
       "528509"
      ]
     },
     "execution_count": 14,
     "metadata": {},
     "output_type": "execute_result"
    }
   ],
   "source": [
    "data_df_list[0]['Member type'][data_df_list[0]['Member type']=='Member'].count()"
   ]
  },
  {
   "cell_type": "code",
   "execution_count": 18,
   "metadata": {},
   "outputs": [],
   "source": [
    "member_count_list = []\n",
    "casual_count_list = []\n",
    "for data_df in data_df_list:\n",
    "    member_count = data_df['Member type'][data_df['Member type']=='Member'].count()\n",
    "    member_count_list.append(member_count)\n",
    "    casual_count = data_df['Member type'][data_df['Member type']=='Casual'].count()\n",
    "    casual_count_list.append(casual_count)"
   ]
  },
  {
   "cell_type": "code",
   "execution_count": 19,
   "metadata": {},
   "outputs": [
    {
     "data": {
      "text/plain": [
       "[528509, 763483, 825333, 659068]"
      ]
     },
     "execution_count": 19,
     "metadata": {},
     "output_type": "execute_result"
    }
   ],
   "source": [
    "member_count_list"
   ]
  },
  {
   "cell_type": "code",
   "execution_count": 20,
   "metadata": {},
   "outputs": [
    {
     "data": {
      "text/plain": [
       "[118077, 341034, 366401, 156302]"
      ]
     },
     "execution_count": 20,
     "metadata": {},
     "output_type": "execute_result"
    }
   ],
   "source": [
    "casual_count_list"
   ]
  },
  {
   "cell_type": "code",
   "execution_count": 21,
   "metadata": {},
   "outputs": [
    {
     "data": {
      "image/png": "[encoded data removed]",
      "text/plain": [
       "<Figure size 432x288 with 1 Axes>"
      ]
     },
     "metadata": {},
     "output_type": "display_data"
    }
   ],
   "source": [
    "plt.figure()\n",
    "plt.plot(member_count_list, color='g', linestyle='-', marker='o', label='Member')\n",
    "plt.plot(casual_count_list, color='r', linestyle='--', marker='*', label='Casual')\n",
    "plt.title('Member vs Casual')\n",
    "plt.xticks(range(0, 4), ['1st', '2nd', '3rd', '4th'], rotation=45)\n",
    "plt.xlabel('Quarter')\n",
    "plt.ylabel('Mean duration (min)')\n",
    "plt.legend(loc='best')\n",
    "plt.tight_layout()"
   ]
  },
  {
   "cell_type": "code",
   "execution_count": null,
   "metadata": {},
   "outputs": [],
   "source": []
  },
  {
   "cell_type": "code",
   "execution_count": null,
   "metadata": {},
   "outputs": [],
   "source": []
  },
  {
   "cell_type": "markdown",
   "metadata": {},
   "source": [
    "```python\n",
    "# 数据源同上\n",
    "\n",
    "\"\"\"\n",
    "    明确任务：比较共享单车用户类别（会员、非会员）的平均骑行时间的趋势\n",
    "\"\"\"\n",
    "import os\n",
    "import numpy as np\n",
    "import matplotlib.pyplot as plt\n",
    "\n",
    "data_path = './data/bikeshare/'\n",
    "data_filenames = ['2017-q1_trip_history_data.csv', '2017-q2_trip_history_data.csv',\n",
    "                  '2017-q3_trip_history_data.csv', '2017-q4_trip_history_data.csv']\n",
    "\n",
    "\n",
    "def collect_and_process_data():\n",
    "    \"\"\"\n",
    "        Step 1+2: 数据获取，数据处理\n",
    "    \"\"\"\n",
    "    cln_data_arr_list = []\n",
    "    for data_filename in data_filenames:\n",
    "        data_file = os.path.join(data_path, data_filename)\n",
    "        data_arr = np.loadtxt(data_file, delimiter=',', dtype='str', skiprows=1)\n",
    "\n",
    "        # 去掉双引号\n",
    "        cln_data_arr = np.core.defchararray.replace(data_arr, '\"', '')\n",
    "        cln_data_arr_list.append(cln_data_arr)\n",
    "\n",
    "    return cln_data_arr_list\n",
    "\n",
    "\n",
    "def get_mean_duraion_by_type(data_arr_list, member_type):\n",
    "    \"\"\"\n",
    "        Step 3: 数据分析\n",
    "    \"\"\"\n",
    "    mean_duration_list = []\n",
    "    for data_arr in data_arr_list:\n",
    "        bool_arr = data_arr[:, -1] == member_type\n",
    "        filtered_arr = data_arr[bool_arr]\n",
    "\n",
    "        mean_duration = np.mean(filtered_arr[:, 0].astype('float') / 1000 / 60)\n",
    "        mean_duration_list.append(mean_duration)\n",
    "\n",
    "    return mean_duration_list\n",
    "\n",
    "\n",
    "def save_and_show_results(member_mean_duration_list, casual_mean_duration_list):\n",
    "    \"\"\"\n",
    "        结果展示\n",
    "    \"\"\"\n",
    "    # 1. 信息输出\n",
    "    for idx in range(len(member_mean_duration_list)):\n",
    "        member_mean_duraion = member_mean_duration_list[idx]\n",
    "        casual_mean_duration = casual_mean_duration_list[idx]\n",
    "        print('第{}个季度，会员平均骑行时长：{:.2f}分钟，非会员平均骑行时长：{:.2f}分钟。'.format(\n",
    "            idx + 1, member_mean_duraion, casual_mean_duration))\n",
    "\n",
    "    # 2. 分析结果保存\n",
    "    # 构造多维数组\n",
    "    mean_duraion_arr = np.array([member_mean_duration_list, casual_mean_duration_list]).transpose()\n",
    "    np.savetxt('./mean_duration.csv', mean_duraion_arr, delimiter=',',\n",
    "               header='Member Mean Duraion, Casual Mean Duraion', fmt='%.4f',\n",
    "               comments='')\n",
    "\n",
    "    # 3. 可视化结果保存\n",
    "    plt.figure()\n",
    "    plt.plot(member_mean_duration_list, color='g', linestyle='-', marker='o', label='Member')\n",
    "    plt.plot(casual_mean_duration_list, color='r', linestyle='--', marker='*', label='Casual')\n",
    "    plt.title('Member vs Casual')\n",
    "    plt.xticks(range(0, 4), ['1st', '2nd', '3rd', '4th'], rotation=45)\n",
    "    plt.xlabel('Quarter')\n",
    "    plt.ylabel('Mean duration (min)')\n",
    "    plt.legend(loc='best')\n",
    "    plt.tight_layout()\n",
    "\n",
    "    plt.savefig('./duration_trend.png')\n",
    "    plt.show()\n",
    "\n",
    "\n",
    "def main():\n",
    "    \"\"\"\n",
    "        主函数\n",
    "    \"\"\"\n",
    "    # 数据获取 + 数据处理\n",
    "    cln_data_arr_list = collect_and_process_data()\n",
    "\n",
    "    # 数据分析\n",
    "    # 会员数据分析\n",
    "    member_mean_duration_list = get_mean_duraion_by_type(cln_data_arr_list, 'Member')\n",
    "    # 非会员数据分析\n",
    "    casual_mean_duration_list = get_mean_duraion_by_type(cln_data_arr_list, 'Casual')\n",
    "\n",
    "    save_and_show_results(member_mean_duration_list, casual_mean_duration_list)\n",
    "\n",
    "\n",
    "if __name__ == '__main__':\n",
    "    main()\n",
    "```"
   ]
  },
  {
   "cell_type": "code",
   "execution_count": null,
   "metadata": {},
   "outputs": [],
   "source": []
  }
 ],
 "metadata": {
  "kernelspec": {
   "display_name": "Python 3",
   "language": "python",
   "name": "python3"
  },
  "language_info": {
   "codemirror_mode": {
    "name": "ipython",
    "version": 3
   },
   "file_extension": ".py",
   "mimetype": "text/x-python",
   "name": "python",
   "nbconvert_exporter": "python",
   "pygments_lexer": "ipython3",
   "version": "3.6.3"
  }
 },
 "nbformat": 4,
 "nbformat_minor": 2
}
