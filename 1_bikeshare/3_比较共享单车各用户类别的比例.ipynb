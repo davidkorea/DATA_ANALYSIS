{
 "cells": [
  {
   "cell_type": "code",
   "execution_count": 4,
   "metadata": {},
   "outputs": [],
   "source": [
    "import pandas as pd\n",
    "import matplotlib.pyplot as plt\n",
    "import os"
   ]
  },
  {
   "cell_type": "code",
   "execution_count": 2,
   "metadata": {},
   "outputs": [],
   "source": [
    "path = '../data/bikeshare/'\n",
    "data_files = ['2017-q1_trip_history_data.csv', '2017-q2_trip_history_data.csv',\n",
    "              '2017-q3_trip_history_data.csv', '2017-q4_trip_history_data.csv']"
   ]
  },
  {
   "cell_type": "code",
   "execution_count": 5,
   "metadata": {},
   "outputs": [
    {
     "name": "stderr",
     "output_type": "stream",
     "text": [
      "/usr/local/Cellar/python3/3.6.3/Frameworks/Python.framework/Versions/3.6/lib/python3.6/site-packages/IPython/core/interactiveshell.py:2728: DtypeWarning: Columns (3,5) have mixed types. Specify dtype option on import or set low_memory=False.\n",
      "  interactivity=interactivity, compiler=compiler, result=result)\n"
     ]
    }
   ],
   "source": [
    "data_df_list = []\n",
    "for file in data_files:\n",
    "    full_path = os.path.join(path, file)\n",
    "    data_df = pd.read_csv(full_path)\n",
    "    data_df_list.append(data_df)"
   ]
  },
  {
   "cell_type": "code",
   "execution_count": 7,
   "metadata": {},
   "outputs": [],
   "source": [
    "all_df = pd.concat?"
   ]
  },
  {
   "cell_type": "code",
   "execution_count": 27,
   "metadata": {},
   "outputs": [],
   "source": [
    "all_df = pd.concat(data_df_list, axis=0)"
   ]
  },
  {
   "cell_type": "code",
   "execution_count": 28,
   "metadata": {},
   "outputs": [
    {
     "name": "stdout",
     "output_type": "stream",
     "text": [
      "<class 'pandas.core.frame.DataFrame'>\n",
      "Int64Index: 3758207 entries, 0 to 815369\n",
      "Data columns (total 9 columns):\n",
      "Duration (ms)           int64\n",
      "Start date              object\n",
      "End date                object\n",
      "Start station number    object\n",
      "Start station           object\n",
      "End station number      object\n",
      "End station             object\n",
      "Bike number             object\n",
      "Member type             object\n",
      "dtypes: int64(1), object(8)\n",
      "memory usage: 286.7+ MB\n"
     ]
    }
   ],
   "source": [
    "all_df.info()"
   ]
  },
  {
   "cell_type": "code",
   "execution_count": 29,
   "metadata": {},
   "outputs": [
    {
     "data": {
      "text/html": [
       "<div>\n",
       "<style scoped>\n",
       "    .dataframe tbody tr th:only-of-type {\n",
       "        vertical-align: middle;\n",
       "    }\n",
       "\n",
       "    .dataframe tbody tr th {\n",
       "        vertical-align: top;\n",
       "    }\n",
       "\n",
       "    .dataframe thead th {\n",
       "        text-align: right;\n",
       "    }\n",
       "</style>\n",
       "<table border=\"1\" class=\"dataframe\">\n",
       "  <thead>\n",
       "    <tr style=\"text-align: right;\">\n",
       "      <th></th>\n",
       "      <th>Duration (ms)</th>\n",
       "      <th>Start date</th>\n",
       "      <th>End date</th>\n",
       "      <th>Start station number</th>\n",
       "      <th>Start station</th>\n",
       "      <th>End station number</th>\n",
       "      <th>End station</th>\n",
       "      <th>Bike number</th>\n",
       "      <th>Member type</th>\n",
       "    </tr>\n",
       "  </thead>\n",
       "  <tbody>\n",
       "    <tr>\n",
       "      <th>0</th>\n",
       "      <td>221834</td>\n",
       "      <td>2017-01-01 00:00:41</td>\n",
       "      <td>2017-01-01 00:04:23</td>\n",
       "      <td>31634</td>\n",
       "      <td>3rd &amp; Tingey St SE</td>\n",
       "      <td>31208</td>\n",
       "      <td>M St &amp; New Jersey Ave SE</td>\n",
       "      <td>W00869</td>\n",
       "      <td>Member</td>\n",
       "    </tr>\n",
       "    <tr>\n",
       "      <th>1</th>\n",
       "      <td>1676854</td>\n",
       "      <td>2017-01-01 00:06:53</td>\n",
       "      <td>2017-01-01 00:34:49</td>\n",
       "      <td>31258</td>\n",
       "      <td>Lincoln Memorial</td>\n",
       "      <td>31270</td>\n",
       "      <td>8th &amp; D St NW</td>\n",
       "      <td>W00894</td>\n",
       "      <td>Casual</td>\n",
       "    </tr>\n",
       "    <tr>\n",
       "      <th>2</th>\n",
       "      <td>1356956</td>\n",
       "      <td>2017-01-01 00:07:10</td>\n",
       "      <td>2017-01-01 00:29:47</td>\n",
       "      <td>31289</td>\n",
       "      <td>Henry Bacon Dr &amp; Lincoln Memorial Circle NW</td>\n",
       "      <td>31222</td>\n",
       "      <td>New York Ave &amp; 15th St NW</td>\n",
       "      <td>W21945</td>\n",
       "      <td>Casual</td>\n",
       "    </tr>\n",
       "    <tr>\n",
       "      <th>3</th>\n",
       "      <td>1327901</td>\n",
       "      <td>2017-01-01 00:07:22</td>\n",
       "      <td>2017-01-01 00:29:30</td>\n",
       "      <td>31289</td>\n",
       "      <td>Henry Bacon Dr &amp; Lincoln Memorial Circle NW</td>\n",
       "      <td>31222</td>\n",
       "      <td>New York Ave &amp; 15th St NW</td>\n",
       "      <td>W20012</td>\n",
       "      <td>Casual</td>\n",
       "    </tr>\n",
       "    <tr>\n",
       "      <th>4</th>\n",
       "      <td>1636768</td>\n",
       "      <td>2017-01-01 00:07:36</td>\n",
       "      <td>2017-01-01 00:34:52</td>\n",
       "      <td>31258</td>\n",
       "      <td>Lincoln Memorial</td>\n",
       "      <td>31270</td>\n",
       "      <td>8th &amp; D St NW</td>\n",
       "      <td>W22786</td>\n",
       "      <td>Casual</td>\n",
       "    </tr>\n",
       "  </tbody>\n",
       "</table>\n",
       "</div>"
      ],
      "text/plain": [
       "   Duration (ms)           Start date             End date  \\\n",
       "0         221834  2017-01-01 00:00:41  2017-01-01 00:04:23   \n",
       "1        1676854  2017-01-01 00:06:53  2017-01-01 00:34:49   \n",
       "2        1356956  2017-01-01 00:07:10  2017-01-01 00:29:47   \n",
       "3        1327901  2017-01-01 00:07:22  2017-01-01 00:29:30   \n",
       "4        1636768  2017-01-01 00:07:36  2017-01-01 00:34:52   \n",
       "\n",
       "  Start station number                                Start station  \\\n",
       "0                31634                           3rd & Tingey St SE   \n",
       "1                31258                             Lincoln Memorial   \n",
       "2                31289  Henry Bacon Dr & Lincoln Memorial Circle NW   \n",
       "3                31289  Henry Bacon Dr & Lincoln Memorial Circle NW   \n",
       "4                31258                             Lincoln Memorial   \n",
       "\n",
       "  End station number                End station Bike number Member type  \n",
       "0              31208   M St & New Jersey Ave SE      W00869      Member  \n",
       "1              31270              8th & D St NW      W00894      Casual  \n",
       "2              31222  New York Ave & 15th St NW      W21945      Casual  \n",
       "3              31222  New York Ave & 15th St NW      W20012      Casual  \n",
       "4              31270              8th & D St NW      W22786      Casual  "
      ]
     },
     "execution_count": 29,
     "metadata": {},
     "output_type": "execute_result"
    }
   ],
   "source": [
    "all_df.head()"
   ]
  },
  {
   "cell_type": "code",
   "execution_count": 30,
   "metadata": {},
   "outputs": [],
   "source": [
    "member_type = all_df['Member type'].value_counts()"
   ]
  },
  {
   "cell_type": "code",
   "execution_count": 31,
   "metadata": {},
   "outputs": [
    {
     "data": {
      "text/plain": [
       "2776393"
      ]
     },
     "execution_count": 31,
     "metadata": {},
     "output_type": "execute_result"
    }
   ],
   "source": [
    "member_type.Member"
   ]
  },
  {
   "cell_type": "code",
   "execution_count": 32,
   "metadata": {},
   "outputs": [
    {
     "data": {
      "text/plain": [
       "981814"
      ]
     },
     "execution_count": 32,
     "metadata": {},
     "output_type": "execute_result"
    }
   ],
   "source": [
    "member_type.Casual"
   ]
  },
  {
   "cell_type": "code",
   "execution_count": 24,
   "metadata": {},
   "outputs": [
    {
     "data": {
      "text/plain": [
       "([<matplotlib.patches.Wedge at 0x16c6c9ac8>,\n",
       "  <matplotlib.patches.Wedge at 0x16c6c9f98>],\n",
       " [Text(-0.749859,0.804805,'Member'), Text(0.749859,-0.804805,'Casual')])"
      ]
     },
     "execution_count": 24,
     "metadata": {},
     "output_type": "execute_result"
    },
    {
     "data": {
      "image/png": "[encoded data removed]",
      "text/plain": [
       "<Figure size 432x288 with 1 Axes>"
      ]
     },
     "metadata": {},
     "output_type": "display_data"
    }
   ],
   "source": [
    "plt.figure()\n",
    "plt.pie([member_type.Member, member_type.Casual],labels=['Member', 'Casual'])"
   ]
  },
  {
   "cell_type": "code",
   "execution_count": 23,
   "metadata": {},
   "outputs": [
    {
     "data": {
      "image/png": "[encoded data removed]",
      "text/plain": [
       "<Figure size 432x288 with 1 Axes>"
      ]
     },
     "metadata": {},
     "output_type": "display_data"
    }
   ],
   "source": [
    "plt.figure()\n",
    "plt.pie([member_type.Member, member_type.Casual], labels=['Member', 'Casual'], \n",
    "        autopct='%.2f%%', shadow=True, explode=(0.05, 0))\n",
    "plt.axis('equal')\n",
    "plt.tight_layout()\n",
    "plt.show()"
   ]
  },
  {
   "cell_type": "code",
   "execution_count": null,
   "metadata": {},
   "outputs": [],
   "source": []
  },
  {
   "cell_type": "markdown",
   "metadata": {},
   "source": [
    "```python\n",
    "# 数据源同上\n",
    "\n",
    "\"\"\"\n",
    "    明确任务：比较全年共享单车用户类别（会员、非会员）的比例\n",
    "\"\"\"\n",
    "import os\n",
    "import numpy as np\n",
    "import matplotlib.pyplot as plt\n",
    "\n",
    "data_path = './data/bikeshare/'\n",
    "data_filenames = ['2017-q1_trip_history_data.csv', '2017-q2_trip_history_data.csv',\n",
    "                  '2017-q3_trip_history_data.csv', '2017-q4_trip_history_data.csv']\n",
    "\n",
    "# 结果保存路径\n",
    "output_path = './output'\n",
    "if not os.path.exists(output_path):\n",
    "    os.makedirs(output_path)\n",
    "\n",
    "\n",
    "def collect_and_process_data():\n",
    "    \"\"\"\n",
    "        Step 1+2: 数据获取，数据处理\n",
    "    \"\"\"\n",
    "    member_type_list = []\n",
    "    for data_filename in data_filenames:\n",
    "        data_file = os.path.join(data_path, data_filename)\n",
    "        data_arr = np.loadtxt(data_file, delimiter=',', dtype='str', skiprows=1)\n",
    "\n",
    "        # 去掉双引号\n",
    "        member_type_col = np.core.defchararray.replace(data_arr[:, -1], '\"', '')\n",
    "        member_type_col = member_type_col.reshape(-1, 1)\n",
    "\n",
    "        member_type_list.append(member_type_col)\n",
    "\n",
    "    year_member_type = np.concatenate(member_type_list)\n",
    "\n",
    "    return year_member_type\n",
    "\n",
    "\n",
    "def analyze_data(year_member_type):\n",
    "    \"\"\"\n",
    "        Step 3: 数据分析\n",
    "    \"\"\"\n",
    "    n_member = year_member_type[year_member_type == 'Member'].shape[0]\n",
    "    n_casual = year_member_type[year_member_type == 'Casual'].shape[0]\n",
    "    n_users = [n_member, n_casual]\n",
    "    return n_users\n",
    "\n",
    "\n",
    "def save_and_show_results(n_users):\n",
    "    \"\"\"\n",
    "        Step 4: 结果展示\n",
    "    \"\"\"\n",
    "    plt.figure()\n",
    "    plt.pie(n_users, labels=['Member', 'Casual'], autopct='%.2f%%', shadow=True, explode=(0.05, 0))\n",
    "    plt.axis('equal')\n",
    "    plt.tight_layout()\n",
    "    plt.savefig(os.path.join(output_path, './piechart.png'))\n",
    "    plt.show()\n",
    "\n",
    "\n",
    "def main():\n",
    "    \"\"\"\n",
    "        主函数\n",
    "    \"\"\"\n",
    "    year_member_type = collect_and_process_data()\n",
    "\n",
    "    n_users = analyze_data(year_member_type)\n",
    "\n",
    "    save_and_show_results(n_users)\n",
    "\n",
    "\n",
    "if __name__ == '__main__':\n",
    "    main()\n",
    "\n",
    "\n",
    "```"
   ]
  }
 ],
 "metadata": {
  "kernelspec": {
   "display_name": "Python 3",
   "language": "python",
   "name": "python3"
  },
  "language_info": {
   "codemirror_mode": {
    "name": "ipython",
    "version": 3
   },
   "file_extension": ".py",
   "mimetype": "text/x-python",
   "name": "python",
   "nbconvert_exporter": "python",
   "pygments_lexer": "ipython3",
   "version": "3.6.3"
  }
 },
 "nbformat": 4,
 "nbformat_minor": 2
}
