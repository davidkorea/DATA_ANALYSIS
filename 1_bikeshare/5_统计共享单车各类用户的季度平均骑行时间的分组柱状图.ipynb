{
 "cells": [
  {
   "cell_type": "code",
   "execution_count": 1,
   "metadata": {},
   "outputs": [],
   "source": [
    "import pandas as pd\n",
    "import matplotlib.pyplot as plt\n",
    "import numpy as np\n",
    "import os"
   ]
  },
  {
   "cell_type": "code",
   "execution_count": 2,
   "metadata": {},
   "outputs": [],
   "source": [
    "path = '../data/bikeshare/'\n",
    "data_files = ['2017-q1_trip_history_data.csv', '2017-q2_trip_history_data.csv',\n",
    "              '2017-q3_trip_history_data.csv', '2017-q4_trip_history_data.csv']"
   ]
  },
  {
   "cell_type": "code",
   "execution_count": 3,
   "metadata": {},
   "outputs": [
    {
     "name": "stderr",
     "output_type": "stream",
     "text": [
      "/usr/local/Cellar/python3/3.6.3/Frameworks/Python.framework/Versions/3.6/lib/python3.6/site-packages/IPython/core/interactiveshell.py:2728: DtypeWarning: Columns (3,5) have mixed types. Specify dtype option on import or set low_memory=False.\n",
      "  interactivity=interactivity, compiler=compiler, result=result)\n"
     ]
    }
   ],
   "source": [
    "data_df_list = []\n",
    "for file in data_files:\n",
    "    full_path = os.path.join(path, file)\n",
    "    data_df = pd.read_csv(full_path)\n",
    "    data_df_list.append(data_df)"
   ]
  },
  {
   "cell_type": "code",
   "execution_count": 4,
   "metadata": {},
   "outputs": [
    {
     "data": {
      "text/html": [
       "<div>\n",
       "<style scoped>\n",
       "    .dataframe tbody tr th:only-of-type {\n",
       "        vertical-align: middle;\n",
       "    }\n",
       "\n",
       "    .dataframe tbody tr th {\n",
       "        vertical-align: top;\n",
       "    }\n",
       "\n",
       "    .dataframe thead th {\n",
       "        text-align: right;\n",
       "    }\n",
       "</style>\n",
       "<table border=\"1\" class=\"dataframe\">\n",
       "  <thead>\n",
       "    <tr style=\"text-align: right;\">\n",
       "      <th></th>\n",
       "      <th>Duration (ms)</th>\n",
       "      <th>Start date</th>\n",
       "      <th>End date</th>\n",
       "      <th>Start station number</th>\n",
       "      <th>Start station</th>\n",
       "      <th>End station number</th>\n",
       "      <th>End station</th>\n",
       "      <th>Bike number</th>\n",
       "      <th>Member type</th>\n",
       "    </tr>\n",
       "  </thead>\n",
       "  <tbody>\n",
       "    <tr>\n",
       "      <th>0</th>\n",
       "      <td>221834</td>\n",
       "      <td>2017-01-01 00:00:41</td>\n",
       "      <td>2017-01-01 00:04:23</td>\n",
       "      <td>31634</td>\n",
       "      <td>3rd &amp; Tingey St SE</td>\n",
       "      <td>31208</td>\n",
       "      <td>M St &amp; New Jersey Ave SE</td>\n",
       "      <td>W00869</td>\n",
       "      <td>Member</td>\n",
       "    </tr>\n",
       "    <tr>\n",
       "      <th>1</th>\n",
       "      <td>1676854</td>\n",
       "      <td>2017-01-01 00:06:53</td>\n",
       "      <td>2017-01-01 00:34:49</td>\n",
       "      <td>31258</td>\n",
       "      <td>Lincoln Memorial</td>\n",
       "      <td>31270</td>\n",
       "      <td>8th &amp; D St NW</td>\n",
       "      <td>W00894</td>\n",
       "      <td>Casual</td>\n",
       "    </tr>\n",
       "    <tr>\n",
       "      <th>2</th>\n",
       "      <td>1356956</td>\n",
       "      <td>2017-01-01 00:07:10</td>\n",
       "      <td>2017-01-01 00:29:47</td>\n",
       "      <td>31289</td>\n",
       "      <td>Henry Bacon Dr &amp; Lincoln Memorial Circle NW</td>\n",
       "      <td>31222</td>\n",
       "      <td>New York Ave &amp; 15th St NW</td>\n",
       "      <td>W21945</td>\n",
       "      <td>Casual</td>\n",
       "    </tr>\n",
       "    <tr>\n",
       "      <th>3</th>\n",
       "      <td>1327901</td>\n",
       "      <td>2017-01-01 00:07:22</td>\n",
       "      <td>2017-01-01 00:29:30</td>\n",
       "      <td>31289</td>\n",
       "      <td>Henry Bacon Dr &amp; Lincoln Memorial Circle NW</td>\n",
       "      <td>31222</td>\n",
       "      <td>New York Ave &amp; 15th St NW</td>\n",
       "      <td>W20012</td>\n",
       "      <td>Casual</td>\n",
       "    </tr>\n",
       "    <tr>\n",
       "      <th>4</th>\n",
       "      <td>1636768</td>\n",
       "      <td>2017-01-01 00:07:36</td>\n",
       "      <td>2017-01-01 00:34:52</td>\n",
       "      <td>31258</td>\n",
       "      <td>Lincoln Memorial</td>\n",
       "      <td>31270</td>\n",
       "      <td>8th &amp; D St NW</td>\n",
       "      <td>W22786</td>\n",
       "      <td>Casual</td>\n",
       "    </tr>\n",
       "  </tbody>\n",
       "</table>\n",
       "</div>"
      ],
      "text/plain": [
       "   Duration (ms)           Start date             End date  \\\n",
       "0         221834  2017-01-01 00:00:41  2017-01-01 00:04:23   \n",
       "1        1676854  2017-01-01 00:06:53  2017-01-01 00:34:49   \n",
       "2        1356956  2017-01-01 00:07:10  2017-01-01 00:29:47   \n",
       "3        1327901  2017-01-01 00:07:22  2017-01-01 00:29:30   \n",
       "4        1636768  2017-01-01 00:07:36  2017-01-01 00:34:52   \n",
       "\n",
       "   Start station number                                Start station  \\\n",
       "0                 31634                           3rd & Tingey St SE   \n",
       "1                 31258                             Lincoln Memorial   \n",
       "2                 31289  Henry Bacon Dr & Lincoln Memorial Circle NW   \n",
       "3                 31289  Henry Bacon Dr & Lincoln Memorial Circle NW   \n",
       "4                 31258                             Lincoln Memorial   \n",
       "\n",
       "   End station number                End station Bike number Member type  \n",
       "0               31208   M St & New Jersey Ave SE      W00869      Member  \n",
       "1               31270              8th & D St NW      W00894      Casual  \n",
       "2               31222  New York Ave & 15th St NW      W21945      Casual  \n",
       "3               31222  New York Ave & 15th St NW      W20012      Casual  \n",
       "4               31270              8th & D St NW      W22786      Casual  "
      ]
     },
     "execution_count": 4,
     "metadata": {},
     "output_type": "execute_result"
    }
   ],
   "source": [
    "data_df_list[0].head()"
   ]
  },
  {
   "cell_type": "code",
   "execution_count": 6,
   "metadata": {},
   "outputs": [],
   "source": [
    "member_dur_list = []\n",
    "casual_dur_list = []\n",
    "for data_df in data_df_list:\n",
    "    mem_mean_dur = (data_df['Duration (ms)'][data_df['Member type']=='Member']/1000/60).mean()\n",
    "    member_dur_list.append(mem_mean_dur)\n",
    "    cas_mean_dur = (data_df['Duration (ms)'][data_df['Member type']=='Casual']/1000/60).mean()\n",
    "    casual_dur_list.append(cas_mean_dur)"
   ]
  },
  {
   "cell_type": "code",
   "execution_count": 7,
   "metadata": {},
   "outputs": [
    {
     "data": {
      "text/plain": [
       "[11.51173404858448, 12.39381192932041, 12.590282204738374, 11.922725559957398]"
      ]
     },
     "execution_count": 7,
     "metadata": {},
     "output_type": "execute_result"
    }
   ],
   "source": [
    "member_dur_list"
   ]
  },
  {
   "cell_type": "code",
   "execution_count": 8,
   "metadata": {},
   "outputs": [
    {
     "data": {
      "text/plain": [
       "[40.76690234804407, 40.93548325768106, 38.42203748802542, 36.12188032420145]"
      ]
     },
     "execution_count": 8,
     "metadata": {},
     "output_type": "execute_result"
    }
   ],
   "source": [
    "casual_dur_list"
   ]
  },
  {
   "cell_type": "code",
   "execution_count": 12,
   "metadata": {},
   "outputs": [
    {
     "data": {
      "text/plain": [
       "[<matplotlib.lines.Line2D at 0x112c34e80>]"
      ]
     },
     "execution_count": 12,
     "metadata": {},
     "output_type": "execute_result"
    },
    {
     "data": {
      "image/png": "[encoded data removed]",
      "text/plain": [
       "<Figure size 432x288 with 1 Axes>"
      ]
     },
     "metadata": {},
     "output_type": "display_data"
    }
   ],
   "source": [
    "plt.figure()\n",
    "plt.plot(member_dur_list)\n",
    "plt.plot(casual_dur_list)"
   ]
  },
  {
   "cell_type": "code",
   "execution_count": 35,
   "metadata": {},
   "outputs": [
    {
     "name": "stderr",
     "output_type": "stream",
     "text": [
      "/usr/local/Cellar/python3/3.6.3/Frameworks/Python.framework/Versions/3.6/lib/python3.6/site-packages/matplotlib/font_manager.py:1328: UserWarning: findfont: Font family ['sans-serif'] not found. Falling back to DejaVu Sans\n",
      "  (prop.get_family(), self.defaultFamily[fontext]))\n"
     ]
    },
    {
     "data": {
      "image/png": "[encoded data removed]",
      "text/plain": [
       "<Figure size 432x288 with 1 Axes>"
      ]
     },
     "metadata": {},
     "output_type": "display_data"
    }
   ],
   "source": [
    "bar_loc = np.arange(4)\n",
    "bar_width = 0.35\n",
    "x_ticks = ['Q{}'.format(i+1) for i in range(4)]\n",
    "plt.figure()\n",
    "plt.bar(bar_loc, member_dur_list, width=bar_width, color='b', alpha=0.7, label='Member')\n",
    "plt.bar(bar_loc+bar_width, casual_dur_list, width=bar_width, color='g', alpha=0.7, label='Casual')\n",
    "plt.xticks(bar_loc+bar_width/2, x_ticks)\n",
    "plt.ylabel('mean dur（min）')\n",
    "plt.title('bar chart')\n",
    "plt.legend(loc='best')\n",
    "\n",
    "plt.tight_layout()"
   ]
  },
  {
   "cell_type": "code",
   "execution_count": null,
   "metadata": {},
   "outputs": [],
   "source": []
  },
  {
   "cell_type": "markdown",
   "metadata": {},
   "source": [
    "```python\n",
    "# 数据源同上\n",
    "\n",
    "\"\"\"\n",
    "    明确任务：绘制不同用户季度平均骑行时间的分组柱状图\n",
    "\"\"\"\n",
    "import os\n",
    "import numpy as np\n",
    "import matplotlib.pyplot as plt\n",
    "from matplotlib.font_manager import FontProperties #针对mac系统\n",
    "\n",
    "# 解决matplotlib中文显示问题，仅适用windows系统\n",
    "plt.rcParams['font.sans-serif'] = ['SimHei']\n",
    "\n",
    "# 解决matplotlib中文显示问题，仅适用mac系统\n",
    "def get_chinese_font():\n",
    "    return FontProperties(fanme='/System/Library/Fonts/PingFang.ttc')\n",
    "\n",
    "data_path = './data/bikeshare/'\n",
    "data_filenames = ['2017-q1_trip_history_data.csv', '2017-q2_trip_history_data.csv',\n",
    "                  '2017-q3_trip_history_data.csv', '2017-q4_trip_history_data.csv']\n",
    "\n",
    "# 结果保存路径\n",
    "output_path = './output'\n",
    "if not os.path.exists(output_path):\n",
    "    os.makedirs(output_path)\n",
    "\n",
    "\n",
    "def collect_process_analyze_data():\n",
    "    \"\"\"\n",
    "        Step 1+2+3: 数据获取，数据处理，数据分析\n",
    "    \"\"\"\n",
    "    member_mean_duration_list = []\n",
    "    casual_mean_duration_list = []\n",
    "\n",
    "    for data_filename in data_filenames:\n",
    "        data_file = os.path.join(data_path, data_filename)\n",
    "        data_arr = np.loadtxt(data_file, delimiter=',', dtype='str', skiprows=1)\n",
    "\n",
    "        # 去掉双引号\n",
    "        # 骑行时间\n",
    "        duration_col = np.core.defchararray.replace(data_arr[:, 0], '\"', '')\n",
    "        duration_col = duration_col.reshape(-1, 1)\n",
    "        # 用户类型\n",
    "        member_type_col = np.core.defchararray.replace(data_arr[:, -1], '\"', '')\n",
    "        member_type_col = member_type_col.reshape(-1, 1)\n",
    "        duration_member_type_arr = np.concatenate([duration_col, member_type_col], axis=1)\n",
    "\n",
    "        # 会员平均骑行时间\n",
    "        member_arr = duration_member_type_arr[duration_member_type_arr[:, 1] == 'Member']\n",
    "        member_mean_duration = np.mean(member_arr[:, 0].astype('float') / 1000 / 60)\n",
    "        member_mean_duration_list.append(member_mean_duration)\n",
    "\n",
    "        # 非会员平均骑行时间\n",
    "        causal_arr = duration_member_type_arr[duration_member_type_arr[:, 1] == 'Casual']\n",
    "        casual_mean_duration = np.mean(causal_arr[:, 0].astype('float') / 1000 / 60)\n",
    "        casual_mean_duration_list.append(casual_mean_duration)\n",
    "\n",
    "    return member_mean_duration_list, casual_mean_duration_list\n",
    "\n",
    "\n",
    "def save_and_show_results(member_mean_duration_list, casual_mean_duration_list):\n",
    "    \"\"\"\n",
    "        Step 4: 结果展示\n",
    "    \"\"\"\n",
    "    bar_locs = np.arange(4)\n",
    "    bar_width = 0.35    # 柱子宽度\n",
    "    xtick_labels = ['第{}季度'.format(i + 1) for i in range(4)]\n",
    "\n",
    "    # xtick_labels = []\n",
    "    # for i in range(4):\n",
    "    #     xtick_labels.append('第{}季度'.format(i + 1))\n",
    "\n",
    "    plt.figure()\n",
    "    plt.bar(bar_locs, member_mean_duration_list, width=bar_width, color='g', alpha=0.7, label='会员')\n",
    "    plt.bar(bar_locs + bar_width, casual_mean_duration_list, width=bar_width, color='r', alpha=0.7, label='非会员')\n",
    "    plt.xticks(bar_locs + bar_width / 2, xtick_labels, rotation=45)\n",
    "    plt.ylabel('平均骑行时间（单位：分钟）')\n",
    "    plt.title('柱状图')\n",
    "    plt.legend(loc='best')\n",
    "\n",
    "    plt.tight_layout()\n",
    "    plt.savefig(os.path.join(output_path, 'group_bar_chart.png'))\n",
    "    plt.show()\n",
    "\n",
    "\n",
    "def main():\n",
    "    \"\"\"\n",
    "        主函数\n",
    "    \"\"\"\n",
    "    # Step 1 + 2 + 3: 数据获取，数据处理，数据分析\n",
    "    member_mean_duration_list, casual_mean_duration_list = collect_process_analyze_data()\n",
    "\n",
    "    save_and_show_results(member_mean_duration_list, casual_mean_duration_list)\n",
    "\n",
    "\n",
    "if __name__ == '__main__':\n",
    "    main()\n",
    "```"
   ]
  },
  {
   "cell_type": "code",
   "execution_count": null,
   "metadata": {},
   "outputs": [],
   "source": []
  }
 ],
 "metadata": {
  "kernelspec": {
   "display_name": "Python 3",
   "language": "python",
   "name": "python3"
  },
  "language_info": {
   "codemirror_mode": {
    "name": "ipython",
    "version": 3
   },
   "file_extension": ".py",
   "mimetype": "text/x-python",
   "name": "python",
   "nbconvert_exporter": "python",
   "pygments_lexer": "ipython3",
   "version": "3.6.3"
  }
 },
 "nbformat": 4,
 "nbformat_minor": 2
}
